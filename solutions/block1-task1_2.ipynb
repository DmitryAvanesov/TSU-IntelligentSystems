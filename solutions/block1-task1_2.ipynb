{
 "cells": [
  {
   "cell_type": "code",
   "execution_count": 6,
   "metadata": {},
   "outputs": [
    {
     "name": "stdout",
     "output_type": "stream",
     "text": [
      "как: 3\n",
      "конфликт: 3\n",
      "неоднократно: 2\n",
      "при: 2\n",
      "выталкивает: 2\n",
      "структурализм: 2\n",
      "искусство: 2\n",
      "мгновенно: 2\n",
      "на: 2\n"
     ]
    }
   ],
   "source": [
    "text = '''\n",
    "Lorem ipsum dolor sit amet, consectetur adipiscing elit. Donec scelerisque sapien eget lectus convallis, ac vestibulum tellus\n",
    "blandit. Vestibulum a risus eget sapien commodo euismod. Morbi et sodales mauris. Phasellus semper sem in dapibus malesuada.\n",
    "Etiam malesuada ut metus ac lacinia. Etiam viverra velit nec lacus vestibulum condimentum. Sed eget hendrerit augue. Donec sed\n",
    "orci ac nisi maximus commodo vel luctus magna. Donec eget finibus magna. Sed vel euismod purus. Orci varius natoque penatibus\n",
    "et magnis dis parturient montes, nascetur ridiculus mus. Mauris nec nunc nec massa pulvinar elementum quis in velit. Aliquam\n",
    "convallis condimentum purus id dignissim. Integer vulputate lacus ac neque mollis hendrerit. Nullam efficitur tellus vitae\n",
    "magna malesuada, ut sodales nisl pellentesque. Nullam luctus lectus id feugiat tristique. Praesent in libero elit. Aliquam nec\n",
    "elit velit. Morbi consequat diam sapien, at auctor dui lacinia ut. Aenean et ultrices sapien. Aenean tellus orci, euismod ut\n",
    "enim in, tempus semper lorem. Sed posuere enim at faucibus commodo. Sed posuere ante vel est semper, quis tincidunt turpis\n",
    "molestie. Ut nec congue dolor. Phasellus ut ante libero. Nunc eleifend cursus erat eget ultrices. Donec bibendum, justo\n",
    "volutpat dictum maximus, turpis nibh volutpat sem, volutpat fermentum elit ex vitae ipsum. Nulla eget lobortis turpis. Quisque\n",
    "sed eros blandit, fermentum velit eget, suscipit ex. Aenean non placerat metus. Suspendisse aliquet tempor commodo. Sed vel\n",
    "dolor sed odio tincidunt rhoncus. Cras faucibus.\n",
    "'''\n",
    "\n",
    "text = \"\"\"В литературе неоднократно описано, как адживика недетерминировано восстанавливает даосизм. Газ, как неоднократно наблюдалось при постоянном воздействии ультрафиолетового облучения, выталкивает структурализм. Ударная волна конфокально преобразует электронный квант. Конфликт, как бы это ни казалось парадоксальным, синхронизует ускоряющийся осциллятор.\n",
    "\n",
    "Искусство категорически понимает под собой структурализм - все дальнейшее далеко выходит за рамки текущего исследования и не будет здесь рассматриваться. Галактика экстремально выталкивает онтологический конфликт. Сомнение, по определению, усиливает предмет деятельности. Отсюда естественно следует, что искусство мгновенно. Принцип восприятия, на первый взгляд, мгновенно облучает конфликт.\n",
    "\n",
    "При облучении инфракрасным лазером сверхпроводник индуцирует изотопный поток, изменяя привычную реальность. Бабувизм реально нейтрализует взрыв. Вихрь, несмотря на внешние воздействия, транспонирует короткоживущий электрон. Концепция отталкивает примитивный фронт. Течение среды поразительно.\"\"\"\n",
    "\n",
    "to_remove = [',', '.']  # Вместо того, чтобы составлять список что удалить, лучше составить список что оставить. Либо re \\w, from string import asciletters\n",
    "\n",
    "for char in to_remove:\n",
    "    text = text.replace(char, '')\n",
    "\n",
    "text = text.lower() \n",
    "words = text.split()\n",
    "amounts = {}\n",
    "\n",
    "for word in words:\n",
    "#     amounts[word] = amounts.get(word, 0) + 1\n",
    "    if word not in amounts:\n",
    "        amounts[word] = 1\n",
    "    else:\n",
    "        amounts[word] += 1\n",
    "\n",
    "# Тут лучше разбить на две инструкции по строке. Просто для читаемости.\n",
    "# amounts = {k: v for k, v in amounts.items() if v > 1}\n",
    "\n",
    "repeating_amounts = ({key: value for key, value in\n",
    "                      sorted(amounts.items(), key=lambda item: item[1], reverse=True)\n",
    "                      if amounts[key] > 1})\n",
    "\n",
    "for key, value in repeating_amounts.items():\n",
    "    print(f'{key}: {value}')"
   ]
  }
 ],
 "metadata": {
  "kernelspec": {
   "display_name": "Python 3",
   "language": "python",
   "name": "python3"
  },
  "language_info": {
   "codemirror_mode": {
    "name": "ipython",
    "version": 3
   },
   "file_extension": ".py",
   "mimetype": "text/x-python",
   "name": "python",
   "nbconvert_exporter": "python",
   "pygments_lexer": "ipython3",
   "version": "3.8.2"
  }
 },
 "nbformat": 4,
 "nbformat_minor": 4
}
