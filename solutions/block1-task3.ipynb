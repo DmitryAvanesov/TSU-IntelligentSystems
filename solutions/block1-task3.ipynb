{
 "cells": [
  {
   "cell_type": "code",
   "execution_count": 191,
   "metadata": {},
   "outputs": [],
   "source": [
    "import numpy as np\n",
    "import matplotlib.pyplot as plt"
   ]
  },
  {
   "cell_type": "code",
   "execution_count": 536,
   "metadata": {},
   "outputs": [
    {
     "name": "stdout",
     "output_type": "stream",
     "text": [
      "1\n",
      "2\n"
     ]
    },
    {
     "data": {
      "image/png": "[encoded data removed]",
      "text/plain": [
       "<Figure size 432x288 with 1 Axes>"
      ]
     },
     "metadata": {
      "needs_background": "light"
     },
     "output_type": "display_data"
    }
   ],
   "source": [
    "number_of_triangles = 3\n",
    "\n",
    "x_points = np.random.rand(number_of_triangles, 3)\n",
    "y_points = np.random.rand(number_of_triangles, 3)\n",
    "\n",
    "x_points = np.array([np.append(cur_points, cur_points[0]) for cur_points in x_points])\n",
    "y_points = np.array([np.append(cur_points, cur_points[0]) for cur_points in y_points])\n",
    "\n",
    "index_first = np.random.randint(number_of_triangles)\n",
    "index_second = np.random.randint(number_of_triangles)\n",
    "\n",
    "while index_first == index_second:\n",
    "    index_second = np.random.randint(number_of_triangles)\n",
    "\n",
    "print(index_first)\n",
    "print(index_second)\n",
    "\n",
    "# finding points where the lines intersect\n",
    "    \n",
    "equations_left = np.array([[[y_points[index_first][i] - y_points[index_first][i + 1], \\\n",
    "                             x_points[index_first][i + 1] - x_points[index_first][i]] \\\n",
    "                            for i in range(3)], \\\n",
    "                           [[y_points[index_second][j] - y_points[index_second][j + 1], \\\n",
    "                             x_points[index_second][j + 1] - x_points[index_second][j]] \\\n",
    "                            for j in range(3)]])\n",
    "\n",
    "equations_right = np.array([[x_points[index_first][i + 1] * y_points[index_first][i] - \\\n",
    "                             x_points[index_first][i] * y_points[index_first][i + 1] \\\n",
    "                            for i in range(3)], \\\n",
    "                           [x_points[index_second][j + 1] * y_points[index_second][j] - \\\n",
    "                             x_points[index_second][j] * y_points[index_second][j + 1] \\\n",
    "                            for j in range(3)]])\n",
    "\n",
    "intersection_points = np.array([np.linalg.solve([equations_left[0][i], equations_left[1][j]], \\\n",
    "                                                [equations_right[0][i], equations_right[1][j]]) \\\n",
    "                                for i in range(3) for j in range(3)])\n",
    "\n",
    "# filtering points that aren't inside line segments (sides of triangles)\n",
    "\n",
    "mask = np.ones(9, dtype=bool)\n",
    "\n",
    "for index, (x, y) in enumerate(intersection_points):    \n",
    "    end_first_left = min(x_points[index_first][index // 3], x_points[index_first][index // 3 + 1])\n",
    "    end_first_right = max(x_points[index_first][index // 3], x_points[index_first][index // 3 + 1])\n",
    "    end_second_left = min(x_points[index_second][index % 3], x_points[index_second][index % 3 + 1])\n",
    "    end_second_right = max(x_points[index_second][index % 3], x_points[index_second][index % 3 + 1])\n",
    "    \n",
    "    if not (end_first_left <= x <= end_first_right and end_second_left <= x <= end_second_right):\n",
    "        mask[index] = False\n",
    "        \n",
    "intersection_points = intersection_points[mask]\n",
    "\n",
    "# sorting the points\n",
    "\n",
    "if len(intersection_points) >= 3:\n",
    "    center = np.array([np.array([point[0] for point in intersection_points]).mean(), \\\n",
    "                       np.array([point[1] for point in intersection_points]).mean()])\n",
    "\n",
    "    arctans = np.array([np.arctan2(intersection_points[i][1] - center[1], \\\n",
    "                                   intersection_points[i][0] - center[0]) \\\n",
    "                        for i in range(len(intersection_points))])\n",
    "\n",
    "    intersection_points = intersection_points[np.argsort(arctans)]\n",
    "\n",
    "    print(arctans)\n",
    "    print(intersection_points)\n",
    "\n",
    "# calculating the area\n",
    "\n",
    "\n",
    "\n",
    "# drawing\n",
    "\n",
    "# for x, y in intersection_points_filtered:\n",
    "#     plt.plot(x, y, marker='o', markersize=5, color='red')\n",
    "\n",
    "ax = plt.gca()\n",
    "   \n",
    "for index, (x_points, y_points) in enumerate(zip(x_points, y_points)):\n",
    "    plt.plot(x_points, y_points, label=f'triangle {index}')\n",
    "    ax.fill(x_points, y_points)\n",
    "    \n",
    "plt.legend()\n",
    "\n",
    "if len(intersection_points) >= 3:\n",
    "    plt.plot([point[0] for point in np.append(intersection_points, [intersection_points[0]], axis=0)], \\\n",
    "             [point[1] for point in np.append(intersection_points, [intersection_points[0]], axis=0)])"
   ]
  }
 ],
 "metadata": {
  "kernelspec": {
   "display_name": "Python 3",
   "language": "python",
   "name": "python3"
  },
  "language_info": {
   "codemirror_mode": {
    "name": "ipython",
    "version": 3
   },
   "file_extension": ".py",
   "mimetype": "text/x-python",
   "name": "python",
   "nbconvert_exporter": "python",
   "pygments_lexer": "ipython3",
   "version": "3.7.6"
  }
 },
 "nbformat": 4,
 "nbformat_minor": 4
}
