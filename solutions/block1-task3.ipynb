{
 "cells": [
  {
   "cell_type": "code",
   "execution_count": 1,
   "metadata": {
    "collapsed": true
   },
   "outputs": [],
   "source": [
    "import numpy as np\n",
    "import matplotlib.pyplot as plt"
   ]
  },
  {
   "cell_type": "markdown",
   "metadata": {},
   "source": [
    "# Почитать про метод Монте-Карло"
   ]
  },
  {
   "cell_type": "code",
   "execution_count": 2,
   "metadata": {},
   "outputs": [
    {
     "name": "stdout",
     "output_type": "stream",
     "text": [
      "triangle 1 and triangle 0 have the intersection area of 0.0034491992596192844\n"
     ]
    },
    {
     "data": {
      "image/png": "[encoded data removed]",
      "text/plain": [
       "<Figure size 432x288 with 1 Axes>"
      ]
     },
     "metadata": {
      "needs_background": "light"
     },
     "output_type": "display_data"
    }
   ],
   "source": [
    "# defining triangles\n",
    "\n",
    "number_of_triangles = 3\n",
    "\n",
    "# Я бы не разделял точки по двум переменным, а разделял треугольники triangle1 = [[x1, y1], [x2, y2], [x3, y3] + [x1, y1]]\n",
    "\n",
    "x_points = np.random.rand(number_of_triangles, 3)\n",
    "y_points = np.random.rand(number_of_triangles, 3)\n",
    "\n",
    "x_points = np.array([np.append(cur_points, cur_points[0]) for cur_points in x_points])\n",
    "y_points = np.array([np.append(cur_points, cur_points[0]) for cur_points in y_points])\n",
    "\n",
    "index_first = np.random.randint(number_of_triangles)\n",
    "index_second = np.random.randint(number_of_triangles)\n",
    "\n",
    "while index_first == index_second:\n",
    "    index_second = np.random.randint(number_of_triangles)\n",
    "\n",
    "# finding points where the lines intersect\n",
    "    \n",
    "equations_left = np.array([[[y_points[index_first][i] - y_points[index_first][i + 1], \\\n",
    "                             x_points[index_first][i + 1] - x_points[index_first][i]] \\\n",
    "                            for i in range(3)], \\\n",
    "                           [[y_points[index_second][j] - y_points[index_second][j + 1], \\\n",
    "                             x_points[index_second][j + 1] - x_points[index_second][j]] \\\n",
    "                            for j in range(3)]])\n",
    "\n",
    "equations_right = np.array([[x_points[index_first][i + 1] * y_points[index_first][i] - \\\n",
    "                             x_points[index_first][i] * y_points[index_first][i + 1] \\\n",
    "                            for i in range(3)], \\\n",
    "                           [x_points[index_second][j + 1] * y_points[index_second][j] - \\\n",
    "                             x_points[index_second][j] * y_points[index_second][j + 1] \\\n",
    "                            for j in range(3)]])\n",
    "\n",
    "intersection_points = np.array([np.linalg.solve([equations_left[0][i], equations_left[1][j]], \\\n",
    "                                                [equations_right[0][i], equations_right[1][j]]) \\\n",
    "                                for i in range(3) for j in range(3)]) \n",
    "\n",
    "\n",
    "# filtering points that aren't inside line segments (sides of triangles)\n",
    "\n",
    "mask = np.ones(9, dtype=bool)\n",
    "\n",
    "for index, (x, y) in enumerate(intersection_points):\n",
    "    end_first_left = min(x_points[index_first][index // 3], x_points[index_first][index // 3 + 1])\n",
    "    end_first_right = max(x_points[index_first][index // 3], x_points[index_first][index // 3 + 1])\n",
    "    end_second_left = min(x_points[index_second][index % 3], x_points[index_second][index % 3 + 1])\n",
    "    end_second_right = max(x_points[index_second][index % 3], x_points[index_second][index % 3 + 1])\n",
    "    \n",
    "    if not (end_first_left <= x <= end_first_right and end_second_left <= x <= end_second_right):\n",
    "        mask[index] = False\n",
    "        \n",
    "intersection_points = intersection_points[mask]\n",
    "\n",
    "# adding vertices that are inside a triangle\n",
    "\n",
    "def find_inner_vertices(index_first, index_second, intersection_points):\n",
    "    coefficients = np.array([[(x_points[index_second][1] - x) * \\\n",
    "                          (y_points[index_second][2] - y_points[index_second][1]) - \\\n",
    "                          (x_points[index_second][2] - x_points[index_second][1]) * \\\n",
    "                          (y_points[index_second][1] - y), \\\n",
    "                          (x_points[index_second][2] - x) * \\\n",
    "                          (y_points[index_second][3] - y_points[index_second][2]) - \\\n",
    "                          (x_points[index_second][3] - x_points[index_second][2]) * \\\n",
    "                          (y_points[index_second][2] - y), \\\n",
    "                          (x_points[index_second][3] - x) * \\\n",
    "                          (y_points[index_second][1] - y_points[index_second][3]) - \\\n",
    "                          (x_points[index_second][1] - x_points[index_second][3]) * \\\n",
    "                          (y_points[index_second][3] - y)] \\\n",
    "                     for x, y in zip(x_points[index_first], y_points[index_first])])\n",
    "\n",
    "    for index, cur_coefs in enumerate(coefficients):\n",
    "        if np.all(cur_coefs > 0) or np.all(cur_coefs < 0):\n",
    "            intersection_points = np.concatenate((intersection_points, \\\n",
    "                                                  [[x_points[index_first][index], \\\n",
    "                                                    y_points[index_first][index]]]), axis=0)\n",
    "            \n",
    "    return intersection_points\n",
    "\n",
    "intersection_points = find_inner_vertices(index_first, index_second, intersection_points)\n",
    "intersection_points = find_inner_vertices(index_second, index_first, intersection_points)\n",
    "\n",
    "# sorting the points\n",
    "\n",
    "if len(intersection_points) >= 3:\n",
    "    center = np.array([np.array([point[0] for point in intersection_points]).mean(), \\\n",
    "                       np.array([point[1] for point in intersection_points]).mean()])\n",
    "\n",
    "    arctans = np.array([np.arctan2(intersection_points[i][1] - center[1], \\\n",
    "                                   intersection_points[i][0] - center[0]) \\\n",
    "                        for i in range(len(intersection_points))])\n",
    "\n",
    "    intersection_points = intersection_points[np.argsort(arctans)]   \n",
    "    intersection_points = np.append(intersection_points, [intersection_points[0]], axis=0)\n",
    "\n",
    "# calculating the area\n",
    "\n",
    "intersection_x = [point[0] for point in intersection_points]\n",
    "intersection_y = [point[1] for point in intersection_points]\n",
    "\n",
    "area = 0.5 * np.abs(np.dot(intersection_x, np.roll(intersection_y, 1)) - \\\n",
    "                    np.dot(intersection_y, np.roll(intersection_x, 1)))\n",
    "\n",
    "# output\n",
    "\n",
    "ax = plt.gca()\n",
    "   \n",
    "for index, (x_points, y_points) in enumerate(zip(x_points, y_points)):\n",
    "    plt.plot(x_points, y_points, label=f'triangle {index}')\n",
    "    ax.fill(x_points, y_points)\n",
    "\n",
    "if len(intersection_points) >= 3:\n",
    "    plt.plot(intersection_x, intersection_y)  \n",
    "    ax.fill(intersection_x, intersection_y)\n",
    "    \n",
    "plt.legend()\n",
    "    \n",
    "print(f'triangle {index_first} and triangle {index_second} have the intersection area of {area}')"
   ]
  }
 ],
 "metadata": {
  "kernelspec": {
   "display_name": "Python 3",
   "language": "python",
   "name": "python3"
  },
  "language_info": {
   "codemirror_mode": {
    "name": "ipython",
    "version": 3
   },
   "file_extension": ".py",
   "mimetype": "text/x-python",
   "name": "python",
   "nbconvert_exporter": "python",
   "pygments_lexer": "ipython3",
   "version": "3.7.6"
  }
 },
 "nbformat": 4,
 "nbformat_minor": 4
}
