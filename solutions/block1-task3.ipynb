{
 "cells": [
  {
   "cell_type": "code",
   "execution_count": 191,
   "metadata": {},
   "outputs": [],
   "source": [
    "import numpy as np\n",
    "import matplotlib.pyplot as plt"
   ]
  },
  {
   "cell_type": "code",
   "execution_count": 308,
   "metadata": {},
   "outputs": [
    {
     "name": "stdout",
     "output_type": "stream",
     "text": [
      "1\n",
      "0\n",
      "[]\n"
     ]
    },
    {
     "ename": "IndexError",
     "evalue": "index 0 is out of bounds for axis 0 with size 0",
     "output_type": "error",
     "traceback": [
      "\u001b[1;31m---------------------------------------------------------------------------\u001b[0m",
      "\u001b[1;31mIndexError\u001b[0m                                Traceback (most recent call last)",
      "\u001b[1;32m<ipython-input-308-0191e5e88c9e>\u001b[0m in \u001b[0;36m<module>\u001b[1;34m\u001b[0m\n\u001b[0;32m     70\u001b[0m \u001b[0m_\u001b[0m \u001b[1;33m=\u001b[0m \u001b[0mplt\u001b[0m\u001b[1;33m.\u001b[0m\u001b[0mlegend\u001b[0m\u001b[1;33m(\u001b[0m\u001b[1;33m)\u001b[0m\u001b[1;33m\u001b[0m\u001b[1;33m\u001b[0m\u001b[0m\n\u001b[0;32m     71\u001b[0m \u001b[1;33m\u001b[0m\u001b[0m\n\u001b[1;32m---> 72\u001b[1;33m plt.plot([point[0] for point in np.append(intersection_points_filtered, [intersection_points_filtered[0]], axis=0)], \\\n\u001b[0m\u001b[0;32m     73\u001b[0m         [point[1] for point in np.append(intersection_points_filtered, [intersection_points_filtered[0]], axis=0)])\n",
      "\u001b[1;31mIndexError\u001b[0m: index 0 is out of bounds for axis 0 with size 0"
     ]
    },
    {
     "data": {
      "image/png": "[encoded data removed]",
      "text/plain": [
       "<Figure size 432x288 with 1 Axes>"
      ]
     },
     "metadata": {
      "needs_background": "light"
     },
     "output_type": "display_data"
    }
   ],
   "source": [
    "number_of_triangles = 3\n",
    "\n",
    "x_points = np.random.rand(number_of_triangles, 3)\n",
    "y_points = np.random.rand(number_of_triangles, 3)\n",
    "\n",
    "x_points = np.array([np.append(cur_points, cur_points[0]) for cur_points in x_points])\n",
    "y_points = np.array([np.append(cur_points, cur_points[0]) for cur_points in y_points])\n",
    "\n",
    "index_first = np.random.randint(number_of_triangles)\n",
    "index_second = np.random.randint(number_of_triangles)\n",
    "\n",
    "while index_first == index_second:\n",
    "    index_second = np.random.randint(number_of_triangles)\n",
    "\n",
    "print(index_first)\n",
    "print(index_second)\n",
    "\n",
    "# finding points where the lines intersect\n",
    "    \n",
    "equations_left = np.array([[[y_points[index_first][i] - y_points[index_first][i + 1], \\\n",
    "                             x_points[index_first][i + 1] - x_points[index_first][i]] \\\n",
    "                            for i in range(3)], \\\n",
    "                           [[y_points[index_second][j] - y_points[index_second][j + 1], \\\n",
    "                             x_points[index_second][j + 1] - x_points[index_second][j]] \\\n",
    "                            for j in range(3)]])\n",
    "\n",
    "equations_right = np.array([[x_points[index_first][i + 1] * y_points[index_first][i] - \\\n",
    "                             x_points[index_first][i] * y_points[index_first][i + 1] \\\n",
    "                            for i in range(3)], \\\n",
    "                           [x_points[index_second][j + 1] * y_points[index_second][j] - \\\n",
    "                             x_points[index_second][j] * y_points[index_second][j + 1] \\\n",
    "                            for j in range(3)]])\n",
    "\n",
    "intersection_points = np.array([np.linalg.solve([equations_left[0][i], equations_left[1][j]], \\\n",
    "                                                [equations_right[0][i], equations_right[1][j]]) \\\n",
    "                                for i in range(3) for j in range(3)])\n",
    "\n",
    "# filtering points that aren't inside line segments (sides of triangles)\n",
    "\n",
    "mask = np.ones(9, dtype=bool)\n",
    "\n",
    "for index, (x, y) in enumerate(intersection_points):    \n",
    "    end_first_left = min(x_points[index_first][index // 3], x_points[index_first][index // 3 + 1])\n",
    "    end_first_right = max(x_points[index_first][index // 3], x_points[index_first][index // 3 + 1])\n",
    "    end_second_left = min(x_points[index_second][index % 3], x_points[index_second][index % 3 + 1])\n",
    "    end_second_right = max(x_points[index_second][index % 3], x_points[index_second][index % 3 + 1])\n",
    "    \n",
    "    if not (end_first_left <= x <= end_first_right and end_second_left <= x <= end_second_right):\n",
    "        mask[index] = False\n",
    "        \n",
    "intersection_points_filtered = intersection_points[mask]\n",
    "\n",
    "print([point[0] for point in intersection_points_filtered])\n",
    "\n",
    "# calculating the area\n",
    "\n",
    "\n",
    "\n",
    "# drawing\n",
    "\n",
    "# for x, y in intersection_points_filtered:\n",
    "#     plt.plot(x, y, marker='o', markersize=5, color='red')\n",
    "\n",
    "ax = plt.gca()\n",
    "   \n",
    "for index, (x_points, y_points) in enumerate(zip(x_points, y_points)):\n",
    "    plt.plot(x_points, y_points, label=f'triangle {index}')\n",
    "    ax.fill(x_points, y_points)\n",
    "    \n",
    "_ = plt.legend()\n",
    "\n",
    "plt.plot([point[0] for point in np.append(intersection_points_filtered, [intersection_points_filtered[0]], axis=0)], \\\n",
    "        [point[1] for point in np.append(intersection_points_filtered, [intersection_points_filtered[0]], axis=0)])"
   ]
  }
 ],
 "metadata": {
  "kernelspec": {
   "display_name": "Python 3",
   "language": "python",
   "name": "python3"
  },
  "language_info": {
   "codemirror_mode": {
    "name": "ipython",
    "version": 3
   },
   "file_extension": ".py",
   "mimetype": "text/x-python",
   "name": "python",
   "nbconvert_exporter": "python",
   "pygments_lexer": "ipython3",
   "version": "3.7.6"
  }
 },
 "nbformat": 4,
 "nbformat_minor": 4
}
