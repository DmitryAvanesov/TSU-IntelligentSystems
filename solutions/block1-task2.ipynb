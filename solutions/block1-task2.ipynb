{
 "cells": [
  {
   "cell_type": "code",
   "execution_count": 1,
   "metadata": {},
   "outputs": [],
   "source": [
    "import numpy as np"
   ]
  },
  {
   "cell_type": "code",
   "execution_count": 43,
   "metadata": {},
   "outputs": [
    {
     "name": "stdout",
     "output_type": "stream",
     "text": [
      "['G' 'A' 'A' 'T' 'a' 'g' 'g' 'G' 'C' 'T']\n",
      "['t' 'a' 't' 'g' 'A' 'C' 'A' 'g' 'g' 'g']\n"
     ]
    }
   ],
   "source": [
    "nucleobase = ['A', 'G', 'T', 'C']\n",
    "chromatid_size = 10\n",
    "\n",
    "chromatid_first = np.random.choice(nucleobase, size=chromatid_size)\n",
    "chromatid_second = np.random.choice([n.lower() for n in nucleobase], size=chromatid_size)\n",
    "\n",
    "point_left = np.random.randint(1, chromatid_size - 1)\n",
    "point_right = np.random.randint(1, chromatid_size - 1)\n",
    "\n",
    "while point_left == point_right:\n",
    "    point_right = np.random.randint(1, chromatid_size - 1)\n",
    "    \n",
    "if point_left > point_right:\n",
    "    point_left, point_right = point_right, point_left\n",
    "    \n",
    "chromatid_first[point_left:point_right + 1], \\\n",
    "chromatid_second[point_left:point_right + 1] = \\\n",
    "chromatid_second[point_left:point_right + 1].copy(), \\\n",
    "chromatid_first[point_left:point_right + 1].copy()\n",
    "\n",
    "print(chromatid_first)\n",
    "print(chromatid_second)"
   ]
  }
 ],
 "metadata": {
  "kernelspec": {
   "display_name": "Python 3",
   "language": "python",
   "name": "python3"
  },
  "language_info": {
   "codemirror_mode": {
    "name": "ipython",
    "version": 3
   },
   "file_extension": ".py",
   "mimetype": "text/x-python",
   "name": "python",
   "nbconvert_exporter": "python",
   "pygments_lexer": "ipython3",
   "version": "3.7.6"
  }
 },
 "nbformat": 4,
 "nbformat_minor": 4
}
