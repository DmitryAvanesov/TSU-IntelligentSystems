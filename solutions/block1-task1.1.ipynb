{
 "cells": [
  {
   "cell_type": "code",
   "execution_count": 2,
   "metadata": {},
   "outputs": [],
   "source": [
    "import math"
   ]
  },
  {
   "cell_type": "code",
   "execution_count": 3,
   "metadata": {},
   "outputs": [],
   "source": [
    "def get_prime_numbers(number):\n",
    "    limit = math.floor(math.sqrt(number))\n",
    "    sieve = [True for i in range(limit)]\n",
    "    cur_num = 2\n",
    "    \n",
    "    while cur_num**2 <= limit:\n",
    "        num_to_strike_out = cur_num**2\n",
    "        \n",
    "        while num_to_strike_out < limit:\n",
    "            sieve[num_to_strike_out] = False\n",
    "            num_to_strike_out += cur_num\n",
    "        \n",
    "        cur_num += 1\n",
    "        while not sieve[cur_num]:\n",
    "            cur_num += 1\n",
    "    \n",
    "    prime_numbers = [i for i in range(2, limit) if sieve[i]]\n",
    "    \n",
    "    return prime_numbers    "
   ]
  },
  {
   "cell_type": "code",
   "execution_count": 6,
   "metadata": {},
   "outputs": [
    {
     "name": "stdout",
     "output_type": "stream",
     "text": [
      "The number is 998 (the sum of its prime dividers is 501)\n"
     ]
    }
   ],
   "source": [
    "max_sum = 0\n",
    "result = 100\n",
    "\n",
    "for number in range(100, 1001):\n",
    "    prime_numbers = get_prime_numbers(number)\n",
    "    cur_num = number\n",
    "    factorization = []\n",
    "    \n",
    "    for prime_number in prime_numbers:\n",
    "        while not cur_num % prime_number:\n",
    "            factorization.append(prime_number)\n",
    "            cur_num //= prime_number\n",
    "    \n",
    "    if cur_num != 1:\n",
    "        factorization.append(cur_num)\n",
    "    \n",
    "    cur_sum = sum(factorization)\n",
    "    \n",
    "    if len(factorization) > 1 and cur_sum > max_sum:\n",
    "        max_sum = cur_sum\n",
    "        result = number\n",
    "        \n",
    "print(f'The number is {result} (the sum of its prime dividers is {max_sum})')"
   ]
  }
 ],
 "metadata": {
  "kernelspec": {
   "display_name": "Python 3",
   "language": "python",
   "name": "python3"
  },
  "language_info": {
   "codemirror_mode": {
    "name": "ipython",
    "version": 3
   },
   "file_extension": ".py",
   "mimetype": "text/x-python",
   "name": "python",
   "nbconvert_exporter": "python",
   "pygments_lexer": "ipython3",
   "version": "3.7.6"
  }
 },
 "nbformat": 4,
 "nbformat_minor": 4
}
