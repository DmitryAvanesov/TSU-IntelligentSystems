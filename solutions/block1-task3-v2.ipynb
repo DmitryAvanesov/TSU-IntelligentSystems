{
 "cells": [
  {
   "cell_type": "code",
   "execution_count": 1,
   "metadata": {},
   "outputs": [],
   "source": [
    "import numpy as np\n",
    "import matplotlib.pyplot as plt"
   ]
  },
  {
   "cell_type": "code",
   "execution_count": null,
   "metadata": {},
   "outputs": [],
   "source": [
    "number_of_iterations = 1000000\n",
    "number_of_triangles = 3\n",
    "triangles = np.random.rand(number_of_triangles, 3, 2)\n",
    "points_of_intersection = []\n",
    "\n",
    "for index in range(number_of_iterations):\n",
    "    point = np.array([np.random.rand() for i in range(2)])\n",
    "    \n",
    "    coefficients = np.array([[(triangle[0][0] - point[0]) * \\\n",
    "                              (triangle[1][1] - triangle[0][1]) - \\\n",
    "                              (triangle[1][0] - triangle[0][0]) * \\\n",
    "                              (triangle[0][1] - point[1]), \\\n",
    "                              (triangle[1][0] - point[0]) * \\\n",
    "                              (triangle[2][1] - triangle[1][1]) - \\\n",
    "                              (triangle[2][0] - triangle[1][0]) * \\\n",
    "                              (triangle[1][1] - point[1]), \\\n",
    "                              (triangle[2][0] - point[0]) * \\\n",
    "                              (triangle[0][1] - triangle[2][1]) - \\\n",
    "                              (triangle[0][0] - triangle[2][0]) * \\\n",
    "                              (triangle[2][1] - point[1])] \\\n",
    "                             for triangle in triangles])\n",
    "\n",
    "    number_of_intersections = 0\n",
    "    \n",
    "    for cur_coefs in coefficients:\n",
    "        if np.all(cur_coefs > 0) or np.all(cur_coefs < 0):\n",
    "            number_of_intersections += 1\n",
    "    \n",
    "    if number_of_intersections >= 2:\n",
    "        points_of_intersection.append(point)\n",
    "\n",
    "points_of_intersection = np.array(points_of_intersection)\n",
    "ax = plt.gca()  \n",
    "\n",
    "for triangle in triangles:\n",
    "    ax.fill([point[0] for point in triangle], [point[1] for point in triangle])\n",
    "\n",
    "plt.scatter([point[0] for point in points_of_intersection], \\\n",
    "            [point[1] for point in points_of_intersection], \\\n",
    "            s=1, zorder=2)\n",
    "\n",
    "print(f'The approximate area of intersections is {len(points_of_intersection) / number_of_iterations}')"
   ]
  }
 ],
 "metadata": {
  "kernelspec": {
   "display_name": "Python 3",
   "language": "python",
   "name": "python3"
  },
  "language_info": {
   "codemirror_mode": {
    "name": "ipython",
    "version": 3
   },
   "file_extension": ".py",
   "mimetype": "text/x-python",
   "name": "python",
   "nbconvert_exporter": "python",
   "pygments_lexer": "ipython3",
   "version": "3.7.6"
  }
 },
 "nbformat": 4,
 "nbformat_minor": 4
}
