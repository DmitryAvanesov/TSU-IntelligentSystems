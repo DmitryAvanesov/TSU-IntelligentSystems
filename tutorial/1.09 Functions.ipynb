{
 "cells": [
  {
   "cell_type": "markdown",
   "metadata": {},
   "source": [
    "# Функции\n",
    "\n",
    "Синтаксис объявления функции:\n",
    "```python\n",
    "def function(arg):\n",
    "    do_something\n",
    "    do_something_else\n",
    "    return result\n",
    "```\n",
    "\n",
    "Расммотрим пример:"
   ]
  },
  {
   "cell_type": "code",
   "execution_count": null,
   "metadata": {},
   "outputs": [],
   "source": [
    "def square(x):\n",
    "    return x ** 2\n",
    "\n",
    "squares = []\n",
    "for i in range(1, 11):\n",
    "    squares.append(square(i))\n",
    "    \n",
    "print(f'squares = {squares}')"
   ]
  },
  {
   "cell_type": "markdown",
   "metadata": {},
   "source": [
    "Если аргументов у функции несколько, то они объявляются и передаются через запятую:"
   ]
  },
  {
   "cell_type": "code",
   "execution_count": null,
   "metadata": {},
   "outputs": [],
   "source": [
    "def power(x, y):\n",
    "    return x ** y\n",
    "\n",
    "cubes = []\n",
    "for i in range(1, 11):\n",
    "    cubes.append(power(i, 3))\n",
    "    \n",
    "print(f'cubes = {cubes}')"
   ]
  },
  {
   "cell_type": "markdown",
   "metadata": {},
   "source": [
    "## Аргументы со значениями по умолчанию\n",
    "\n",
    "Аргументы функции могут иметь значения по умолчанию. Значения по умолчанию присваиваются во время объявления функции во время перечисления аргумента:\n",
    "```python\n",
    "def function(arg1, arg2=val2, arg3=val3):\n",
    "    do_something\n",
    "    do_something_else\n",
    "    return result\n",
    "```\n",
    "\n",
    "Если необходимо поменять значение по умолчанию только для arg3, то необязательно передавать все три аргумента. Можно вызвать функцию так: `function(val1, arg3=custom_val3)`. Необязательно даже сохранять порядок для аргуметов со значением по умолчанию: `function(val1, arg3=custom_val3, arg2=custom_val2)`. "
   ]
  },
  {
   "cell_type": "code",
   "execution_count": null,
   "metadata": {},
   "outputs": [],
   "source": [
    "def burger(meat, add=None, cheese=False):\n",
    "    meal = meat\n",
    "    if cheese:\n",
    "        meal += ' чизбургер'\n",
    "    else:\n",
    "        meal += ' бургер'\n",
    "    \n",
    "    if add:\n",
    "        meal += f' с {add}'\n",
    "    \n",
    "    return meal\n",
    "\n",
    "print(f\"burger('Говяжий', 'халапеньо', True) = {burger('Говяжий', 'халапеньо', True)}\")\n",
    "print(f\"burger('Куриный', chesse=True) = {burger('Куриный', cheese=True)}\")\n",
    "print(f\"burger('Куриный', chesse=False, add='беконом') = {burger('Куриный', cheese=False, add='беконом')}\")"
   ]
  },
  {
   "cell_type": "markdown",
   "metadata": {},
   "source": [
    "Единственное правило: **нельзя объявлять неименнованные аргументы после именнованных**."
   ]
  },
  {
   "cell_type": "code",
   "execution_count": null,
   "metadata": {},
   "outputs": [],
   "source": [
    "def burger(add=None, meat, cheese=False):\n",
    "    meal = ''\n",
    "    # Всё-равно не выполнится\n",
    "    return meal\n"
   ]
  },
  {
   "cell_type": "markdown",
   "metadata": {},
   "source": [
    "# Передача списков в функции\n",
    "\n",
    "При передаче в функцию переменной в качестве аргумента, её значение копируется. Внутри функции значение аргумента может изменяться, однако исходной переменной это изменение не коснётся:"
   ]
  },
  {
   "cell_type": "code",
   "execution_count": null,
   "metadata": {},
   "outputs": [],
   "source": [
    "def f(x):\n",
    "    x = x ** 2\n",
    "    return x\n",
    "\n",
    "a = 6\n",
    "print(f'a = {a}')\n",
    "print(f'f(a) = {f(a)}')\n",
    "print(f'a = {a}')"
   ]
  },
  {
   "cell_type": "markdown",
   "metadata": {},
   "source": [
    "С переменными, которые хранятся как ссылки (например, переменные типа `list`) совсем другая история:"
   ]
  },
  {
   "cell_type": "code",
   "execution_count": null,
   "metadata": {},
   "outputs": [],
   "source": [
    "def square_sum(x):\n",
    "    for i in range(len(x)):\n",
    "        x[i] = x[i] ** 2\n",
    "    \n",
    "    return sum(x)\n",
    "    \n",
    "\n",
    "L1 = list(range(1, 6))\n",
    "print(f'L1 (до функции) = {L1}')\n",
    "result = square_sum(L1)\n",
    "\n",
    "print(f'\\nL1 (после функции) = {L1}')\n",
    "print(f'result = {result}')"
   ]
  },
  {
   "cell_type": "markdown",
   "metadata": {},
   "source": [
    "# Функция как объект\n",
    "\n",
    "Функция в python - это объект. Стало быть, её тоже можно передать в качестве аргумента:"
   ]
  },
  {
   "cell_type": "code",
   "execution_count": null,
   "metadata": {},
   "outputs": [],
   "source": [
    "def apply(L, f):\n",
    "    for i in range(len(L)):\n",
    "        L[i] = f(L[i])\n",
    "    \n",
    "    return None\n",
    "\n",
    "def square(x):\n",
    "    return x ** 2\n",
    "\n",
    "L1 = list(range(10))\n",
    "print(f'L1 (до apply) = {L1}')\n",
    "\n",
    "apply(L1, square)\n",
    "print(f'L1 (после apply) = {L1}')"
   ]
  },
  {
   "cell_type": "markdown",
   "metadata": {},
   "source": [
    "# Возвращение функцией нескольких значений\n",
    "\n",
    "Чтобы вернуть несколько значений из функцией достаточно просто перечислить их через запятую после return:"
   ]
  },
  {
   "cell_type": "code",
   "execution_count": null,
   "metadata": {},
   "outputs": [],
   "source": [
    "def square_and_cube(x):\n",
    "    return x ** 2, x ** 3\n",
    "\n",
    "square, cube = square_and_cube(3)\n",
    "print(f'square = {square}, cube = {cube}')"
   ]
  },
  {
   "cell_type": "markdown",
   "metadata": {},
   "source": [
    "За всем этим скрывается упаковка значений в кортеж на этапе return и последующая распаковка на шаге `square, cube = square_and_cube(3)`"
   ]
  },
  {
   "cell_type": "code",
   "execution_count": null,
   "metadata": {},
   "outputs": [],
   "source": [
    "def square_and_cube(x):\n",
    "    return x ** 2, x ** 3\n",
    "\n",
    "print(f'square_and_cube(3) = {square_and_cube(3)}')"
   ]
  },
  {
   "cell_type": "markdown",
   "metadata": {},
   "source": [
    "# Лямбды\n",
    "Python поддерживает анонимные функции (лямбды). Обычно их применяют когда функцию нужно использовать однократно и нет необходимости заводить под неё переменную. Синтаксис:\n",
    "```python\n",
    "f = lambda x: x ** 2\n",
    "```\n",
    "\n",
    "Что эквивалентно\n",
    "```python\n",
    "def f(x):\n",
    "    return x ** 2\n",
    "```"
   ]
  },
  {
   "cell_type": "code",
   "execution_count": null,
   "metadata": {},
   "outputs": [],
   "source": [
    "def apply(L, f):\n",
    "    for i in range(len(L)):\n",
    "        L[i] = f(L[i])\n",
    "    \n",
    "    return None\n",
    "\n",
    "L1 = ['мир', 'труд', 'май']\n",
    "print(f'L1 (до apply) = {L1}')\n",
    "\n",
    "apply(L1, lambda x: x.upper())\n",
    "print(f'L1 (после apply) = {L1}')"
   ]
  },
  {
   "cell_type": "markdown",
   "metadata": {},
   "source": [
    "Лямбды могут принимать и несколько переменных:"
   ]
  },
  {
   "cell_type": "code",
   "execution_count": 1,
   "metadata": {},
   "outputs": [
    {
     "name": "stdout",
     "output_type": "stream",
     "text": [
      "L1 = [1, 2, 3]\n",
      "L2 = [10, 20, 30]\n",
      "L3 = [10, 40, 90]\n"
     ]
    }
   ],
   "source": [
    "def apply(L1, L2, f):\n",
    "    L3 = []\n",
    "    for i in range(len(L1)):\n",
    "        x = f(L1[i], L2[i])\n",
    "        L3.append(x)\n",
    "    \n",
    "    return L3\n",
    "\n",
    "L1 = [1, 2, 3]\n",
    "L2 = [10, 20, 30]\n",
    "L3 = apply(L1, L2, lambda x, y: x * y)\n",
    "\n",
    "print(f'L1 = {L1}')\n",
    "print(f'L2 = {L2}')\n",
    "print(f'L3 = {L3}')"
   ]
  },
  {
   "cell_type": "markdown",
   "metadata": {},
   "source": [
    "# Функции с произвольным количеством аргументов\n",
    "\n",
    "Помните функцию `print`? Сколько аргументов она принимает? Сколько угодно? Ого-го, а как такое сделать самому?\n",
    "\n",
    "## Неименованные аргументы:\n",
    "\n",
    "Если после перечисления аргументов без значений по умолчанию указать аргумент, который начинается со знака `*` (по умолчанию используют имя `*args`), то в функцию можно передать произвольное количество аргументов, которые будут хранится в виде кортежика с именем этого аргумента:"
   ]
  },
  {
   "cell_type": "code",
   "execution_count": 5,
   "metadata": {},
   "outputs": [
    {
     "name": "stdout",
     "output_type": "stream",
     "text": [
      "(1, 2, 3) <class 'tuple'>\n",
      "2 <class 'int'>\n"
     ]
    }
   ],
   "source": [
    "def order_burger(meat, *additions):\n",
    "    order = \n"
   ]
  }
 ],
 "metadata": {
  "kernelspec": {
   "display_name": "Python 3",
   "language": "python",
   "name": "python3"
  },
  "language_info": {
   "codemirror_mode": {
    "name": "ipython",
    "version": 3
   },
   "file_extension": ".py",
   "mimetype": "text/x-python",
   "name": "python",
   "nbconvert_exporter": "python",
   "pygments_lexer": "ipython3",
   "version": "3.6.5"
  }
 },
 "nbformat": 4,
 "nbformat_minor": 2
}
