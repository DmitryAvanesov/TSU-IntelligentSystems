{
 "cells": [
  {
   "cell_type": "code",
   "execution_count": 1,
   "metadata": {},
   "outputs": [],
   "source": [
    "import numpy as np\n",
    "import pandas as pd\n",
    "import seaborn as sns"
   ]
  },
  {
   "cell_type": "markdown",
   "metadata": {},
   "source": [
    "# Применение функций\n",
    "## Метод Series.apply\n",
    "Часто приходится проводить произвольные манипуляции с данными из датасетов для их очистки или получения новых признаков. \n",
    "Для этой задачи отлично подходит метод `Series.apply()`, который применяет некоторую функцию для всех данных в ряду.\n",
    "\n",
    "Например, мы хотим сделать данные независимыми от регистра, чтобы уберечься от опечаток в регистре или несовпадений формата:"
   ]
  },
  {
   "cell_type": "code",
   "execution_count": 2,
   "metadata": {},
   "outputs": [
    {
     "data": {
      "text/plain": [
       "0       яблоко\n",
       "1     апельсин\n",
       "2        банан\n",
       "3    грейпфрут\n",
       "dtype: object"
      ]
     },
     "execution_count": 2,
     "metadata": {},
     "output_type": "execute_result"
    }
   ],
   "source": [
    "fruits = pd.Series(['ЯБЛОКО', 'апельсин', 'Банан', 'ГРейпфрут'])\n",
    "fruits.apply(lambda x: x.lower())"
   ]
  },
  {
   "cell_type": "markdown",
   "metadata": {},
   "source": [
    "Или взять модуль:"
   ]
  },
  {
   "cell_type": "code",
   "execution_count": 3,
   "metadata": {},
   "outputs": [
    {
     "name": "stdout",
     "output_type": "stream",
     "text": [
      "numbers: \n",
      "0   -0.079441\n",
      "1    1.014754\n",
      "2    0.338368\n",
      "3   -1.383956\n",
      "4    0.286156\n",
      "5   -0.292913\n",
      "6    0.737376\n",
      "7    0.299790\n",
      "8   -0.372716\n",
      "9    0.192128\n",
      "dtype: float64\n",
      "\n",
      "numbers.apply(np.abs): \n",
      "0    0.079441\n",
      "1    1.014754\n",
      "2    0.338368\n",
      "3    1.383956\n",
      "4    0.286156\n",
      "5    0.292913\n",
      "6    0.737376\n",
      "7    0.299790\n",
      "8    0.372716\n",
      "9    0.192128\n",
      "dtype: float64\n"
     ]
    }
   ],
   "source": [
    "numbers = pd.Series(np.random.randn(10))\n",
    "print(f'numbers: \\n{numbers}')\n",
    "print(f'\\nnumbers.apply(np.abs): \\n{numbers.apply(np.abs)}')"
   ]
  },
  {
   "cell_type": "markdown",
   "metadata": {},
   "source": [
    "**Важно помнить, что .apply создаёт новый объект, а не изменяет текущий:**"
   ]
  },
  {
   "cell_type": "code",
   "execution_count": 4,
   "metadata": {},
   "outputs": [
    {
     "data": {
      "text/plain": [
       "0       ЯБЛОКО\n",
       "1     апельсин\n",
       "2        Банан\n",
       "3    ГРейпфрут\n",
       "dtype: object"
      ]
     },
     "execution_count": 4,
     "metadata": {},
     "output_type": "execute_result"
    }
   ],
   "source": [
    "fruits = pd.Series(['ЯБЛОКО', 'апельсин', 'Банан', 'ГРейпфрут'])\n",
    "fruits.apply(lambda x: x.lower())\n",
    "\n",
    "fruits"
   ]
  },
  {
   "cell_type": "markdown",
   "metadata": {},
   "source": [
    "Если старые значения больше не требуются можно сделать переприсваивание:"
   ]
  },
  {
   "cell_type": "code",
   "execution_count": 5,
   "metadata": {},
   "outputs": [
    {
     "data": {
      "text/plain": [
       "0       яблоко\n",
       "1     апельсин\n",
       "2        банан\n",
       "3    грейпфрут\n",
       "dtype: object"
      ]
     },
     "execution_count": 5,
     "metadata": {},
     "output_type": "execute_result"
    }
   ],
   "source": [
    "fruits = pd.Series(['ЯБЛОКО', 'апельсин', 'Банан', 'ГРейпфрут'])\n",
    "fruits = fruits.apply(lambda x: x.lower())\n",
    "\n",
    "fruits"
   ]
  },
  {
   "cell_type": "markdown",
   "metadata": {},
   "source": [
    "Или же записать в новую колонку:"
   ]
  },
  {
   "cell_type": "code",
   "execution_count": 6,
   "metadata": {},
   "outputs": [
    {
     "data": {
      "text/html": [
       "<div>\n",
       "<style scoped>\n",
       "    .dataframe tbody tr th:only-of-type {\n",
       "        vertical-align: middle;\n",
       "    }\n",
       "\n",
       "    .dataframe tbody tr th {\n",
       "        vertical-align: top;\n",
       "    }\n",
       "\n",
       "    .dataframe thead th {\n",
       "        text-align: right;\n",
       "    }\n",
       "</style>\n",
       "<table border=\"1\" class=\"dataframe\">\n",
       "  <thead>\n",
       "    <tr style=\"text-align: right;\">\n",
       "      <th></th>\n",
       "      <th>fruits</th>\n",
       "      <th>fruits_uppercase</th>\n",
       "    </tr>\n",
       "  </thead>\n",
       "  <tbody>\n",
       "    <tr>\n",
       "      <th>0</th>\n",
       "      <td>ЯБЛОКО</td>\n",
       "      <td>яблоко</td>\n",
       "    </tr>\n",
       "    <tr>\n",
       "      <th>1</th>\n",
       "      <td>апельсин</td>\n",
       "      <td>апельсин</td>\n",
       "    </tr>\n",
       "    <tr>\n",
       "      <th>2</th>\n",
       "      <td>Банан</td>\n",
       "      <td>банан</td>\n",
       "    </tr>\n",
       "    <tr>\n",
       "      <th>3</th>\n",
       "      <td>ГРейпфрут</td>\n",
       "      <td>грейпфрут</td>\n",
       "    </tr>\n",
       "  </tbody>\n",
       "</table>\n",
       "</div>"
      ],
      "text/plain": [
       "      fruits fruits_uppercase\n",
       "0     ЯБЛОКО           яблоко\n",
       "1   апельсин         апельсин\n",
       "2      Банан            банан\n",
       "3  ГРейпфрут        грейпфрут"
      ]
     },
     "execution_count": 6,
     "metadata": {},
     "output_type": "execute_result"
    }
   ],
   "source": [
    "fruits = pd.Series(['ЯБЛОКО', 'апельсин', 'Банан', 'ГРейпфрут'])\n",
    "df = pd.DataFrame(fruits, columns=['fruits'])\n",
    "df['fruits_uppercase'] = df['fruits'].apply(lambda x: x.lower())\n",
    "\n",
    "df"
   ]
  },
  {
   "cell_type": "markdown",
   "metadata": {},
   "source": [
    "## Метод DataFrame.apply()\n",
    "\n",
    "Метод `apply` применим и к `DataFrame`:"
   ]
  },
  {
   "cell_type": "code",
   "execution_count": 7,
   "metadata": {},
   "outputs": [
    {
     "data": {
      "text/html": [
       "<div>\n",
       "<style scoped>\n",
       "    .dataframe tbody tr th:only-of-type {\n",
       "        vertical-align: middle;\n",
       "    }\n",
       "\n",
       "    .dataframe tbody tr th {\n",
       "        vertical-align: top;\n",
       "    }\n",
       "\n",
       "    .dataframe thead th {\n",
       "        text-align: right;\n",
       "    }\n",
       "</style>\n",
       "<table border=\"1\" class=\"dataframe\">\n",
       "  <thead>\n",
       "    <tr style=\"text-align: right;\">\n",
       "      <th></th>\n",
       "      <th>area</th>\n",
       "      <th>population</th>\n",
       "    </tr>\n",
       "  </thead>\n",
       "  <tbody>\n",
       "    <tr>\n",
       "      <th>AK</th>\n",
       "      <td>1717854</td>\n",
       "      <td>736732</td>\n",
       "    </tr>\n",
       "    <tr>\n",
       "      <th>TX</th>\n",
       "      <td>696241</td>\n",
       "      <td>26956958</td>\n",
       "    </tr>\n",
       "    <tr>\n",
       "      <th>CA</th>\n",
       "      <td>423970</td>\n",
       "      <td>38802500</td>\n",
       "    </tr>\n",
       "    <tr>\n",
       "      <th>MT</th>\n",
       "      <td>381156</td>\n",
       "      <td>1023579</td>\n",
       "    </tr>\n",
       "    <tr>\n",
       "      <th>NM</th>\n",
       "      <td>315194</td>\n",
       "      <td>2085572</td>\n",
       "    </tr>\n",
       "  </tbody>\n",
       "</table>\n",
       "</div>"
      ],
      "text/plain": [
       "       area  population\n",
       "AK  1717854      736732\n",
       "TX   696241    26956958\n",
       "CA   423970    38802500\n",
       "MT   381156     1023579\n",
       "NM   315194     2085572"
      ]
     },
     "execution_count": 7,
     "metadata": {},
     "output_type": "execute_result"
    }
   ],
   "source": [
    "area = pd.Series([1717854, 696241, 423970, 381156, 315194], index=['AK', 'TX', 'CA', 'MT', 'NM'])\n",
    "population = pd.Series([736732, 26956958, 38802500, 1023579, 2085572], index=['AK', 'TX', 'CA', 'MT', 'NM'])\n",
    "\n",
    "states = pd.DataFrame(data={'area': area, 'population': population})\n",
    "states"
   ]
  },
  {
   "cell_type": "code",
   "execution_count": 8,
   "metadata": {},
   "outputs": [
    {
     "data": {
      "text/html": [
       "<div>\n",
       "<style scoped>\n",
       "    .dataframe tbody tr th:only-of-type {\n",
       "        vertical-align: middle;\n",
       "    }\n",
       "\n",
       "    .dataframe tbody tr th {\n",
       "        vertical-align: top;\n",
       "    }\n",
       "\n",
       "    .dataframe thead th {\n",
       "        text-align: right;\n",
       "    }\n",
       "</style>\n",
       "<table border=\"1\" class=\"dataframe\">\n",
       "  <thead>\n",
       "    <tr style=\"text-align: right;\">\n",
       "      <th></th>\n",
       "      <th>area</th>\n",
       "      <th>population</th>\n",
       "    </tr>\n",
       "  </thead>\n",
       "  <tbody>\n",
       "    <tr>\n",
       "      <th>AK</th>\n",
       "      <td>1310.669295</td>\n",
       "      <td>858.330939</td>\n",
       "    </tr>\n",
       "    <tr>\n",
       "      <th>TX</th>\n",
       "      <td>834.410570</td>\n",
       "      <td>5192.009052</td>\n",
       "    </tr>\n",
       "    <tr>\n",
       "      <th>CA</th>\n",
       "      <td>651.129787</td>\n",
       "      <td>6229.165273</td>\n",
       "    </tr>\n",
       "    <tr>\n",
       "      <th>MT</th>\n",
       "      <td>617.378328</td>\n",
       "      <td>1011.720811</td>\n",
       "    </tr>\n",
       "    <tr>\n",
       "      <th>NM</th>\n",
       "      <td>561.421410</td>\n",
       "      <td>1444.150962</td>\n",
       "    </tr>\n",
       "  </tbody>\n",
       "</table>\n",
       "</div>"
      ],
      "text/plain": [
       "           area   population\n",
       "AK  1310.669295   858.330939\n",
       "TX   834.410570  5192.009052\n",
       "CA   651.129787  6229.165273\n",
       "MT   617.378328  1011.720811\n",
       "NM   561.421410  1444.150962"
      ]
     },
     "execution_count": 8,
     "metadata": {},
     "output_type": "execute_result"
    }
   ],
   "source": [
    "area = pd.Series([1717854, 696241, 423970, 381156, 315194], index=['AK', 'TX', 'CA', 'MT', 'NM'])\n",
    "population = pd.Series([736732, 26956958, 38802500, 1023579, 2085572], index=['AK', 'TX', 'CA', 'MT', 'NM'])\n",
    "\n",
    "states = pd.DataFrame(data={'area': area, 'population': population})\n",
    "states.apply(np.sqrt)"
   ]
  },
  {
   "cell_type": "markdown",
   "metadata": {},
   "source": [
    "Функция применяется ко всем колонкам сразу. Однако, такое применение весьма специфично. \n",
    "\n",
    "Поэтому, метод `DataFrame.apply()` используется в другой манере. В качестве параметра можно передать `axis=1`. Это значит, что функция будет применяться не к столбцам, а к строкам.\n",
    "Соответственно, объект, к которому будет применена функция оказывается записью в `DataFrame` представленной `Series`:"
   ]
  },
  {
   "cell_type": "code",
   "execution_count": 9,
   "metadata": {},
   "outputs": [
    {
     "data": {
      "text/plain": [
       "AK     0.428868\n",
       "TX    38.717855\n",
       "CA    91.521806\n",
       "MT     2.685459\n",
       "NM     6.616788\n",
       "dtype: float64"
      ]
     },
     "execution_count": 9,
     "metadata": {},
     "output_type": "execute_result"
    }
   ],
   "source": [
    "area = pd.Series([1717854, 696241, 423970, 381156, 315194], index=['AK', 'TX', 'CA', 'MT', 'NM'])\n",
    "population = pd.Series([736732, 26956958, 38802500, 1023579, 2085572], index=['AK', 'TX', 'CA', 'MT', 'NM'])\n",
    "\n",
    "states = pd.DataFrame(data={'area': area, 'population': population})\n",
    "density = states.apply(lambda row: row['population'] / row['area'], axis=1)\n",
    "\n",
    "density"
   ]
  }
 ],
 "metadata": {
  "kernelspec": {
   "display_name": "Python 3",
   "language": "python",
   "name": "python3"
  },
  "language_info": {
   "codemirror_mode": {
    "name": "ipython",
    "version": 3
   },
   "file_extension": ".py",
   "mimetype": "text/x-python",
   "name": "python",
   "nbconvert_exporter": "python",
   "pygments_lexer": "ipython3",
   "version": "3.8.2"
  }
 },
 "nbformat": 4,
 "nbformat_minor": 2
}
