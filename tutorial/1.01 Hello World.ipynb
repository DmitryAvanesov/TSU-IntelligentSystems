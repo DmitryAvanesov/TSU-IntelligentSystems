{
 "cells": [
  {
   "cell_type": "markdown",
   "metadata": {},
   "source": [
    "# Hello world!\n",
    "\n",
    "По доброй традиции начнём знакомство с Python с написания Hello world!. Для вывода в консоль используется функция `print()`, которая принимает любое количество аргументов и выводит, всё, что возможно вывести:"
   ]
  },
  {
   "cell_type": "code",
   "execution_count": null,
   "metadata": {},
   "outputs": [],
   "source": [
    "print(\"Hello world!\")"
   ]
  },
  {
   "cell_type": "markdown",
   "metadata": {},
   "source": [
    "А вот здесь мы остановимся. \n",
    "\n",
    "Что *именно* мы вывели? В точности то, что и передали в функцию `print()` - некоторый объект, который записывается `\"Hello world!\"`. \n",
    "Этот объект - переменная типа `str`, строка. Строки в python задаются оборавичанием в одинарные, двойные или тройные двойные (да!) кавычки. Но об этом чуть позже.\n",
    "\n",
    "Так же функция `print()` может выводить результаты арифметических операций:"
   ]
  },
  {
   "cell_type": "code",
   "execution_count": null,
   "metadata": {},
   "outputs": [],
   "source": [
    "print(\"2 + 2 = \")\n",
    "print(2 + 2)"
   ]
  },
  {
   "cell_type": "markdown",
   "metadata": {},
   "source": [
    "# Присваивание\n",
    "\n",
    "Переменные в python задаются неявно. Достаточно просто ввести новую переменную, да пусть даже с именем `x`, поставить знак равенства и присвоить ей какое-нибудь значение:"
   ]
  },
  {
   "cell_type": "code",
   "execution_count": null,
   "metadata": {},
   "outputs": [],
   "source": [
    "x = \"Hello world!\"\n",
    "print(x)"
   ]
  },
  {
   "cell_type": "markdown",
   "metadata": {},
   "source": [
    "Снова функция `print()` вывела в точности то, что мы в неё передали. Напомню, что `print()` поддерживает любое количество аргументов. Она будет выводить объекты по порядку, по умолчанию разделяя их пробелами:"
   ]
  },
  {
   "cell_type": "code",
   "execution_count": null,
   "metadata": {},
   "outputs": [],
   "source": [
    "hello = \"Hello\"\n",
    "world = \"world\"\n",
    "bang = \"!\"\n",
    "print(hello, world, bang)"
   ]
  },
  {
   "cell_type": "markdown",
   "metadata": {},
   "source": [
    "А ещё python является динамически типизированным. Поэтому мы можем сначала сделать переменную численной, а потом сразу строковой:"
   ]
  },
  {
   "cell_type": "code",
   "execution_count": null,
   "metadata": {},
   "outputs": [],
   "source": [
    "var = 3.14159\n",
    "print(var)\n",
    "\n",
    "var = 'Hello world!'\n",
    "print(var)"
   ]
  }
 ],
 "metadata": {
  "kernelspec": {
   "display_name": "Python 3",
   "language": "python",
   "name": "python3"
  },
  "language_info": {
   "codemirror_mode": {
    "name": "ipython",
    "version": 3
   },
   "file_extension": ".py",
   "mimetype": "text/x-python",
   "name": "python",
   "nbconvert_exporter": "python",
   "pygments_lexer": "ipython3",
   "version": "3.6.5"
  }
 },
 "nbformat": 4,
 "nbformat_minor": 2
}
