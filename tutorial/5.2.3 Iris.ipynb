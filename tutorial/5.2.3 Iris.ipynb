{
 "cells": [
  {
   "cell_type": "markdown",
   "metadata": {},
   "source": [
    "# Проверка модели\n",
    "## Метрики\n",
    "Для задач бинарной классификации существует огромный набор метрик\n",
    "Главная метрика в задачах классификация это *accuracy*, она же *точность*. Вычисляется как количество правильных ответов к общей доле ответов.\n",
    "\n",
    "\n",
    "## Cross-validation\n",
    "Наиболее популярным и надёжным способом проверки адекватности модели является кросс-валидация. Для этого датасет разбивается на $N$ частей. После разбиения проводят $N$ итераций обучения модели, фиксируя $i$-ую часть в качестве *валидационной выборки*, а *остальные* данные используя в качестве *обучающей выборки* после чего усредняют показатели точности.\n"
   ]
  },
  {
   "cell_type": "markdown",
   "metadata": {},
   "source": [
    "# Датасет Iris (Ирисы Фишера)\n",
    "\n",
    "Ирисы Фишера - ставший классическим датасет для проверки алгоритмов классификации. Он содержит в себе данные о 150 экземлярах цветков ириса трёх видов - Iris Setosa, Iris Verginicam Iris Versicolor. По 50 записей на вид. Записи представляют собой информацию о принадлежности к виду (класс) и четыре признака:\n",
    "* sepal length - длина чашелистика, см\n",
    "* sepal width - ширина чашелистика, см\n",
    "* petal length - длина лепестка, см\n",
    "* petal width - ширина лепестка, см\n",
    "\n",
    "Проверим, как хорошо покажет себя метод kNN на этом наборе данных при помощи кросс-валидации."
   ]
  },
  {
   "cell_type": "markdown",
   "metadata": {},
   "source": [
    "Сделаем подготовительные импорны\n",
    "\n",
    "*Дисклеймер: крайне рекомендуется выполнять следующие ячейки по порядку*"
   ]
  },
  {
   "cell_type": "code",
   "execution_count": null,
   "metadata": {},
   "outputs": [],
   "source": [
    "import matplotlib.pyplot as plt\n",
    "import seaborn as sns; sns.set()\n",
    "import pandas as pd\n",
    "import numpy as np"
   ]
  },
  {
   "cell_type": "markdown",
   "metadata": {},
   "source": [
    "Посмотрим, что содержит в себе датасет iris:"
   ]
  },
  {
   "cell_type": "code",
   "execution_count": null,
   "metadata": {},
   "outputs": [],
   "source": [
    "iris = sns.load_dataset('iris')\n",
    "iris.head()"
   ]
  },
  {
   "cell_type": "code",
   "execution_count": null,
   "metadata": {},
   "outputs": [],
   "source": [
    "def kNN_classifier(x, X_train, Y_train, k=5):\n",
    "    distances = np.sqrt(np.sum((X_train - np.array(x).reshape(1, -1))** 2, axis=1))\n",
    "    rank = np.argsort(distances)\n",
    "    k_neighbours = Y_train[rank[:k]]\n",
    "\n",
    "    estimates = {}\n",
    "\n",
    "    for label in np.unique(k_neighbours):\n",
    "        estimates[label] = np.sum(k_neighbours == label) / k\n",
    "\n",
    "    estimates_rank = sorted(estimates, key=lambda label: estimates[label], reverse=True)\n",
    "    \n",
    "    return estimates_rank[0]"
   ]
  },
  {
   "cell_type": "code",
   "execution_count": null,
   "metadata": {},
   "outputs": [],
   "source": [
    "iris = iris.sample(frac=1)\n",
    "\n",
    "X = iris[['sepal_length', 'sepal_width', 'petal_length', 'petal_width']].values\n",
    "Y = iris['species'].values\n",
    "\n",
    "N = 5\n",
    "bounds = np.linspace(0, iris.shape[0] - 1, N+1, endpoint=True).astype(int)\n",
    "for low, high in zip(bounds[:-1], bounds[1:]):\n",
    "    test_mask = np.zeros_like(Y, dtype=bool)\n",
    "    test_mask[low:high] = True\n",
    "    train_mask = ~test_mask\n",
    "    \n",
    "    X_test, Y_test = X[test_mask, :], Y[test_mask]\n",
    "    X_train, Y_train = X[train_mask, :], Y[train_mask]\n",
    "    \n",
    "    predictions = np.array([kNN_classifier(x, X_train, Y_train, k=10) for x in X_test])"
   ]
  }
 ],
 "metadata": {
  "kernelspec": {
   "display_name": "Python 3",
   "language": "python",
   "name": "python3"
  },
  "language_info": {
   "codemirror_mode": {
    "name": "ipython",
    "version": 3
   },
   "file_extension": ".py",
   "mimetype": "text/x-python",
   "name": "python",
   "nbconvert_exporter": "python",
   "pygments_lexer": "ipython3",
   "version": "3.8.2"
  }
 },
 "nbformat": 4,
 "nbformat_minor": 2
}
