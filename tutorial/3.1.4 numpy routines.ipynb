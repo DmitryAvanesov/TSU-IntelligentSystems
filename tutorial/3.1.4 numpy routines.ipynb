{
 "cells": [
  {
   "cell_type": "code",
   "execution_count": null,
   "metadata": {},
   "outputs": [],
   "source": [
    "import numpy as np"
   ]
  },
  {
   "cell_type": "markdown",
   "metadata": {},
   "source": [
    "# Функционал numpy\n",
    "## Статистические функции:\n",
    "* np.mean() - среднее\n",
    "* np.median() - медианы\n",
    "* np.std() - среднеквадратичное отклонение\n",
    "* np.var() - дисперсия\n",
    "* np.min() - значение минимального элемента\n",
    "* np.max() - значение максимального элемента\n",
    "\n",
    "Все эти функции, кроме `np.median`, могут быть вызваны как метод массива:"
   ]
  },
  {
   "cell_type": "code",
   "execution_count": null,
   "metadata": {},
   "outputs": [],
   "source": [
    "arr = np.random.randn(100)\n",
    "print(f'np.mean(arr) = {np.mean(arr)}')\n",
    "print(f'np.median(arr) = {np.median(arr)}')\n",
    "print(f'np.std(arr) = {np.std(arr)}')\n",
    "print(f'np.var(arr) = {np.var(arr)}')\n",
    "print(f'np.min(arr) = {np.min(arr)}')\n",
    "print(f'np.max(arr) = {np.max(arr)}')\n",
    "\n",
    "print(f'\\nПример вызова как метода массива:')\n",
    "print(f'arr.std() = {arr.std()}')"
   ]
  },
  {
   "cell_type": "markdown",
   "metadata": {},
   "source": [
    "Так же эти функции могут вызываться с указанием измерения и выполняться вдоль указанного измерения. Для этого в функцию передаётся параметр `axis`\n",
    "\n",
    "Например, чтобы выбрать максимальный элемент в каждом столбце. Тогда мы будем двигаться вдоль строк, а строки идут нулевым измерением. значит, `axis=0`:"
   ]
  },
  {
   "cell_type": "code",
   "execution_count": null,
   "metadata": {},
   "outputs": [],
   "source": [
    "arr = np.random.randint(0, 10, size=(5, 5))\n",
    "print(f'arr: \\n{arr}')\n",
    "print(f'\\narr.max(axis=0): \\n{arr.max(axis=0)}')"
   ]
  },
  {
   "cell_type": "markdown",
   "metadata": {},
   "source": [
    "Отдельно рассмотрим функцию `np.percentile`. Она возвращает значение, соответсвующее перцентилю и указывается в процентах\n",
    "\n",
    "Мы знаем, что для нормальной величины ~68.3% значений лежат в интервале $M\\pm\\sigma$. Убедимся:"
   ]
  },
  {
   "cell_type": "code",
   "execution_count": null,
   "metadata": {},
   "outputs": [],
   "source": [
    "sigma = 68.3 / 2\n",
    "for power in range(1, 5):\n",
    "    N = 10 ** power\n",
    "    arr = np.random.randn(N)  # Для randn матожидание = 0, а среднеквадратичное отклонеие = 1\n",
    "    print(f'Для выборки из {N} значений')\n",
    "    print(f'Нижний перцентиль: {np.percentile(arr, 50 - sigma)}')\n",
    "    print(f'Верхний перцентиль: {np.percentile(arr, 50 + sigma)}\\n')"
   ]
  },
  {
   "cell_type": "markdown",
   "metadata": {},
   "source": [
    "## Линейная алгебра\n",
    "Для решения задач линейной алгебры в `numpy` существует модуль `linalg`. Он работае с двухмерными массивами как с матрицами:"
   ]
  },
  {
   "cell_type": "code",
   "execution_count": null,
   "metadata": {},
   "outputs": [],
   "source": [
    "matrix1 = np.array([[1, 1], [2, 2], [3, 3]])\n",
    "matrix2 = np.array([[1, 2, 3], [4, 5, 6]])\n",
    "matrix3 = np.matmul(matrix1, matrix2)\n",
    "\n",
    "print(f'matrix1: \\n{matrix1}')\n",
    "print(f'\\nmatrix2: \\n{matrix2}')\n",
    "print(f'\\nmatrix3: \\n{matrix3}')\n",
    "\n",
    "print(f'\\nА теперь посчитаем определитель третьей матрицы: np.linalg.det(matrix3) = {np.linalg.det(matrix3)}')\n",
    "print('Кто скажет почему он равен нулю - может взять с полки пирожок')                                                                                    "
   ]
  },
  {
   "cell_type": "markdown",
   "metadata": {},
   "source": [
    "## Аппроксимация полиномами\n",
    "Так же модуль позволяет аппроксимировать полиномами различные зависимости. Для демонстрации этого подключим пакет для визуализации matplotlib. О нём мы узнаем из следующих лекций\n",
    "\n",
    "А для самой же аппроксимации используется функция `np.polyfit(x, y, степень)`. Она возвращает коэффициенты при степенных фукнциях начиная со старшей. \n",
    "Так же фукнция `np.poly1d(coeff)` оборачивает эти коэффициенты в функцию. То есть, `f = np.poly1d([1, 2, 3])` эквивалентно: `f = lambda x: x**2 + 2*x + 3`"
   ]
  },
  {
   "cell_type": "code",
   "execution_count": null,
   "metadata": {},
   "outputs": [],
   "source": [
    "import matplotlib.pyplot as plt\n",
    "x = np.arange(-5, 5, 0.2)\n",
    "y = np.sin(x)\n",
    "f = np.poly1d(np.polyfit(x, y, 4))\n",
    "\n",
    "\n",
    "plt.plot(x, f(x), color='red', label='Я аппроксимирующий полином')\n",
    "plt.scatter(x, y, label='А я sin(x)')\n",
    "plt.legend()"
   ]
  }
 ],
 "metadata": {
  "kernelspec": {
   "display_name": "Python 3",
   "language": "python",
   "name": "python3"
  },
  "language_info": {
   "codemirror_mode": {
    "name": "ipython",
    "version": 3
   },
   "file_extension": ".py",
   "mimetype": "text/x-python",
   "name": "python",
   "nbconvert_exporter": "python",
   "pygments_lexer": "ipython3",
   "version": "3.6.5"
  }
 },
 "nbformat": 4,
 "nbformat_minor": 2
}
