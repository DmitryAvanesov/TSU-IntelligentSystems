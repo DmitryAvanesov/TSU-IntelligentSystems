{
 "cells": [
  {
   "cell_type": "markdown",
   "metadata": {},
   "source": [
    "# Условия\n",
    "\n",
    "Не будем перечислять все условные операторы. Они вам и так известны. Отметим лишь специфичные для Python особенности. \n",
    "* Логические **ложь** и **истина** записываются как `False` и `True` соответственно\n",
    "* Логические операторы **\"и\"**, **\"или\"** и **\"не\"** записываются как `and`, `or` и `not` соответственно.\n",
    "* Любое число, не равное `0`, или непустой объект == `True`.\n",
    "* Числа, равные `0`, пустые объекты и значение `None` == `False`"
   ]
  },
  {
   "cell_type": "markdown",
   "metadata": {},
   "source": [
    "# if/else/elif\n",
    "\n",
    "## if\n",
    "Синтаксис инструкции `if`:\n",
    "\n",
    "``` Python\n",
    "if условие:\n",
    "_отступ_ инструкция или ключевое слово pass, используемое в качестве заглушки\n",
    "_отступ_ (ещё инструкции)\n",
    "```\n",
    "\n",
    "В качестве \\_отступа\\_ могут использоваться пробелы или табы. Отступы служат для выделения блока вложенных инструкций (В С/С++ используют фигурные скобки, в паскале пару begin/end, etc.). Получается вот такое принудительное форматирование. Дважды вложенный блок обозначается двумя отступами, трижды - тремя и т.д.\n",
    "\n",
    "``` Python\n",
    "if условие1:\n",
    "_отступ_ инструкция или ключевое слово pass\n",
    "_отступ_ if условие2:\n",
    "_отступ_ _отступ_ инструкции для второго вложенного блока\n",
    "_отступ_ _отступ_ ещё инструкции для второго вложенного блока\n",
    "```\n",
    "\n",
    "В дальнейшем \\_отступ\\_ будет опускаться."
   ]
  },
  {
   "cell_type": "code",
   "execution_count": 1,
   "metadata": {},
   "outputs": [
    {
     "name": "stdout",
     "output_type": "stream",
     "text": [
      "Число 6 положительное\n",
      "А ещё оно чётное.\n",
      "Какая красота!\n"
     ]
    }
   ],
   "source": [
    "a = 6\n",
    "\n",
    "if a > 0:\n",
    "    print(f'Число {a} положительное')\n",
    "    if a % 2 == 0:\n",
    "        print(f'А ещё оно чётное.')\n",
    "        print('Какая красота!')"
   ]
  },
  {
   "cell_type": "markdown",
   "metadata": {},
   "source": [
    "## else\n",
    "\n",
    "Синтаксис использования else\n",
    "``` Python\n",
    "if условие:\n",
    "    инструкция или ключевое слово pass, используемое в качестве заглушки\n",
    "    (ещё инструкции)\n",
    "else:\n",
    "    инструкция или ключевое слово pass, используемое в качестве заглушки\n",
    "    (ещё инструкции) \n",
    "```"
   ]
  },
  {
   "cell_type": "code",
   "execution_count": null,
   "metadata": {},
   "outputs": [],
   "source": [
    "a = 2\n",
    "\n",
    "if a % 2 == 0:\n",
    "    print(f'Число {a} чётное')\n",
    "else:\n",
    "    print(f'Число {a} нечётное')"
   ]
  },
  {
   "cell_type": "markdown",
   "metadata": {},
   "source": [
    "А если вспомнить, что числа, равные `0`, пустые объекты и значение `None` == `False`, то предыдущий пример можно переписать как:"
   ]
  },
  {
   "cell_type": "code",
   "execution_count": null,
   "metadata": {},
   "outputs": [],
   "source": [
    "a = 2\n",
    "\n",
    "if a % 2:\n",
    "    print(f'Число {a} нечётное')\n",
    "else:\n",
    "    print(f'Число {a} чётное')"
   ]
  },
  {
   "cell_type": "markdown",
   "metadata": {},
   "source": [
    "## elif\n",
    "\n",
    "Оператор `switch` в Python отстутсвует. Его роль выполняет инструкция `elif`:\n",
    "``` Python\n",
    "if с1:\n",
    "    инструкция, которая выполнится если с1 и выйдет из инструкции if\n",
    "elif с2:\n",
    "    инструкция, которая выполнится если not с1 и c2 и выйдет из инструкции if\n",
    "***\n",
    "elif сN:\n",
    "    инструкция, которая выполнится если not с1 и not c2 *** и not c{N-1} и сN выйдет из инструкции if\n",
    "else:\n",
    "    инструкция, которая выполнится если not с1 и not c2 *** и not сN\n",
    "```\n",
    "\n",
    "Блок `else` можно опустить, если действие не требуется. \n",
    "\n",
    "Пример применения - симулятор проходной:"
   ]
  },
  {
   "cell_type": "code",
   "execution_count": null,
   "metadata": {},
   "outputs": [],
   "source": [
    "surename = 'Валера'\n",
    "\n",
    "if surename in ['Петров', 'Иванов', 'Сидоров']:\n",
    "    print(f'Проходите, {surename}')\n",
    "elif surename in ['Петрова', 'Иванова', 'Сидорова']:\n",
    "    print(f'Вай-вай-вай, {surename}, ты сегодня прекрасна!')\n",
    "else:\n",
    "    print(f'Так, посмотрим... Нет, {surename}, вас нет в списках.')"
   ]
  },
  {
   "cell_type": "markdown",
   "metadata": {},
   "source": [
    "# Двойные неравенства:\n",
    "\n",
    "Ещё одна особенность Python - возможность записи двойных неравеств вроде `a < x < b`:"
   ]
  },
  {
   "cell_type": "code",
   "execution_count": null,
   "metadata": {},
   "outputs": [],
   "source": [
    "age = 22\n",
    "\n",
    "if 18 <= age <= 27:\n",
    "    print('Пойдёте в армию. Год у вас подходящий.')"
   ]
  },
  {
   "cell_type": "markdown",
   "metadata": {},
   "source": [
    "# Тернарный оператор\n",
    "\n",
    "Тернарный оператор позволяет сократить инструкцию\n",
    "```python\n",
    "if cond:\n",
    "    a = x\n",
    "else:\n",
    "    a = y\n",
    "```\n",
    "\n",
    "до компактной записи\n",
    "```python\n",
    "a = x if cond else y\n",
    "```"
   ]
  },
  {
   "cell_type": "code",
   "execution_count": 1,
   "metadata": {},
   "outputs": [
    {
     "name": "stdout",
     "output_type": "stream",
     "text": [
      "fish = рак\n"
     ]
    }
   ],
   "source": [
    "fish = ''\n",
    "fish = fish if fish else 'рак'\n",
    "\n",
    "print(f'fish = {fish}')"
   ]
  },
  {
   "cell_type": "markdown",
   "metadata": {},
   "source": [
    "# orное присваивание\n",
    "\n",
    "Так же `or` можно использовать для присваивания. Конструкция `a = x or y or z` присваивает `a` первое ненулевое (в смысле условий, см. в начеле) значение слева направо. В случае если все значения оказываются нулевыми - используется самое правое."
   ]
  },
  {
   "cell_type": "code",
   "execution_count": 12,
   "metadata": {},
   "outputs": [
    {
     "name": "stdout",
     "output_type": "stream",
     "text": [
      "0 or False = False\n",
      "False or 0 = 0\n",
      "0 or False or 1 or None = 1\n"
     ]
    }
   ],
   "source": [
    "print(f'0 or False = {0 or False}')\n",
    "print(f'False or 0 = {False or 0}')\n",
    "print(f'0 or False or 1 or None = {0 or False or 1 or None}')"
   ]
  }
 ],
 "metadata": {
  "kernelspec": {
   "display_name": "Python 3",
   "language": "python",
   "name": "python3"
  },
  "language_info": {
   "codemirror_mode": {
    "name": "ipython",
    "version": 3
   },
   "file_extension": ".py",
   "mimetype": "text/x-python",
   "name": "python",
   "nbconvert_exporter": "python",
   "pygments_lexer": "ipython3",
   "version": "3.7.6"
  }
 },
 "nbformat": 4,
 "nbformat_minor": 2
}
