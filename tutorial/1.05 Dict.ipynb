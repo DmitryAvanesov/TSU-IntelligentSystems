{
 "cells": [
  {
   "cell_type": "markdown",
   "metadata": {},
   "source": [
    "# Словари, они же хэшмапы (dict)\n",
    "\n",
    "Python обладает очень мощным и функциональным базовым типом данных `dict`. Он представляет собой неупорядоченный (на самом деле, условно упорядоченный с версии 3.6) ассоциативный массив. Это значит, что ключом элемента такого массива является не индекс, а произвольный хэшируемый тип данных (числа, строки, True/False, etc.)\n",
    "\n",
    "## Создание\n",
    "Задаются словари через конструктор класса `dict()` или через фигурные скобки `{}`. Задание через конструктор выглядит следующим образом `d = dict(key1=value1, key2=value2, ...)`. В результате создастя словарь с *строковыми* ключами `'key1'`, `'key2'` ...:"
   ]
  },
  {
   "cell_type": "code",
   "execution_count": null,
   "metadata": {},
   "outputs": [],
   "source": [
    "d = dict(a='apple', b='banana', c='cherry')\n",
    "\n",
    "print(f'd = {d}')"
   ]
  },
  {
   "cell_type": "markdown",
   "metadata": {},
   "source": [
    "Обращение к элементу происходит в квадратных скобках по ключу:"
   ]
  },
  {
   "cell_type": "code",
   "execution_count": null,
   "metadata": {},
   "outputs": [],
   "source": [
    "d = dict(a='apple', b='banana', c='cherry')\n",
    "\n",
    "print(f'd = {d}')\n",
    "print(f\"d['a'] = {d['a']}, type(d['a']) = {type(d['a'])}\")"
   ]
  },
  {
   "cell_type": "markdown",
   "metadata": {},
   "source": [
    "Если создавать словарь через фигурные скобки, то ключи могут быть не только строковыми. В таком случае пары ключ/значение перечисляются в формате `{key1: value1, key2: value2 ...}`:"
   ]
  },
  {
   "cell_type": "code",
   "execution_count": null,
   "metadata": {},
   "outputs": [],
   "source": [
    "d = {'one': 1, 'two': 2, 'three': 3, 1: 'one', 2: 'two', 3: 'three'}\n",
    "\n",
    "print(f'd = {d}')\n",
    "print(f\"\\nd['one'] = {d['one']}, type(d['one']) = {type(d['one'])}\")\n",
    "print(f\"d[1] = {d[1]}, type(d[1]) = {type(d[1])}\")"
   ]
  },
  {
   "cell_type": "markdown",
   "metadata": {},
   "source": [
    "## Добавление элементов\n",
    "\n",
    "Элементы добавляются через присвоение по ключу. В случае, если такой ключ уже существует произойдёт переприсвоение значения."
   ]
  },
  {
   "cell_type": "code",
   "execution_count": null,
   "metadata": {},
   "outputs": [],
   "source": [
    "d = {1: 'one', 2: 'two', 3: 'three'}\n",
    "\n",
    "print(f'd (до) = {d}')\n",
    "\n",
    "d[1] = 'один'\n",
    "d[2] = 'два'\n",
    "d[3] = 'три'\n",
    "d[4] = 'четыре'\n",
    "\n",
    "print(f'd (после) = {d}')"
   ]
  },
  {
   "cell_type": "markdown",
   "metadata": {},
   "source": [
    "## Значения по умолчанию\n",
    "\n",
    "Попытка обращения к элементу по несуществующему ключу вызовет исключение KeyError:"
   ]
  },
  {
   "cell_type": "code",
   "execution_count": null,
   "metadata": {},
   "outputs": [],
   "source": [
    "status_code = {200: 'OK', 404: 'Not Found', 502: 'Bad gateway'}\n",
    "\n",
    "status_code[405]"
   ]
  },
  {
   "cell_type": "markdown",
   "metadata": {},
   "source": [
    "Можно подстраховаться при помощи метода словаря `dict.get(key, default_value)`. В случае существовании ключа - вернётся значение, сохранённое в словаре. В противном случае вернётся значение по умолчанию `default_value`:"
   ]
  },
  {
   "cell_type": "code",
   "execution_count": null,
   "metadata": {},
   "outputs": [],
   "source": [
    "status_code = {200: 'OK', 404: 'Not Found', 502: 'Bad gateway'}\n",
    "\n",
    "print(f'status_code = {status_code}')\n",
    "print(f'\\nstatus_code.get(404, \"Unknown Response\") = {status_code.get(404, \"Unknown Response\")}')\n",
    "print(f'status_code.get(405, \"Unknown Response\") = {status_code.get(405, \"Unknown Response\")}')"
   ]
  },
  {
   "cell_type": "markdown",
   "metadata": {},
   "source": [
    "## Проверка на вхождение\n",
    "\n",
    "А можно и не пользоваться методом .get а заранее проверить наличие ключа в словаре. Для этого так же используется оператор `in`\n",
    "\n",
    "**N.B. Наличие значения быстро проверить нельзя!**"
   ]
  },
  {
   "cell_type": "code",
   "execution_count": null,
   "metadata": {},
   "outputs": [],
   "source": [
    "status_code = {200: 'OK', 404: 'Not Found', 502: 'Bad gateway'}\n",
    "\n",
    "print(f'status_code = {status_code}')\n",
    "print(f'\\n200 in status_code = {200 in status_code}')\n",
    "print(f'666 in status_code = {666 in status_code}')"
   ]
  },
  {
   "cell_type": "markdown",
   "metadata": {},
   "source": [
    "## Расширение словаря другим словарём\n",
    "\n",
    "И такое можно. Только нужно учитывать, что этот метод изменяет исходный словарь, а не создаёт новый объект"
   ]
  },
  {
   "cell_type": "code",
   "execution_count": null,
   "metadata": {},
   "outputs": [],
   "source": [
    "client_errors = {400: 'Bad Request', 401: 'Unauthorized', 402: 'Payment Required', 403: 'Forbidden', 404: 'Not Found'}\n",
    "server_errors = {500: 'Internal Server Error', 501: 'Not Implemented', 502: 'Bad Gateway', 503: 'Service Unavailable', 504: 'Gateway timeout'}\n",
    "errors = {}\n",
    "\n",
    "errors.update(client_errors)\n",
    "errors.update(server_errors)\n",
    "\n",
    "print(f'client_errors = {client_errors}')\n",
    "print(f'server_errors = {server_errors}')\n",
    "print(f'\\nerrors = {errors}')"
   ]
  }
 ],
 "metadata": {
  "kernelspec": {
   "display_name": "Python 3",
   "language": "python",
   "name": "python3"
  },
  "language_info": {
   "codemirror_mode": {
    "name": "ipython",
    "version": 3
   },
   "file_extension": ".py",
   "mimetype": "text/x-python",
   "name": "python",
   "nbconvert_exporter": "python",
   "pygments_lexer": "ipython3",
   "version": "3.6.5"
  }
 },
 "nbformat": 4,
 "nbformat_minor": 2
}
