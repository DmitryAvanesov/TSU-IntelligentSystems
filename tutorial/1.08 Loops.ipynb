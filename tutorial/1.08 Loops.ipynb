{
 "cells": [
  {
   "cell_type": "markdown",
   "metadata": {},
   "source": [
    "# Циклы\n",
    "## while\n",
    "\n",
    "Цикл `while` аналогичен таковым в других языках. Синтаксис:\n",
    "```python\n",
    "while условие:\n",
    "    выполняемые\n",
    "    инструкции\n",
    "    пока\n",
    "    условие\n",
    "    принимает\n",
    "    значение\n",
    "    True\n",
    "```\n",
    "\n",
    "Для демонстрации найдём наименьшей делитель какого-нибудь числа топорным способом:"
   ]
  },
  {
   "cell_type": "code",
   "execution_count": null,
   "metadata": {},
   "outputs": [],
   "source": [
    "N = 121\n",
    "divider = 2\n",
    "\n",
    "while N % divider != 0:\n",
    "    print(f'{divider} не подходит')\n",
    "    divider += 1\n",
    "    \n",
    "print(f'Наименьший делитель числа {N} это {divider}')"
   ]
  },
  {
   "cell_type": "markdown",
   "metadata": {},
   "source": [
    "## for\n",
    "\n",
    "Цикл `for` гораздо интереснее. Его синтаксис:\n",
    "```python\n",
    "for obj in collection:\n",
    "    выполняемые инструкции\n",
    "    пока итератор бежит\n",
    "    по всем элементам коллекции\n",
    "```\n",
    "\n",
    "В качестве коллекции может выступать любой тип, поддерживающий итерирование:"
   ]
  },
  {
   "cell_type": "code",
   "execution_count": null,
   "metadata": {},
   "outputs": [],
   "source": [
    "foodstuffs = ['помидоры', 'огурцы', 'редис']\n",
    "\n",
    "print('Как приготовить летний салат?\\n')\n",
    "for stuff in foodstuffs:\n",
    "    print(f'Нарезаем {stuff}')\n",
    "\n",
    "print('\\nПеремешиваем. Салат готов.')"
   ]
  },
  {
   "cell_type": "markdown",
   "metadata": {},
   "source": [
    "Строка, кстати, тоже итерируемый объект:"
   ]
  },
  {
   "cell_type": "code",
   "execution_count": null,
   "metadata": {},
   "outputs": [],
   "source": [
    "charcounter = {}\n",
    "text = 'Jackdaws love my big sphinx of quartz'\n",
    "\n",
    "for char in text.lower():\n",
    "    count = charcounter.get(char, 0)\n",
    "    charcounter[char] = count + 1\n",
    "\n",
    "print(charcounter)"
   ]
  },
  {
   "cell_type": "markdown",
   "metadata": {},
   "source": [
    "Для итерации по ряду целых чисел существует специальный встроенный объект `range(start, stop, step)` и возвращает итератор по целым числам от `start` до `stop` не включительно с шагом `step`. Аргуметы `start` и `step` можно опускать. Вместо них подставляются значения по умолчанию: `0` и `1` соответственно:"
   ]
  },
  {
   "cell_type": "code",
   "execution_count": null,
   "metadata": {},
   "outputs": [],
   "source": [
    "L1 = []\n",
    "L2 = []\n",
    "L3 = []\n",
    "\n",
    "for i in range(10):\n",
    "    L1.append(i)\n",
    "\n",
    "for i in range(100, 110):\n",
    "    L2.append(i)\n",
    "    \n",
    "for i in range(2, 11, 2):\n",
    "    L3.append(i)\n",
    "\n",
    "print(f\"L1 (range(10)) = {L1}\")\n",
    "print(f\"L2 (range(100, 110)) = {L2}\")\n",
    "print(f\"L3 (range(2, 11, 2)) = {L3}\")"
   ]
  },
  {
   "cell_type": "markdown",
   "metadata": {},
   "source": [
    "Если потребуется итерироваться по словарю, то следует помнить, что итерация происходит по **ключам**:"
   ]
  },
  {
   "cell_type": "code",
   "execution_count": null,
   "metadata": {},
   "outputs": [],
   "source": [
    "status_code = {200: 'OK', 404: 'Not Found', 502: 'Bad gateway'}\n",
    "for code in status_code:\n",
    "    print(code, status_code[code])"
   ]
  },
  {
   "cell_type": "markdown",
   "metadata": {},
   "source": [
    "Существует альтернативный способ вывести элеметы словаря. Итерироваться можно сразу по паре (ключ, значение) при помощи метода словаря `dict.items()`. Он возвращает кортежи пар (ключ, значение) итерируясь по всем ключам"
   ]
  },
  {
   "cell_type": "code",
   "execution_count": null,
   "metadata": {},
   "outputs": [],
   "source": [
    "status_code = {200: 'OK', 404: 'Not Found', 502: 'Bad gateway'}\n",
    "\n",
    "for key in status_code.items():\n",
    "    print(key)"
   ]
  },
  {
   "cell_type": "markdown",
   "metadata": {},
   "source": [
    "Можно переписать это ещё изящнее:"
   ]
  },
  {
   "cell_type": "code",
   "execution_count": null,
   "metadata": {},
   "outputs": [],
   "source": [
    "status_code = {200: 'OK', 404: 'Not Found', 502: 'Bad gateway'}\n",
    "\n",
    "for key, value in status_code.items():\n",
    "    print(f'Ключ: {key}, значение {value}')"
   ]
  },
  {
   "cell_type": "markdown",
   "metadata": {},
   "source": [
    "Как это работает? `dict.items()` возвращает кортежи, а запись `key, value` распаковывает такой кортеж и присваивает значения обоим переменным."
   ]
  },
  {
   "cell_type": "markdown",
   "metadata": {},
   "source": [
    "## Ключевые слова break и continue\n",
    "\n",
    "Если во время выполнения цикла встречается инструкция `break` то выполнение цикла прекращается. Рассмотрим на примере выхода из бесконечного цикла. Допустим, нас интересует, когда геометрическая прогрессия $b_{n+1} = b_n * 2, b_0 = 1$ обгонит арифметическую прогрессию $a_{n+1} = a_n + 1000, a_0 = 1000$"
   ]
  },
  {
   "cell_type": "code",
   "execution_count": null,
   "metadata": {},
   "outputs": [],
   "source": [
    "a = 1000\n",
    "b = 1\n",
    "i = 0\n",
    "\n",
    "while True:\n",
    "    if b > a:\n",
    "        break\n",
    "    \n",
    "    a += 1000\n",
    "    b *= 2\n",
    "    i += 1\n",
    "\n",
    "print(f'На итерации {i} геометрическая прогрессия обгоняет арифметическую {b} > {a}')\n",
    "    "
   ]
  },
  {
   "cell_type": "markdown",
   "metadata": {},
   "source": [
    "Инструкция `continue` прекращает выполнение **текущей итерации** немедленно преступая к следующей. Выведем только те слова, которые являются палиндромами. Причем заглавными буквами."
   ]
  },
  {
   "cell_type": "code",
   "execution_count": null,
   "metadata": {},
   "outputs": [],
   "source": [
    "text = 'каждый уважающий себя репер должен носить радар и наган и слышать топот воров'\n",
    "\n",
    "for word in text.split(' '):\n",
    "    if word != word[::-1]:\n",
    "        continue\n",
    "    \n",
    "    upcased = word.upper()\n",
    "    print(upcased)"
   ]
  },
  {
   "cell_type": "markdown",
   "metadata": {},
   "source": [
    "## for/else и while/else\n",
    "\n",
    "Инструкция `else` применяется не только вместе с `if`. В случае с циклами блок `else` выполняется, если выход из цикла осуществился без инструкции `break`:"
   ]
  },
  {
   "cell_type": "code",
   "execution_count": null,
   "metadata": {},
   "outputs": [],
   "source": [
    "for i in range(10):\n",
    "    print(i, end=' ')\n",
    "else:\n",
    "    print('\\nЭтот цикл завершился. Привет, я for -> else!')\n",
    "\n",
    "for i in range(10):\n",
    "    if i > 5:\n",
    "        break\n",
    "    print(i, end=' ')\n",
    "else:\n",
    "    print('А вот меня вы не увидите')"
   ]
  }
 ],
 "metadata": {
  "kernelspec": {
   "display_name": "Python 3",
   "language": "python",
   "name": "python3"
  },
  "language_info": {
   "codemirror_mode": {
    "name": "ipython",
    "version": 3
   },
   "file_extension": ".py",
   "mimetype": "text/x-python",
   "name": "python",
   "nbconvert_exporter": "python",
   "pygments_lexer": "ipython3",
   "version": "3.6.5"
  }
 },
 "nbformat": 4,
 "nbformat_minor": 2
}
