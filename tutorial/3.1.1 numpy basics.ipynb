{
 "cells": [
  {
   "cell_type": "markdown",
   "metadata": {},
   "source": [
    "# Numpy arrays\n",
    "Наиболее распространённая структура из numpy это `ndarray`. Для начала посмотрим, как их создавать\n",
    "## Создание одномерных массиов из главных iterable типов\n",
    "\n",
    "Для начала, `ndarray` может создаваться из встроенных `list` или `tuple` при помощи функции `np.array(collection)`."
   ]
  },
  {
   "cell_type": "code",
   "execution_count": null,
   "metadata": {},
   "outputs": [],
   "source": [
    "import numpy as np  # np - community accepted abbrevation\n",
    "\n",
    "some_list = [4, 8, 15, 16, 23, 42]\n",
    "some_tuple = (4, 8, 12, 16, 23, 42)\n",
    "\n",
    "from_list = np.array(some_list)\n",
    "from_tuple = np.array(some_tuple)\n",
    "\n",
    "print(f\"from list: \\n{some_list} -> {from_list}\")\n",
    "print(f\"\\nfrom tuple: \\n{some_tuple} -> {from_tuple}\")\n",
    "print(f'\\nlen(from_list) = {len(from_list)}')"
   ]
  },
  {
   "cell_type": "markdown",
   "metadata": {},
   "source": [
    "Размер `ndarray` можно получить через `len(ndarray)`, `ndarray.shape` и `ndarray.size` (в чём разница - поймём когда дойдём до многомерных массивов):"
   ]
  },
  {
   "cell_type": "code",
   "execution_count": null,
   "metadata": {},
   "outputs": [],
   "source": [
    "some_list = [4, 8, 15, 16, 23, 42]\n",
    "from_list = np.array(some_list)\n",
    "\n",
    "print(from_list)\n",
    "print(f'\\nlen(from_list) = {len(from_list)}')\n",
    "print(f'from_list.shape = {from_list.shape}')\n",
    "print(f'from_list.size = {from_list.size}')"
   ]
  },
  {
   "cell_type": "markdown",
   "metadata": {},
   "source": [
    "Пока ничего нового. Но давайте взглянем на кое-что другое:"
   ]
  },
  {
   "cell_type": "code",
   "execution_count": null,
   "metadata": {},
   "outputs": [],
   "source": [
    "some_list = [1, 2, 3]\n",
    "some_list_with_pi = [1, 2, 3, np.pi]\n",
    "\n",
    "from_list = np.array(some_list)\n",
    "from_list_with_pi = np.array(some_list_with_pi)\n",
    "\n",
    "print(f\"from list: \\n{some_list} -> {from_list}\")\n",
    "print(f\"\\nfrom list with pi: \\n{some_list_with_pi} -> {from_list_with_pi}\")"
   ]
  },
  {
   "cell_type": "markdown",
   "metadata": {},
   "source": [
    "Обратите внимание на вывод во втором случае. Целые были преобразованны во float. Оно и логично, ведь `ndarray`, в отличии от питонячих коллекций, типизирован. Посмотреть тип можно через атрибут `ndarray.dtype`:"
   ]
  },
  {
   "cell_type": "code",
   "execution_count": null,
   "metadata": {},
   "outputs": [],
   "source": [
    "some_list = [1, 2, 3]\n",
    "some_list_with_pi = [1, 2, 3, np.pi]\n",
    "some_list_with_pi_and_str = [1, 2, 3, np.pi, 'pi']\n",
    "\n",
    "from_list = np.array(some_list)\n",
    "from_list_with_pi = np.array(some_list_with_pi)\n",
    "from_list_with_pi_and_str = np.array(some_list_with_pi_and_str)\n",
    "\n",
    "print(f'{from_list}.dtype = {from_list.dtype}')\n",
    "print(f'{from_list_with_pi}.dtype = {from_list_with_pi.dtype}')\n",
    "print(f'{from_list_with_pi_and_str}.dtype = {from_list_with_pi_and_str.dtype}')"
   ]
  },
  {
   "cell_type": "markdown",
   "metadata": {},
   "source": [
    "Тип данных `<U32` означает \"unicode строка длиной до 32\"."
   ]
  },
  {
   "cell_type": "markdown",
   "metadata": {},
   "source": [
    "Однако, не все коллекции подходят. Рассмотрим следующий пример и обратим внимание на shape:"
   ]
  },
  {
   "cell_type": "code",
   "execution_count": null,
   "metadata": {},
   "outputs": [],
   "source": [
    "some_set = set('an assassin sins')\n",
    "some_string = 'The quick brown fox jumps over the lazy dog'\n",
    "\n",
    "from_set = np.array(some_set)\n",
    "from_string = np.array(some_string)\n",
    "\n",
    "print(f\"from set: \\n{from_set}, shape: {from_set.shape}, dtype: {from_set.dtype}\")\n",
    "print(f\"\\nfrom string: \\n{from_string}, shape: {from_string.shape}, dtype: {from_string.dtype}\")"
   ]
  },
  {
   "cell_type": "markdown",
   "metadata": {},
   "source": [
    "Но если вам ну очень хочется сделать `ndarray` из `set` или `string`, вы можете обернуть их в `list`"
   ]
  },
  {
   "cell_type": "code",
   "execution_count": null,
   "metadata": {},
   "outputs": [],
   "source": [
    "from_listed_set = np.array(list(some_set))\n",
    "from_listed_string = np.array(list(some_string))\n",
    "\n",
    "print(f\"from list(set): \\n{from_listed_set}, shape: {from_listed_set.shape}, dtype: {from_listed_set.dtype}\")\n",
    "print(f\"\\nfrom list(string): \\n{from_listed_string}, shape: {from_listed_string.shape}, dtype: {from_listed_string.dtype}\")"
   ]
  },
  {
   "cell_type": "markdown",
   "metadata": {},
   "source": [
    " Тип данных всегда изменяется **явно** и **приводит к созданию нового объекта**.\n",
    "Посмотрите пример:"
   ]
  },
  {
   "cell_type": "code",
   "execution_count": null,
   "metadata": {},
   "outputs": [],
   "source": [
    "some_string = 'The quick brown fox jumps over the lazy dog'\n",
    "words_list = some_string.lower().split(' ')\n",
    "from_words_list = np.array(words_list)\n",
    "\n",
    "print(f\"from words list: \\n{from_words_list}, shape: {from_words_list.shape}, dtype: {from_words_list.dtype}, id: {id(from_words_list)}\")\n",
    "\n",
    "print('\\nЗаменим fox на elephant:')\n",
    "from_words_list[3] = 'elephant'\n",
    "print(f\"from words list: \\n{from_words_list}, shape: {from_words_list.shape}, dtype: {from_words_list.dtype}, id: {id(from_words_list)}\")\n",
    "print('Слон стал \"элефом\", но id не изменился')\n",
    "\n",
    "print('\\nСменим тип данных и заменим eleph на elephant:')\n",
    "from_words_list = from_words_list.astype('<U10')\n",
    "from_words_list[3] = 'elephant'\n",
    "print(f\"from words list: \\n{from_words_list}, shape: {from_words_list.shape}, dtype: {from_words_list.dtype}, id: {id(from_words_list)}\")"
   ]
  },
  {
   "cell_type": "markdown",
   "metadata": {},
   "source": [
    "Очевидно, `ndarray` не очень для работы со строками. Однако с числами он бесподобен."
   ]
  },
  {
   "cell_type": "markdown",
   "metadata": {},
   "source": [
    "## Создание n-мерных массивов из основных iterable типов:\n",
    "n-мерные массивы `np.ndarray` могут быть получены оборачиванием в np.array() `list`, содержащий внутри себя другие `list`. Попробуем создать двухмерный массив (словом, матрицу):"
   ]
  },
  {
   "cell_type": "code",
   "execution_count": null,
   "metadata": {},
   "outputs": [],
   "source": [
    "lists_in_list = [[1, 2, 3], [4, 5, 6]]\n",
    "matrix = np.array(lists_in_list)\n",
    "print(f\"From lists in list: \\n{matrix}, shape: {matrix.shape}, len: {len(matrix)}, size: {matrix.size}\")"
   ]
  },
  {
   "cell_type": "markdown",
   "metadata": {},
   "source": [
    "Внимательно посмотрите на вывод предыдущего примера. Будьте осторожны при использовании функции `len()` с типом данных `ndarray`. Она вернёт длину первого измерения, а не количество элементов. Для получения количества элементов используется атрибут `ndarray.size`"
   ]
  },
  {
   "cell_type": "markdown",
   "metadata": {},
   "source": [
    "ndarray с б**о**льшим количеством измерений получается путём увеличения уровня вложенности: "
   ]
  },
  {
   "cell_type": "code",
   "execution_count": null,
   "metadata": {},
   "outputs": [],
   "source": [
    "lists_in_lists_in_list = [[[1, 2, 3], [4, 5, 6], [7, 8, 9]], [[10, 11, 12], [13, 14, 15], [16, 17, 18]]]\n",
    "three_d_array = np.array(lists_in_lists_in_list)\n",
    "print(f\"From lists in list: \\n{three_d_array}, shape: {three_d_array.shape}, len: {len(three_d_array)}, size: {three_d_array.size}\")"
   ]
  },
  {
   "cell_type": "markdown",
   "metadata": {},
   "source": [
    "Разумеется, вложенные `list` должны быть согласованны в смысле числа элементов:"
   ]
  },
  {
   "cell_type": "code",
   "execution_count": null,
   "metadata": {},
   "outputs": [],
   "source": [
    "incompatible_lists_in_list = [[1, 2, 3], [4, 5], [6, 7, 8]]\n",
    "from_incompatible_lists = np.array(incompatible_lists_in_list)\n",
    "print(f\"From incompatible lists: \\n{from_incompatible_lists}, shape: {from_incompatible_lists.shape}, dtype: {from_incompatible_lists.dtype}\")"
   ]
  },
  {
   "cell_type": "markdown",
   "metadata": {},
   "source": [
    "## Процедуры создания новых массивов\n",
    "### Инициализация raw-массива\n",
    "Можно инициализировать массив без значений. При инициализации numpy-массива без значений создаётся указатель на свободную область в памяти. Если посмотреть содержимаое массива, то можно увидеть что оказалось в той области памяти, а оказаться там может всё, что угодно. Попробуйте поменять shape и посмотреть как меняется содержимое"
   ]
  },
  {
   "cell_type": "code",
   "execution_count": null,
   "metadata": {},
   "outputs": [],
   "source": [
    "shape = (4, 4)\n",
    "new_array = np.ndarray(shape=shape)\n",
    "print(f\"new array: \\n{new_array}, dtype: {new_array.dtype}\")"
   ]
  },
  {
   "cell_type": "markdown",
   "metadata": {},
   "source": [
    "### Заполненные массивы\n",
    "Во многих случаях могут понадобиться массивы, которые состоят из один единиц или нулей. Такие массивы гененрируются функциями `np.zeros(shape=required_shape)` и `np.ones(shape=required_shape)` соответственно. `shape` может быть целым числом (для `1D-array`) или `tuple` целых чисел для `ndarray`."
   ]
  },
  {
   "cell_type": "code",
   "execution_count": null,
   "metadata": {},
   "outputs": [],
   "source": [
    "zeros_1d = np.zeros(10)\n",
    "print(f\"zeros_1d: \\n{zeros_1d}, shape: {zeros_1d.shape}, dtype: {zeros_1d.dtype}\")\n",
    "ones_2d = np.ones((3, 3))\n",
    "print(f\"ones_2d: \\n{ones_2d}, shape: {ones_2d.shape}, dtype: {ones_2d.dtype}\")"
   ]
  },
  {
   "cell_type": "markdown",
   "metadata": {},
   "source": [
    "Тип данных для значений таких массивов может быть задан явно через параметр `dtype`:"
   ]
  },
  {
   "cell_type": "code",
   "execution_count": null,
   "metadata": {},
   "outputs": [],
   "source": [
    "uint_ones = np.ones(7, dtype=np.uint8)\n",
    "print(f\"uint zeros: \\n{uint_ones}, shape: {uint_ones.shape}, dtype: {uint_ones.dtype}\")"
   ]
  },
  {
   "cell_type": "markdown",
   "metadata": {},
   "source": [
    "Давайте выполним несколько операций для того, чтобы убедиться, что у нас действительно `uint8`:"
   ]
  },
  {
   "cell_type": "code",
   "execution_count": null,
   "metadata": {},
   "outputs": [],
   "source": [
    "uint_ones = np.ones(7, dtype=np.uint8)\n",
    "uint_ones[0] = uint_ones[0]  # Left first one alone\n",
    "uint_ones[1] -= 0.2 \n",
    "uint_ones[2] += 0.9  \n",
    "uint_ones[3] += 1.1\n",
    "uint_ones[4] += 300\n",
    "uint_ones[5] -= 10\n",
    "uint_ones[6] *= -1"
   ]
  },
  {
   "cell_type": "markdown",
   "metadata": {},
   "source": [
    "А теперь объяснения\n",
    "0. Остался без изменений\n",
    "1. Следуем последовательности:  преобразуем 1 в float чтобы выполнить вычитание float -> выполняем вычитание 1. - 0.2 = 0.8 -> переводим в uint8 чтобы поместить в массив uint8(0.2) = 0 -> вставляем 0 \n",
    "2. см 1.: uint8(1.9) = 1\n",
    "3. см 1.: uint8(2.1) = 2\n",
    "4. А здесь у нас пример переполнения. Диапазон uint8 от 0 до 255. Таким образом, 301 % 256 = 45\n",
    "5. см 4.: -9 % 256 = 256 - 9 = 247\n",
    "6. см 4.: -1 % 256 = 256 - 1 = 255"
   ]
  },
  {
   "cell_type": "markdown",
   "metadata": {},
   "source": [
    "### Равномерно заполненные массивы\n",
    "В качестве первого типа равнозаполненных массиов рассмотрим функцию `np.arange()`. Она работает по аналогии со стандартной `range()`, но возвращает `ndarray` и позволяет использовать не только целочисленные значения шага."
   ]
  },
  {
   "cell_type": "code",
   "execution_count": null,
   "metadata": {},
   "outputs": [],
   "source": [
    "print('# Если передадим единственный аргумент N, arange вернёт целые числа из интервала [0, N). Как и обычный range()')\n",
    "print(f'np.arange(10) \\n{np.arange(10)}')\n",
    "\n",
    "print('\\n# Для двух аргументов M и N, arange вернёт целые из интервала [M, N). Снова по аналогии с range():')\n",
    "print(f'np.arange(5, 10) \\n{np.arange(5, 10)}')\n",
    "\n",
    "print('\\n# Третий аргумент указывает шаг внутри интервала [M, N):')\n",
    "print(f'np.arange(5, 10, 0.5) \\n{np.arange(5, 10, 0.5)}')\n",
    "print(f'\\nnp.arange(5, 10, 2) \\n{np.arange(5, 10, 2)}')\n",
    "print(f'\\nnp.arange(5, 10, 10) \\n{np.arange(5, 10, 10)}')"
   ]
  },
  {
   "cell_type": "markdown",
   "metadata": {},
   "source": [
    "В иных ситуациях удобнее использовать не фиксированный шаг, а фиксированное количество равноудалённых точек из интервала. Для такой задачи используется функция `np.linspace()`."
   ]
  },
  {
   "cell_type": "code",
   "execution_count": null,
   "metadata": {},
   "outputs": [],
   "source": [
    "print('# В отличии от arange, linspace ожидает минимум два аргумента: start и stop. А ещё linspace обычно включает в себя правую границу интервала:')\n",
    "print(f'np.linspace(0, 10): \\n{np.linspace(0, 10)}, shape: {np.linspace(0, 10).shape}')\n",
    "\n",
    "print('\\n# По умолчанию linspace разбиавает интервал на 50 точек. Однако количество точек можно задать третьим аргументом:')\n",
    "print(f'np.linspace(0, 10, 21): \\n{np.linspace(0, 10, 21)}, shape: {np.linspace(0, 10, 21).shape}')\n",
    "\n",
    "print('\\n#  Если же задача не требует включения правой границы интервала, передаётся аргумент endpoint=False')\n",
    "print(f'np.linspace(0, 10, 20, endpoint=False): \\n{np.linspace(0, 10, 20, endpoint=False)}, shape: {np.linspace(0, 10, 20, endpoint=False).shape}')"
   ]
  },
  {
   "cell_type": "markdown",
   "metadata": {},
   "source": [
    "## Создание массивов случайных чисел\n",
    "Рассмотрим три основные фукнции создания массивов, заполненных случайными числами. Начнём с функции `np.random.randn()`. Она генерирует число, распределённое по нормальному закону с математическим ожиданием = 0 и дисперсией = 1"
   ]
  },
  {
   "cell_type": "code",
   "execution_count": null,
   "metadata": {},
   "outputs": [],
   "source": [
    "print(\"# Без указания аргументов возвращает единственное число базового типа float\")\n",
    "print(f'np.random.randn(): {np.random.randn()}, type: {type(np.random.randn())}')\n",
    "\n",
    "print(\"\\n# Чтобы создать ndarray в качестве аргументов передаётся его shape\")\n",
    "print(f'np.random.randn(1, 2, 3, 4): \\n{np.random.randn(1, 2, 3, 4)}, type: {type(np.random.randn(1, 2, 3, 4))}, shape: {np.random.randn(1, 2, 3, 4).shape}')\n",
    "\n",
    "print(\"\\n# То же самое, только через кортеж:\")\n",
    "shape = (4, 3, 2)\n",
    "print(f'np.random.randn(*shape): \\n{np.random.randn(*shape)}, type: {type(np.random.randn(*shape))}, shape: {np.random.randn(*shape).shape}')"
   ]
  },
  {
   "cell_type": "markdown",
   "metadata": {},
   "source": [
    "### np.rand.rand()\n",
    "Работает точно так же, как и `np.random.randn()`, только генерирует числа по равномерному закону распределения"
   ]
  },
  {
   "cell_type": "code",
   "execution_count": null,
   "metadata": {},
   "outputs": [],
   "source": [
    "print(f'np.random.rand(): {np.random.rand()}, type: {type(np.random.rand())}')\n",
    "\n",
    "\n",
    "shape = (2, 3, 4)\n",
    "print(f'\\nnp.random.rand(*shape): \\n{np.random.rand(*shape)}, type: {type(np.random.rand(*shape))}, shape: {np.random.rand(*shape).shape}')"
   ]
  },
  {
   "cell_type": "markdown",
   "metadata": {},
   "source": [
    "### np.random.randint()"
   ]
  },
  {
   "cell_type": "code",
   "execution_count": null,
   "metadata": {},
   "outputs": [],
   "source": [
    "print(\"# Если randint вызывается с единственным аргументом N, функция вернёт единственный базовый int из области [0, N)\")\n",
    "print(f'np.random.randint(100): {np.random.randint(100)}, type: {type(np.random.randint(100))}')\n",
    "\n",
    "print(\"\\n# Если передать два аргумента M и N, функция вернёт единственный базовый int из области [M, N)\")\n",
    "print(f'np.random.randint(90, 100): {np.random.randint(100)}, type: {type(np.random.randint(100))}')\n",
    "\n",
    "\n",
    "print('\\n# А вот если третьим аргументом передать размер, то получим ndarray:')\n",
    "print(f'np.random.randint(90, 100, 10): \\n{np.random.randint(90, 100, 10)}, type: {type(np.random.randint(90, 100, 10))}')\n",
    "print('\\n# Однако, в отличии от предыдущих двух функций, здесь под размер отведён единственный аргумент. Поэтому, многомерный массив получаем передачай tuple:')\n",
    "print(f'np.random.randint(0, 10, (3, 3)): \\n{np.random.randint(0, 10, (3, 3))}')\n",
    "\n",
    "print(f'\\n# Необязательно передавать три значения чтобы задать размер. Аргумент size можно указать явно.')\n",
    "print('# Такая запись эквивалентна np.random.randint(0, 100, 10)')\n",
    "print(f'np.random.randint(100, size=10): \\n{np.random.randint(100, size=10)}, type: {type(np.random.randint(100, size=10))}')\n"
   ]
  }
 ],
 "metadata": {
  "kernelspec": {
   "display_name": "Python 3",
   "language": "python",
   "name": "python3"
  },
  "language_info": {
   "codemirror_mode": {
    "name": "ipython",
    "version": 3
   },
   "file_extension": ".py",
   "mimetype": "text/x-python",
   "name": "python",
   "nbconvert_exporter": "python",
   "pygments_lexer": "ipython3",
   "version": "3.6.5"
  }
 },
 "nbformat": 4,
 "nbformat_minor": 2
}
