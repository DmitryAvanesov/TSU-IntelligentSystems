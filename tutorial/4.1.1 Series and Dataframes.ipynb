{
 "cells": [
  {
   "cell_type": "code",
   "execution_count": 1,
   "metadata": {},
   "outputs": [],
   "source": [
    "import numpy as np\n",
    "import pandas as pd  # Снова используемое сообществом сокращение."
   ]
  },
  {
   "cell_type": "markdown",
   "metadata": {},
   "source": [
    "# Pandas\n",
    "`Pandas` - надстройка над библиотекой `NumPy`, главными объектами которого являются `DataFrame` и `Series`. Как и `NumPy` импортируется с использованием в сообществ соокращения `import pandas as pd`\n",
    "\n",
    "`DataFrame` представляют собой многомерные массивы с метками для строк и столбцов. \n",
    "Метки делают работу с данными удобнее для восприятия человека. Помимо этого DataFrame даёт широкие возможности работы с данными вроде реляционной алгебры.\n",
    "\n",
    "`Series` же представляет собой одномерные упорядоченные массивы с индексированным данными. Начнём с них:\n",
    "\n",
    "## Series\n",
    "\n",
    "Для создания объекта Series достаточно передать любой `iterable` в конструктор `pd.Series()`:"
   ]
  },
  {
   "cell_type": "code",
   "execution_count": 2,
   "metadata": {},
   "outputs": [
    {
     "name": "stdout",
     "output_type": "stream",
     "text": [
      "height: \n",
      "0    185\n",
      "1    174\n",
      "2    177\n",
      "3    182\n",
      "4    172\n",
      "dtype: int64\n",
      "\n",
      "type(height): <class 'pandas.core.series.Series'>\n"
     ]
    }
   ],
   "source": [
    "height_as_ndarray = np.random.normal(178, 5, 5).astype(int)\n",
    "\n",
    "height = pd.Series(height_as_ndarray)\n",
    "print(f'height: \\n{height}')\n",
    "print(f'\\ntype(height): {type(height)}')"
   ]
  },
  {
   "cell_type": "markdown",
   "metadata": {},
   "source": [
    "Значения `Series` хранит в виде знакомых нам `ndarray`. А хранит он их в аттрибуте `.values`"
   ]
  },
  {
   "cell_type": "code",
   "execution_count": 3,
   "metadata": {},
   "outputs": [
    {
     "name": "stdout",
     "output_type": "stream",
     "text": [
      "height.values: [169 178 181 170 185], type(height.values): <class 'numpy.ndarray'>\n"
     ]
    }
   ],
   "source": [
    "height_as_list = list(np.random.normal(178, 5, 5).astype(int))  # Обернём в list для демонстрации а) того, что list is suitable too\n",
    "height = pd.Series(height_as_list)\n",
    "\n",
    "print(f'height.values: {height.values}, type(height.values): {type(height.values)}') # б) того, что values принудительно переводятся в ndarray, см. вывод"
   ]
  },
  {
   "cell_type": "markdown",
   "metadata": {},
   "source": [
    "Однако, выше заявлалось, что `Series` у нас индексированные. Выглядит это так:"
   ]
  },
  {
   "cell_type": "code",
   "execution_count": 4,
   "metadata": {},
   "outputs": [
    {
     "name": "stdout",
     "output_type": "stream",
     "text": [
      "height: \n",
      "Фамилия\n",
      "Иванов         175\n",
      "Петров         177\n",
      "Сидоров        173\n",
      "Александров    181\n",
      "Сергеев        172\n",
      "dtype: int64\n",
      "\n",
      "Можно обращатсья с Series таки образом. Например, рост Петрова = height['Петров'] = 177 \n"
     ]
    }
   ],
   "source": [
    "height = pd.Series(np.random.normal(178, 5, 5).astype(int), \n",
    "                   index=['Иванов', 'Петров', 'Сидоров', 'Александров', 'Сергеев'])\n",
    "height.index.name = 'Фамилия'\n",
    "print(f'height: \\n{height}')\n",
    "\n",
    "print(f\"\\nМожно обращатсья с Series таки образом. Например, рост Петрова = height['Петров'] = {height['Петров']} \")"
   ]
  },
  {
   "cell_type": "markdown",
   "metadata": {},
   "source": [
    "Самый занудный из вас может сказать, что это же то же самое, что может делать `dict`. А вот так `dict` может?"
   ]
  },
  {
   "cell_type": "code",
   "execution_count": 5,
   "metadata": {},
   "outputs": [
    {
     "name": "stdout",
     "output_type": "stream",
     "text": [
      "На призывной пункт пришли: \n",
      "Иванов         168\n",
      "Петров         201\n",
      "Сидоров        163\n",
      "Александров    193\n",
      "Сергеев        176\n",
      "dtype: int64\n",
      "\n",
      "Пришёл военком и сказал: \"Это что за бардак? В одну шеренгу по росту становись!\"\n",
      "\n",
      "И встали перед военкомом: \n",
      "Сидоров        163\n",
      "Иванов         168\n",
      "Сергеев        176\n",
      "Александров    193\n",
      "Петров         201\n",
      "dtype: int64\n",
      "\n",
      "И сказал Военком: \"Петров, в баскетбол поди играешь?\". И засмеялся так неприятно\n"
     ]
    }
   ],
   "source": [
    "height = pd.Series(np.random.normal(180, 10, 5).astype(int), \n",
    "                   index=['Иванов', 'Петров', 'Сидоров', 'Александров', 'Сергеев'])\n",
    "\n",
    "print(f'На призывной пункт пришли: \\n{height}')\n",
    "print('\\nПришёл военком и сказал: \"Это что за бардак? В одну шеренгу по росту становись!\"')\n",
    "print(f'\\nИ встали перед военкомом: \\n{height.sort_values()}')\n",
    "print(f'\\nИ сказал Военком: \"{height.sort_values().index[-1]}, в баскетбол поди играешь?\". И засмеялся так неприятно')"
   ]
  },
  {
   "cell_type": "markdown",
   "metadata": {},
   "source": [
    "# DataFrame\n",
    "Если `Series` - это расширение одномерного `ndarray` индексами, то DataFrame стоит рассматривать как расширение многомернного `ndarray`. Здесь индекс имеют не только строки, а ещё и столбцы. Смотрим:"
   ]
  },
  {
   "cell_type": "code",
   "execution_count": 6,
   "metadata": {},
   "outputs": [
    {
     "data": {
      "text/html": [
       "<div>\n",
       "<style scoped>\n",
       "    .dataframe tbody tr th:only-of-type {\n",
       "        vertical-align: middle;\n",
       "    }\n",
       "\n",
       "    .dataframe tbody tr th {\n",
       "        vertical-align: top;\n",
       "    }\n",
       "\n",
       "    .dataframe thead th {\n",
       "        text-align: right;\n",
       "    }\n",
       "</style>\n",
       "<table border=\"1\" class=\"dataframe\">\n",
       "  <thead>\n",
       "    <tr style=\"text-align: right;\">\n",
       "      <th></th>\n",
       "      <th>0</th>\n",
       "      <th>1</th>\n",
       "      <th>2</th>\n",
       "    </tr>\n",
       "  </thead>\n",
       "  <tbody>\n",
       "    <tr>\n",
       "      <th>0</th>\n",
       "      <td>15</td>\n",
       "      <td>13</td>\n",
       "      <td>16</td>\n",
       "    </tr>\n",
       "    <tr>\n",
       "      <th>1</th>\n",
       "      <td>25</td>\n",
       "      <td>21</td>\n",
       "      <td>9</td>\n",
       "    </tr>\n",
       "    <tr>\n",
       "      <th>2</th>\n",
       "      <td>8</td>\n",
       "      <td>7</td>\n",
       "      <td>25</td>\n",
       "    </tr>\n",
       "    <tr>\n",
       "      <th>3</th>\n",
       "      <td>21</td>\n",
       "      <td>10</td>\n",
       "      <td>12</td>\n",
       "    </tr>\n",
       "    <tr>\n",
       "      <th>4</th>\n",
       "      <td>16</td>\n",
       "      <td>27</td>\n",
       "      <td>14</td>\n",
       "    </tr>\n",
       "  </tbody>\n",
       "</table>\n",
       "</div>"
      ],
      "text/plain": [
       "    0   1   2\n",
       "0  15  13  16\n",
       "1  25  21   9\n",
       "2   8   7  25\n",
       "3  21  10  12\n",
       "4  16  27  14"
      ]
     },
     "execution_count": 6,
     "metadata": {},
     "output_type": "execute_result"
    }
   ],
   "source": [
    "matrix = np.random.randint(5, 30, (5, 3))\n",
    "df = pd.DataFrame(matrix)\n",
    "df"
   ]
  },
  {
   "cell_type": "markdown",
   "metadata": {},
   "source": [
    "Однако, при создании можно сразу указать индексы:"
   ]
  },
  {
   "cell_type": "code",
   "execution_count": 7,
   "metadata": {},
   "outputs": [
    {
     "data": {
      "text/html": [
       "<div>\n",
       "<style scoped>\n",
       "    .dataframe tbody tr th:only-of-type {\n",
       "        vertical-align: middle;\n",
       "    }\n",
       "\n",
       "    .dataframe tbody tr th {\n",
       "        vertical-align: top;\n",
       "    }\n",
       "\n",
       "    .dataframe thead th {\n",
       "        text-align: right;\n",
       "    }\n",
       "</style>\n",
       "<table border=\"1\" class=\"dataframe\">\n",
       "  <thead>\n",
       "    <tr style=\"text-align: right;\">\n",
       "      <th></th>\n",
       "      <th>Жиры</th>\n",
       "      <th>Белки</th>\n",
       "      <th>Углеводы</th>\n",
       "    </tr>\n",
       "  </thead>\n",
       "  <tbody>\n",
       "    <tr>\n",
       "      <th>Хлеб</th>\n",
       "      <td>24</td>\n",
       "      <td>22</td>\n",
       "      <td>5</td>\n",
       "    </tr>\n",
       "    <tr>\n",
       "      <th>Колбаса</th>\n",
       "      <td>14</td>\n",
       "      <td>5</td>\n",
       "      <td>18</td>\n",
       "    </tr>\n",
       "    <tr>\n",
       "      <th>Огурцы</th>\n",
       "      <td>6</td>\n",
       "      <td>20</td>\n",
       "      <td>24</td>\n",
       "    </tr>\n",
       "    <tr>\n",
       "      <th>Помидоры</th>\n",
       "      <td>23</td>\n",
       "      <td>24</td>\n",
       "      <td>8</td>\n",
       "    </tr>\n",
       "    <tr>\n",
       "      <th>Яблоки</th>\n",
       "      <td>18</td>\n",
       "      <td>6</td>\n",
       "      <td>27</td>\n",
       "    </tr>\n",
       "  </tbody>\n",
       "</table>\n",
       "</div>"
      ],
      "text/plain": [
       "          Жиры  Белки  Углеводы\n",
       "Хлеб        24     22         5\n",
       "Колбаса     14      5        18\n",
       "Огурцы       6     20        24\n",
       "Помидоры    23     24         8\n",
       "Яблоки      18      6        27"
      ]
     },
     "execution_count": 7,
     "metadata": {},
     "output_type": "execute_result"
    }
   ],
   "source": [
    "matrix = np.random.randint(5, 30, (5, 3))\n",
    "df = pd.DataFrame(matrix, \n",
    "                  columns=['Жиры', 'Белки', 'Углеводы'], \n",
    "                  index=['Хлеб', 'Колбаса', 'Огурцы', 'Помидоры', 'Яблоки'])\n",
    "df"
   ]
  },
  {
   "cell_type": "markdown",
   "metadata": {},
   "source": [
    "Или же указать их потом:"
   ]
  },
  {
   "cell_type": "code",
   "execution_count": 8,
   "metadata": {},
   "outputs": [
    {
     "data": {
      "text/html": [
       "<div>\n",
       "<style scoped>\n",
       "    .dataframe tbody tr th:only-of-type {\n",
       "        vertical-align: middle;\n",
       "    }\n",
       "\n",
       "    .dataframe tbody tr th {\n",
       "        vertical-align: top;\n",
       "    }\n",
       "\n",
       "    .dataframe thead th {\n",
       "        text-align: right;\n",
       "    }\n",
       "</style>\n",
       "<table border=\"1\" class=\"dataframe\">\n",
       "  <thead>\n",
       "    <tr style=\"text-align: right;\">\n",
       "      <th></th>\n",
       "      <th>Жиры</th>\n",
       "      <th>Белки</th>\n",
       "      <th>Углеводы</th>\n",
       "    </tr>\n",
       "  </thead>\n",
       "  <tbody>\n",
       "    <tr>\n",
       "      <th>Хлеб</th>\n",
       "      <td>6</td>\n",
       "      <td>9</td>\n",
       "      <td>18</td>\n",
       "    </tr>\n",
       "    <tr>\n",
       "      <th>Колбаса</th>\n",
       "      <td>6</td>\n",
       "      <td>7</td>\n",
       "      <td>29</td>\n",
       "    </tr>\n",
       "    <tr>\n",
       "      <th>Огурцы</th>\n",
       "      <td>16</td>\n",
       "      <td>20</td>\n",
       "      <td>16</td>\n",
       "    </tr>\n",
       "    <tr>\n",
       "      <th>Помидоры</th>\n",
       "      <td>14</td>\n",
       "      <td>7</td>\n",
       "      <td>8</td>\n",
       "    </tr>\n",
       "    <tr>\n",
       "      <th>Яблоки</th>\n",
       "      <td>24</td>\n",
       "      <td>24</td>\n",
       "      <td>18</td>\n",
       "    </tr>\n",
       "  </tbody>\n",
       "</table>\n",
       "</div>"
      ],
      "text/plain": [
       "          Жиры  Белки  Углеводы\n",
       "Хлеб         6      9        18\n",
       "Колбаса      6      7        29\n",
       "Огурцы      16     20        16\n",
       "Помидоры    14      7         8\n",
       "Яблоки      24     24        18"
      ]
     },
     "execution_count": 8,
     "metadata": {},
     "output_type": "execute_result"
    }
   ],
   "source": [
    "matrix = np.random.randint(5, 30, (5, 3))\n",
    "df = pd.DataFrame(matrix)\n",
    "df.columns = ['Жиры', 'Белки', 'Углеводы']\n",
    "df.index = ['Хлеб', 'Колбаса', 'Огурцы', 'Помидоры', 'Яблоки']\n",
    "df"
   ]
  },
  {
   "cell_type": "markdown",
   "metadata": {},
   "source": [
    "Колонки можно добавлять по мере необходимости:"
   ]
  },
  {
   "cell_type": "code",
   "execution_count": 9,
   "metadata": {},
   "outputs": [
    {
     "data": {
      "text/html": [
       "<div>\n",
       "<style scoped>\n",
       "    .dataframe tbody tr th:only-of-type {\n",
       "        vertical-align: middle;\n",
       "    }\n",
       "\n",
       "    .dataframe tbody tr th {\n",
       "        vertical-align: top;\n",
       "    }\n",
       "\n",
       "    .dataframe thead th {\n",
       "        text-align: right;\n",
       "    }\n",
       "</style>\n",
       "<table border=\"1\" class=\"dataframe\">\n",
       "  <thead>\n",
       "    <tr style=\"text-align: right;\">\n",
       "      <th></th>\n",
       "      <th>Жиры</th>\n",
       "      <th>Белки</th>\n",
       "      <th>Углеводы</th>\n",
       "      <th>Калорийность</th>\n",
       "    </tr>\n",
       "  </thead>\n",
       "  <tbody>\n",
       "    <tr>\n",
       "      <th>Хлеб</th>\n",
       "      <td>6</td>\n",
       "      <td>19</td>\n",
       "      <td>29</td>\n",
       "      <td>383</td>\n",
       "    </tr>\n",
       "    <tr>\n",
       "      <th>Колбаса</th>\n",
       "      <td>18</td>\n",
       "      <td>8</td>\n",
       "      <td>26</td>\n",
       "      <td>100</td>\n",
       "    </tr>\n",
       "    <tr>\n",
       "      <th>Огурцы</th>\n",
       "      <td>18</td>\n",
       "      <td>23</td>\n",
       "      <td>19</td>\n",
       "      <td>311</td>\n",
       "    </tr>\n",
       "    <tr>\n",
       "      <th>Помидоры</th>\n",
       "      <td>29</td>\n",
       "      <td>19</td>\n",
       "      <td>7</td>\n",
       "      <td>318</td>\n",
       "    </tr>\n",
       "    <tr>\n",
       "      <th>Яблоки</th>\n",
       "      <td>13</td>\n",
       "      <td>24</td>\n",
       "      <td>8</td>\n",
       "      <td>326</td>\n",
       "    </tr>\n",
       "  </tbody>\n",
       "</table>\n",
       "</div>"
      ],
      "text/plain": [
       "          Жиры  Белки  Углеводы  Калорийность\n",
       "Хлеб         6     19        29           383\n",
       "Колбаса     18      8        26           100\n",
       "Огурцы      18     23        19           311\n",
       "Помидоры    29     19         7           318\n",
       "Яблоки      13     24         8           326"
      ]
     },
     "execution_count": 9,
     "metadata": {},
     "output_type": "execute_result"
    }
   ],
   "source": [
    "matrix = np.random.randint(5, 30, (5, 3))\n",
    "df = pd.DataFrame(matrix, \n",
    "                  columns=['Жиры', 'Белки', 'Углеводы'], \n",
    "                  index=['Хлеб', 'Колбаса', 'Огурцы', 'Помидоры', 'Яблоки'])\n",
    "\n",
    "df['Калорийность'] = np.random.randint(100, 400, 5)\n",
    "df"
   ]
  },
  {
   "cell_type": "markdown",
   "metadata": {},
   "source": [
    "Так же `DataFrame` можно собирать из `Series`. При \"сборке\" `DataFrame` из `Series` будут учитываться индексы и это не допустит перепутывания данных:"
   ]
  },
  {
   "cell_type": "code",
   "execution_count": 10,
   "metadata": {},
   "outputs": [
    {
     "name": "stdout",
     "output_type": "stream",
     "text": [
      "Обращаем внимание на значения. height:\n",
      "Иванов         172\n",
      "Петров         154\n",
      "Сидоров        175\n",
      "Александров    187\n",
      "Сергеев        178\n",
      "dtype: int64\n",
      "\n",
      "Обращаем внимание на значения. weight:\n",
      "Петров      66\n",
      "Сидоров     82\n",
      "Иванов      70\n",
      "Сергеев     89\n",
      "Степанов    75\n",
      "dtype: int64\n"
     ]
    },
    {
     "data": {
      "text/html": [
       "<div>\n",
       "<style scoped>\n",
       "    .dataframe tbody tr th:only-of-type {\n",
       "        vertical-align: middle;\n",
       "    }\n",
       "\n",
       "    .dataframe tbody tr th {\n",
       "        vertical-align: top;\n",
       "    }\n",
       "\n",
       "    .dataframe thead th {\n",
       "        text-align: right;\n",
       "    }\n",
       "</style>\n",
       "<table border=\"1\" class=\"dataframe\">\n",
       "  <thead>\n",
       "    <tr style=\"text-align: right;\">\n",
       "      <th></th>\n",
       "      <th>Рост</th>\n",
       "      <th>Вес</th>\n",
       "    </tr>\n",
       "  </thead>\n",
       "  <tbody>\n",
       "    <tr>\n",
       "      <th>Александров</th>\n",
       "      <td>187.0</td>\n",
       "      <td>NaN</td>\n",
       "    </tr>\n",
       "    <tr>\n",
       "      <th>Иванов</th>\n",
       "      <td>172.0</td>\n",
       "      <td>70.0</td>\n",
       "    </tr>\n",
       "    <tr>\n",
       "      <th>Петров</th>\n",
       "      <td>154.0</td>\n",
       "      <td>66.0</td>\n",
       "    </tr>\n",
       "    <tr>\n",
       "      <th>Сергеев</th>\n",
       "      <td>178.0</td>\n",
       "      <td>89.0</td>\n",
       "    </tr>\n",
       "    <tr>\n",
       "      <th>Сидоров</th>\n",
       "      <td>175.0</td>\n",
       "      <td>82.0</td>\n",
       "    </tr>\n",
       "    <tr>\n",
       "      <th>Степанов</th>\n",
       "      <td>NaN</td>\n",
       "      <td>75.0</td>\n",
       "    </tr>\n",
       "  </tbody>\n",
       "</table>\n",
       "</div>"
      ],
      "text/plain": [
       "              Рост   Вес\n",
       "Александров  187.0   NaN\n",
       "Иванов       172.0  70.0\n",
       "Петров       154.0  66.0\n",
       "Сергеев      178.0  89.0\n",
       "Сидоров      175.0  82.0\n",
       "Степанов       NaN  75.0"
      ]
     },
     "execution_count": 10,
     "metadata": {},
     "output_type": "execute_result"
    }
   ],
   "source": [
    "height = pd.Series(np.random.normal(180, 10, 5).astype(int), \n",
    "                   index=['Иванов', 'Петров', 'Сидоров', 'Александров', 'Сергеев'])\n",
    "\n",
    "weight = pd.Series(np.random.normal(70, 7, 5).astype(int), \n",
    "                   index=['Петров', 'Сидоров', 'Иванов', 'Сергеев', 'Степанов'])  # Заметьте, что порядок индексов не совпадает\n",
    "\n",
    "print('Обращаем внимание на значения. height:')\n",
    "print(height)\n",
    "print('\\nОбращаем внимание на значения. weight:')\n",
    "print(weight)\n",
    "df = pd.DataFrame({\"Рост\": height, \"Вес\": weight})\n",
    "df"
   ]
  },
  {
   "cell_type": "markdown",
   "metadata": {},
   "source": [
    "Можете удостовериться, что значения не перепутаны. Более того, Pandas поддерживает работу с данными с пропусками. \n",
    "Там, где не удалось найти сопоставление рост/вес, будут заполнены значениями `NaN`"
   ]
  },
  {
   "cell_type": "markdown",
   "metadata": {},
   "source": [
    "Так же можно создавать новые колонки как функцию от существующих:"
   ]
  },
  {
   "cell_type": "code",
   "execution_count": 11,
   "metadata": {},
   "outputs": [
    {
     "data": {
      "text/html": [
       "<div>\n",
       "<style scoped>\n",
       "    .dataframe tbody tr th:only-of-type {\n",
       "        vertical-align: middle;\n",
       "    }\n",
       "\n",
       "    .dataframe tbody tr th {\n",
       "        vertical-align: top;\n",
       "    }\n",
       "\n",
       "    .dataframe thead th {\n",
       "        text-align: right;\n",
       "    }\n",
       "</style>\n",
       "<table border=\"1\" class=\"dataframe\">\n",
       "  <thead>\n",
       "    <tr style=\"text-align: right;\">\n",
       "      <th></th>\n",
       "      <th>Рост</th>\n",
       "      <th>Вес</th>\n",
       "      <th>ИМТ</th>\n",
       "    </tr>\n",
       "  </thead>\n",
       "  <tbody>\n",
       "    <tr>\n",
       "      <th>Александров</th>\n",
       "      <td>185.0</td>\n",
       "      <td>NaN</td>\n",
       "      <td>NaN</td>\n",
       "    </tr>\n",
       "    <tr>\n",
       "      <th>Иванов</th>\n",
       "      <td>178.0</td>\n",
       "      <td>78.0</td>\n",
       "      <td>24.618104</td>\n",
       "    </tr>\n",
       "    <tr>\n",
       "      <th>Петров</th>\n",
       "      <td>188.0</td>\n",
       "      <td>65.0</td>\n",
       "      <td>18.390675</td>\n",
       "    </tr>\n",
       "    <tr>\n",
       "      <th>Сергеев</th>\n",
       "      <td>199.0</td>\n",
       "      <td>62.0</td>\n",
       "      <td>15.656170</td>\n",
       "    </tr>\n",
       "    <tr>\n",
       "      <th>Сидоров</th>\n",
       "      <td>186.0</td>\n",
       "      <td>61.0</td>\n",
       "      <td>17.632096</td>\n",
       "    </tr>\n",
       "    <tr>\n",
       "      <th>Степанов</th>\n",
       "      <td>NaN</td>\n",
       "      <td>70.0</td>\n",
       "      <td>NaN</td>\n",
       "    </tr>\n",
       "  </tbody>\n",
       "</table>\n",
       "</div>"
      ],
      "text/plain": [
       "              Рост   Вес        ИМТ\n",
       "Александров  185.0   NaN        NaN\n",
       "Иванов       178.0  78.0  24.618104\n",
       "Петров       188.0  65.0  18.390675\n",
       "Сергеев      199.0  62.0  15.656170\n",
       "Сидоров      186.0  61.0  17.632096\n",
       "Степанов       NaN  70.0        NaN"
      ]
     },
     "execution_count": 11,
     "metadata": {},
     "output_type": "execute_result"
    }
   ],
   "source": [
    "height = pd.Series(np.random.normal(180, 10, 5).astype(int), index=['Иванов', 'Петров', 'Сидоров', 'Александров', 'Сергеев'])\n",
    "weight = pd.Series(np.random.normal(70, 7, 5).astype(int), index=['Петров', 'Сидоров', 'Иванов', 'Сергеев', 'Степанов'])\n",
    "df = pd.DataFrame({\"Рост\": height, \"Вес\": weight})\n",
    "\n",
    "df['ИМТ'] = df['Вес'] / ((df['Рост'] / 100) ** 2)  # Индекс массы тела - вес в кг / (рост в см)^2\n",
    "\n",
    "df"
   ]
  }
 ],
 "metadata": {
  "kernelspec": {
   "display_name": "Python 3",
   "language": "python",
   "name": "python3"
  },
  "language_info": {
   "codemirror_mode": {
    "name": "ipython",
    "version": 3
   },
   "file_extension": ".py",
   "mimetype": "text/x-python",
   "name": "python",
   "nbconvert_exporter": "python",
   "pygments_lexer": "ipython3",
   "version": "3.8.2"
  }
 },
 "nbformat": 4,
 "nbformat_minor": 2
}
