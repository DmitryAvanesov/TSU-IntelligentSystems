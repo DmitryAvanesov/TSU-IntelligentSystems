{
 "cells": [
  {
   "cell_type": "markdown",
   "metadata": {},
   "source": [
    "# Множества (set)\n",
    "\n",
    "Есть ещё один мощный и полезный для многих задач встроенный тип коллекций `set()`. Как и в математике, множества неупорядоченны и содержат лишь уникальные элементы. Чтобы создать множество нужно передать в конструктор класса `set()` любую другую коллекцию:"
   ]
  },
  {
   "cell_type": "code",
   "execution_count": null,
   "metadata": {},
   "outputs": [],
   "source": [
    "L1 = [1, 2, 3]\n",
    "L2 = [1, 2, 3, 2, 3, 2, 2, 2, 2, 3, 1, 2, 4]\n",
    "S1 = set(L1)\n",
    "S2 = set(L2)\n",
    "\n",
    "print(f'L1 = {L1}')\n",
    "print(f'L2 = {L2}')\n",
    "print(f'\\nS1 = set(L1) = {S1}')\n",
    "print(f'S2 = set(L2) = {S2}')\n",
    "print(f'\\nВ списке L2 всего {len(S2)} уникальных элементов')"
   ]
  },
  {
   "cell_type": "markdown",
   "metadata": {},
   "source": [
    "Помимо подсчёта уникальных элементов, в python реализована алгебра множеств (причём довольно быстрая). Операции и операторы:\n",
    "* x in set1 - проверка на принадлежность элемента x множеству s\n",
    "* set1.add(x) - добавляет в set1 элемент x, изменяет объект set1\n",
    "* set1.remove(x) - удаляет элемент x из множества set1, изменяет объект set1\n",
    "* set1 == set2 - проверка множеств на равенство\n",
    "* set1 >= set2 - проверка, является ли set2 подмножеством set1\n",
    "* set1 | set2 | set3 | ... - объединение множеств\n",
    "* set1 & set2 & set3 & ... - пересечение множеств\n",
    "* set1 - set2 - вычитание элементов множества set2 из set1\n",
    "* set1 ^ set2 - разница множеств, то есть, выводит все элементы, которые лежат в set1, но не в set2 и те, которые лежат в set2, но не в set1.\n",
    "\n",
    "А теперь по порядку. Проверка на принадлежность:"
   ]
  },
  {
   "cell_type": "code",
   "execution_count": null,
   "metadata": {},
   "outputs": [],
   "source": [
    "L1 = [1, 2, 3]\n",
    "S1 = set(L1)\n",
    "\n",
    "print(f'S1 = {S1}')\n",
    "print(f'\\n1 in S1 = {1 in S1}')\n",
    "print(f'9 in S1 = {9 in S1}')"
   ]
  },
  {
   "cell_type": "markdown",
   "metadata": {},
   "source": [
    "Добавление и удаление элементов:"
   ]
  },
  {
   "cell_type": "code",
   "execution_count": null,
   "metadata": {},
   "outputs": [],
   "source": [
    "L1 = [1, 2, 3]\n",
    "S1 = set(L1)\n",
    "S2 = set(L1)\n",
    "\n",
    "S1.add(4)\n",
    "S2.remove(1)\n",
    "\n",
    "print(f'S1 = {S1}')\n",
    "print(f'S2 = {S2}')"
   ]
  },
  {
   "cell_type": "markdown",
   "metadata": {},
   "source": [
    "Сравнение:"
   ]
  },
  {
   "cell_type": "code",
   "execution_count": null,
   "metadata": {},
   "outputs": [],
   "source": [
    "L1 = [1, 2, 3]\n",
    "S1 = set(L1)\n",
    "S2 = set(L1)\n",
    "\n",
    "S1.add(4)\n",
    "S2.remove(1)\n",
    "\n",
    "print(f'S1 = {S1}')\n",
    "print(f'S2 = {S2}')\n",
    "print(f'\\nS1 == S2 = {S1 == S2}')\n",
    "print(f'S1 == S1 = {S1 == S1}')\n",
    "print(f'\\nS1 >= S2 = {S1 >= S2}')\n",
    "print(f'S1 <= S2 = {S1 <= S2}')"
   ]
  },
  {
   "cell_type": "markdown",
   "metadata": {},
   "source": [
    "Объединение, пересечение, разность и взаимная разность:"
   ]
  },
  {
   "cell_type": "code",
   "execution_count": null,
   "metadata": {},
   "outputs": [],
   "source": [
    "L1 = [1, 2, 3]\n",
    "L2 = [3, 4, 5]\n",
    "\n",
    "S1 = set(L1)\n",
    "S2 = set(L2)\n",
    "\n",
    "print(f'\\nS1 = {S1}')\n",
    "print(f'S1 = {S2}')\n",
    "\n",
    "print('\\nКоммутативные операции:')\n",
    "print(f'Объединение: S1 | S2 = {S1 | S2}')\n",
    "print(f'Пересечение: S1 & S2 = {S1 & S2}')\n",
    "print(f'Взаимная разность: S1 ^ S2 = {S1 ^ S2}')\n",
    "\n",
    "print('\\nНекоммутативные операции:')\n",
    "print(f'Разность: S1 - S2 = {S1 - S2}')\n",
    "print(f'Разность: S2 - S1 = {S2 - S1}')"
   ]
  },
  {
   "cell_type": "markdown",
   "metadata": {},
   "source": [
    "# Кортежи (tuple)\n",
    "\n",
    "И ещё один встроенный тип коллекций в python это `tuple`. В принципе, можно рассматривать их как неизменяемые списки. Кортежи записываются в круглых скобках с перечислением элементов через запятую:"
   ]
  },
  {
   "cell_type": "code",
   "execution_count": null,
   "metadata": {},
   "outputs": [],
   "source": [
    "tup = (2, 4, 8)\n",
    "\n",
    "print(f'tup = {tup}')\n",
    "print(f'tup[0] = {tup[0]}')\n",
    "print(f'tup[:1] = {tup[:2]}')\n",
    "print(f'len(tup) = {len(tup)}')"
   ]
  },
  {
   "cell_type": "markdown",
   "metadata": {},
   "source": [
    "Круглые скобки можно опускать"
   ]
  },
  {
   "cell_type": "code",
   "execution_count": null,
   "metadata": {},
   "outputs": [],
   "source": [
    "tup = 2, 4, 8\n",
    "\n",
    "print(f'tup = {tup}')"
   ]
  },
  {
   "cell_type": "markdown",
   "metadata": {},
   "source": [
    "Такую запись можно использовать для множественного присвоения:"
   ]
  },
  {
   "cell_type": "code",
   "execution_count": 1,
   "metadata": {},
   "outputs": [
    {
     "name": "stdout",
     "output_type": "stream",
     "text": [
      "x = 2\n",
      "y = 4\n"
     ]
    }
   ],
   "source": [
    "x, y = 2, 4\n",
    "\n",
    "print(f'x = {x}')\n",
    "print(f'y = {y}')"
   ]
  },
  {
   "cell_type": "markdown",
   "metadata": {},
   "source": [
    "Или для обмена значениями:"
   ]
  },
  {
   "cell_type": "code",
   "execution_count": null,
   "metadata": {},
   "outputs": [],
   "source": [
    "x = 'икс'\n",
    "y = 'игрек'\n",
    "x, y = y, x\n",
    "\n",
    "print(f'x = {x}')\n",
    "print(f'y = {y}')"
   ]
  },
  {
   "cell_type": "markdown",
   "metadata": {},
   "source": [
    "Кортежи являются неизменяемыми:"
   ]
  },
  {
   "cell_type": "code",
   "execution_count": 2,
   "metadata": {},
   "outputs": [
    {
     "ename": "TypeError",
     "evalue": "'tuple' object does not support item assignment",
     "output_type": "error",
     "traceback": [
      "\u001b[1;31m---------------------------------------------------------------------------\u001b[0m",
      "\u001b[1;31mTypeError\u001b[0m                                 Traceback (most recent call last)",
      "\u001b[1;32m<ipython-input-2-5be4bd279fc9>\u001b[0m in \u001b[0;36m<module>\u001b[1;34m\u001b[0m\n\u001b[0;32m      1\u001b[0m \u001b[0mtup\u001b[0m \u001b[1;33m=\u001b[0m \u001b[1;33m(\u001b[0m\u001b[1;36m1\u001b[0m\u001b[1;33m,\u001b[0m \u001b[1;36m2\u001b[0m\u001b[1;33m,\u001b[0m \u001b[1;36m3\u001b[0m\u001b[1;33m)\u001b[0m\u001b[1;33m\u001b[0m\u001b[1;33m\u001b[0m\u001b[0m\n\u001b[1;32m----> 2\u001b[1;33m \u001b[0mtup\u001b[0m\u001b[1;33m[\u001b[0m\u001b[1;36m0\u001b[0m\u001b[1;33m]\u001b[0m \u001b[1;33m=\u001b[0m \u001b[1;36m4\u001b[0m\u001b[1;33m\u001b[0m\u001b[1;33m\u001b[0m\u001b[0m\n\u001b[0m",
      "\u001b[1;31mTypeError\u001b[0m: 'tuple' object does not support item assignment"
     ]
    }
   ],
   "source": [
    "tup = (1, 2, 3)\n",
    "tup[0] = 4"
   ]
  },
  {
   "cell_type": "markdown",
   "metadata": {},
   "source": [
    "Соответственно для них отсутствуют методы, которые изменяют объект:"
   ]
  },
  {
   "cell_type": "code",
   "execution_count": 3,
   "metadata": {},
   "outputs": [
    {
     "ename": "AttributeError",
     "evalue": "'tuple' object has no attribute 'append'",
     "output_type": "error",
     "traceback": [
      "\u001b[1;31m---------------------------------------------------------------------------\u001b[0m",
      "\u001b[1;31mAttributeError\u001b[0m                            Traceback (most recent call last)",
      "\u001b[1;32m<ipython-input-3-738617ecc3f5>\u001b[0m in \u001b[0;36m<module>\u001b[1;34m\u001b[0m\n\u001b[0;32m      1\u001b[0m \u001b[0mtup\u001b[0m \u001b[1;33m=\u001b[0m \u001b[1;33m(\u001b[0m\u001b[1;36m1\u001b[0m\u001b[1;33m,\u001b[0m \u001b[1;36m2\u001b[0m\u001b[1;33m,\u001b[0m \u001b[1;36m3\u001b[0m\u001b[1;33m)\u001b[0m\u001b[1;33m\u001b[0m\u001b[1;33m\u001b[0m\u001b[0m\n\u001b[1;32m----> 2\u001b[1;33m \u001b[0mtup\u001b[0m\u001b[1;33m.\u001b[0m\u001b[0mappend\u001b[0m\u001b[1;33m(\u001b[0m\u001b[1;36m4\u001b[0m\u001b[1;33m)\u001b[0m\u001b[1;33m\u001b[0m\u001b[1;33m\u001b[0m\u001b[0m\n\u001b[0m",
      "\u001b[1;31mAttributeError\u001b[0m: 'tuple' object has no attribute 'append'"
     ]
    }
   ],
   "source": [
    "tup = (1, 2, 3)\n",
    "tup.append(4)"
   ]
  },
  {
   "cell_type": "markdown",
   "metadata": {},
   "source": [
    "# Counter"
   ]
  },
  {
   "cell_type": "markdown",
   "metadata": {},
   "source": [
    "Ещё одной интересной стандартной коллекцией является счётчик. Однако, в ядре его нет и его импортируют из стандартного модуля collections. \n",
    "\n",
    "Судя по названию, используется для подсчёта различных объектов. Ведёт себя счётчик практически как словарь:"
   ]
  },
  {
   "cell_type": "code",
   "execution_count": null,
   "metadata": {},
   "outputs": [],
   "source": [
    "from collections import Counter\n",
    "\n",
    "c = Counter()\n",
    "\n",
    "for word in ['red', 'blue', 'red', 'green', 'blue', 'blue']:\n",
    "    c[word] += 1\n",
    "\n",
    "print(f'c = {c}')\n",
    "print(f\"c['blue'] = {c['blue']}\")\n",
    "print(f\"c['yellow'] = {c['yellow']}\")"
   ]
  },
  {
   "cell_type": "markdown",
   "metadata": {},
   "source": [
    "Очевидные отличия от словаря - обращение к несуществующему элементу возвращает `0` вместо `KeyError`. Однако, это ещё не всё.\n",
    "\n",
    "Счётчик можно красиво инициализировать итерируемым объектом:"
   ]
  },
  {
   "cell_type": "code",
   "execution_count": null,
   "metadata": {},
   "outputs": [],
   "source": [
    "c = Counter('Ехал Путин через Путин'.split())\n",
    "print(f'c = {c}')"
   ]
  },
  {
   "cell_type": "markdown",
   "metadata": {},
   "source": [
    "А так же красиво апдейтнуть:"
   ]
  },
  {
   "cell_type": "code",
   "execution_count": null,
   "metadata": {},
   "outputs": [],
   "source": [
    "c = Counter('Ехал Путин через Путин'.split())\n",
    "c.update('Видит Путин в Путин Путин'.split())\n",
    "print(f'c = {c}')"
   ]
  },
  {
   "cell_type": "markdown",
   "metadata": {},
   "source": [
    "Апдейтить можно и другим счётчиком "
   ]
  },
  {
   "cell_type": "code",
   "execution_count": null,
   "metadata": {},
   "outputs": [],
   "source": [
    "c = Counter('Ехал Путин через Путин'.split())\n",
    "s = Counter('Видит Путин в Путин Путин'.split()) # s - значит sчётчик\n",
    "\n",
    "print(f'c = {c}')\n",
    "print(f's = {s}')\n",
    "\n",
    "c.update(s)\n",
    "print(f'\\nc (updated) = {c}')"
   ]
  },
  {
   "cell_type": "markdown",
   "metadata": {},
   "source": [
    "Ну и, наконец, имеет удобный метод `Counter.most_common()`, который выводит подсчитанные элементы по их частоте в убывающем порядке. В качестве аргумента можно передать целое число чтобы ограничить количество элементов:"
   ]
  },
  {
   "cell_type": "code",
   "execution_count": null,
   "metadata": {},
   "outputs": [],
   "source": [
    "c = Counter('Ехал Путин через Путин'.split())\n",
    "c.update('Видит Путин в Путин Путин'.split())\n",
    "\n",
    "print(f'c = {c}')\n",
    "print(f'\\nc.most_common() = {c.most_common()}')\n",
    "print(f'c.most_common(1) = {c.most_common(1)}')\n"
   ]
  }
 ],
 "metadata": {
  "kernelspec": {
   "display_name": "Python 3",
   "language": "python",
   "name": "python3"
  },
  "language_info": {
   "codemirror_mode": {
    "name": "ipython",
    "version": 3
   },
   "file_extension": ".py",
   "mimetype": "text/x-python",
   "name": "python",
   "nbconvert_exporter": "python",
   "pygments_lexer": "ipython3",
   "version": "3.7.6"
  }
 },
 "nbformat": 4,
 "nbformat_minor": 2
}
