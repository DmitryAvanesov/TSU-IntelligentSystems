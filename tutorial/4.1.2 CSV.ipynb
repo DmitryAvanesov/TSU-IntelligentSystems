{
 "cells": [
  {
   "cell_type": "code",
   "execution_count": 1,
   "metadata": {},
   "outputs": [],
   "source": [
    "import pandas as pd\n",
    "import numpy as np"
   ]
  },
  {
   "cell_type": "markdown",
   "metadata": {},
   "source": [
    "# .csv\n",
    "## Описание формата:\n",
    "Обычно для хранения табличных данных, в том числе и `DataFrame`, в виде файлов используют формат `.csv`. CSV расшифровывается как _comma separated values_ и имеет соответсвующую структуру.\n",
    "Строки табличных данных записываются так же построчно, а столбцы разделяются запятой.\n",
    "\n",
    "## Сохранение в .csv\n",
    "Для того, чтобы сохранить объект типа `DataFrame` в csv вызывается метод объекта `.to_csv(путь_до_файла)`. Однако, сначала вспомним как выглядит `DataFrame` с продуктами из предыдущей главы:"
   ]
  },
  {
   "cell_type": "code",
   "execution_count": 2,
   "metadata": {},
   "outputs": [
    {
     "data": {
      "text/html": [
       "<div>\n",
       "<style scoped>\n",
       "    .dataframe tbody tr th:only-of-type {\n",
       "        vertical-align: middle;\n",
       "    }\n",
       "\n",
       "    .dataframe tbody tr th {\n",
       "        vertical-align: top;\n",
       "    }\n",
       "\n",
       "    .dataframe thead th {\n",
       "        text-align: right;\n",
       "    }\n",
       "</style>\n",
       "<table border=\"1\" class=\"dataframe\">\n",
       "  <thead>\n",
       "    <tr style=\"text-align: right;\">\n",
       "      <th></th>\n",
       "      <th>Жиры</th>\n",
       "      <th>Белки</th>\n",
       "      <th>Углеводы</th>\n",
       "    </tr>\n",
       "  </thead>\n",
       "  <tbody>\n",
       "    <tr>\n",
       "      <th>Хлеб</th>\n",
       "      <td>14</td>\n",
       "      <td>16</td>\n",
       "      <td>28</td>\n",
       "    </tr>\n",
       "    <tr>\n",
       "      <th>Колбаса</th>\n",
       "      <td>7</td>\n",
       "      <td>6</td>\n",
       "      <td>16</td>\n",
       "    </tr>\n",
       "    <tr>\n",
       "      <th>Огурцы</th>\n",
       "      <td>8</td>\n",
       "      <td>13</td>\n",
       "      <td>5</td>\n",
       "    </tr>\n",
       "    <tr>\n",
       "      <th>Помидоры</th>\n",
       "      <td>27</td>\n",
       "      <td>9</td>\n",
       "      <td>20</td>\n",
       "    </tr>\n",
       "    <tr>\n",
       "      <th>Яблоки</th>\n",
       "      <td>9</td>\n",
       "      <td>9</td>\n",
       "      <td>20</td>\n",
       "    </tr>\n",
       "  </tbody>\n",
       "</table>\n",
       "</div>"
      ],
      "text/plain": [
       "          Жиры  Белки  Углеводы\n",
       "Хлеб        14     16        28\n",
       "Колбаса      7      6        16\n",
       "Огурцы       8     13         5\n",
       "Помидоры    27      9        20\n",
       "Яблоки       9      9        20"
      ]
     },
     "execution_count": 2,
     "metadata": {},
     "output_type": "execute_result"
    }
   ],
   "source": [
    "matrix = np.random.randint(5, 30, (5, 3))\n",
    "df = pd.DataFrame(matrix, \n",
    "                  columns=['Жиры', 'Белки', 'Углеводы'], \n",
    "                  index=['Хлеб', 'Колбаса', 'Огурцы', 'Помидоры', 'Яблоки'])\n",
    "df"
   ]
  },
  {
   "cell_type": "markdown",
   "metadata": {},
   "source": [
    "А теперь сохраним его и посмотрим, что будет содержать файл на диске:\n",
    "\n",
    "**Важно: Перед выполнением этой ячейки выполните предыдущую**"
   ]
  },
  {
   "cell_type": "code",
   "execution_count": 3,
   "metadata": {},
   "outputs": [
    {
     "name": "stdout",
     "output_type": "stream",
     "text": [
      "Содержимое файла: \n",
      "[',Жиры,Белки,Углеводы\\n', 'Хлеб,14,16,28\\n', 'Колбаса,7,6,16\\n', 'Огурцы,8,13,5\\n', 'Помидоры,27,9,20\\n', 'Яблоки,9,9,20\\n']\n"
     ]
    }
   ],
   "source": [
    "savepath = '/tmp/df.csv'\n",
    "df.to_csv(savepath)\n",
    "\n",
    "print(f'Содержимое файла: \\n{open(savepath).readlines()}')"
   ]
  },
  {
   "cell_type": "markdown",
   "metadata": {},
   "source": [
    "Сравните строки из файла с содержимым `DataFrame`."
   ]
  },
  {
   "cell_type": "markdown",
   "metadata": {},
   "source": [
    "## Загрузка .csv файла\n",
    "Для того, чтобы создать `DataFrame` из .csv файла нужно воспользоваться функцией `pd.read_csv(путь)`:"
   ]
  },
  {
   "cell_type": "code",
   "execution_count": 4,
   "metadata": {},
   "outputs": [
    {
     "data": {
      "text/html": [
       "<div>\n",
       "<style scoped>\n",
       "    .dataframe tbody tr th:only-of-type {\n",
       "        vertical-align: middle;\n",
       "    }\n",
       "\n",
       "    .dataframe tbody tr th {\n",
       "        vertical-align: top;\n",
       "    }\n",
       "\n",
       "    .dataframe thead th {\n",
       "        text-align: right;\n",
       "    }\n",
       "</style>\n",
       "<table border=\"1\" class=\"dataframe\">\n",
       "  <thead>\n",
       "    <tr style=\"text-align: right;\">\n",
       "      <th></th>\n",
       "      <th>Unnamed: 0</th>\n",
       "      <th>Жиры</th>\n",
       "      <th>Белки</th>\n",
       "      <th>Углеводы</th>\n",
       "    </tr>\n",
       "  </thead>\n",
       "  <tbody>\n",
       "    <tr>\n",
       "      <th>0</th>\n",
       "      <td>Хлеб</td>\n",
       "      <td>7</td>\n",
       "      <td>15</td>\n",
       "      <td>23</td>\n",
       "    </tr>\n",
       "    <tr>\n",
       "      <th>1</th>\n",
       "      <td>Колбаса</td>\n",
       "      <td>28</td>\n",
       "      <td>14</td>\n",
       "      <td>13</td>\n",
       "    </tr>\n",
       "    <tr>\n",
       "      <th>2</th>\n",
       "      <td>Огурцы</td>\n",
       "      <td>8</td>\n",
       "      <td>21</td>\n",
       "      <td>21</td>\n",
       "    </tr>\n",
       "    <tr>\n",
       "      <th>3</th>\n",
       "      <td>Помидоры</td>\n",
       "      <td>27</td>\n",
       "      <td>17</td>\n",
       "      <td>15</td>\n",
       "    </tr>\n",
       "    <tr>\n",
       "      <th>4</th>\n",
       "      <td>Яблоки</td>\n",
       "      <td>15</td>\n",
       "      <td>9</td>\n",
       "      <td>18</td>\n",
       "    </tr>\n",
       "  </tbody>\n",
       "</table>\n",
       "</div>"
      ],
      "text/plain": [
       "  Unnamed: 0  Жиры  Белки  Углеводы\n",
       "0       Хлеб     7     15        23\n",
       "1    Колбаса    28     14        13\n",
       "2     Огурцы     8     21        21\n",
       "3   Помидоры    27     17        15\n",
       "4     Яблоки    15      9        18"
      ]
     },
     "execution_count": 4,
     "metadata": {},
     "output_type": "execute_result"
    }
   ],
   "source": [
    "matrix = np.random.randint(5, 30, (5, 3))\n",
    "df = pd.DataFrame(matrix, \n",
    "                  columns=['Жиры', 'Белки', 'Углеводы'], \n",
    "                  index=['Хлеб', 'Колбаса', 'Огурцы', 'Помидоры', 'Яблоки'])\n",
    "\n",
    "savepath = '/tmp/df.csv'\n",
    "df.to_csv(savepath)\n",
    "\n",
    "loaded_df = pd.read_csv(savepath)\n",
    "loaded_df"
   ]
  },
  {
   "cell_type": "markdown",
   "metadata": {},
   "source": [
    "То, что раньше было индексом становится безымянной колонкой. Чтобы этого не происходило, фукнции `pd.read_csv` нужно передать параметр `index_col`. Этот параметр указывает, какой столбец нужно использовать в качестве индекса. Значение этого параметра может быть либо типа `int`, либо типа `str`. В случае `int` параметр воспринимается как порядковый номер столбца, который нужно использовать в качестве индекса. В случае `str` столбец выбирается по имени."
   ]
  },
  {
   "cell_type": "code",
   "execution_count": 5,
   "metadata": {},
   "outputs": [
    {
     "data": {
      "text/html": [
       "<div>\n",
       "<style scoped>\n",
       "    .dataframe tbody tr th:only-of-type {\n",
       "        vertical-align: middle;\n",
       "    }\n",
       "\n",
       "    .dataframe tbody tr th {\n",
       "        vertical-align: top;\n",
       "    }\n",
       "\n",
       "    .dataframe thead th {\n",
       "        text-align: right;\n",
       "    }\n",
       "</style>\n",
       "<table border=\"1\" class=\"dataframe\">\n",
       "  <thead>\n",
       "    <tr style=\"text-align: right;\">\n",
       "      <th></th>\n",
       "      <th>Жиры</th>\n",
       "      <th>Белки</th>\n",
       "      <th>Углеводы</th>\n",
       "    </tr>\n",
       "  </thead>\n",
       "  <tbody>\n",
       "    <tr>\n",
       "      <th>Хлеб</th>\n",
       "      <td>12</td>\n",
       "      <td>24</td>\n",
       "      <td>16</td>\n",
       "    </tr>\n",
       "    <tr>\n",
       "      <th>Колбаса</th>\n",
       "      <td>16</td>\n",
       "      <td>22</td>\n",
       "      <td>29</td>\n",
       "    </tr>\n",
       "    <tr>\n",
       "      <th>Огурцы</th>\n",
       "      <td>18</td>\n",
       "      <td>11</td>\n",
       "      <td>18</td>\n",
       "    </tr>\n",
       "    <tr>\n",
       "      <th>Помидоры</th>\n",
       "      <td>9</td>\n",
       "      <td>13</td>\n",
       "      <td>17</td>\n",
       "    </tr>\n",
       "    <tr>\n",
       "      <th>Яблоки</th>\n",
       "      <td>28</td>\n",
       "      <td>14</td>\n",
       "      <td>20</td>\n",
       "    </tr>\n",
       "  </tbody>\n",
       "</table>\n",
       "</div>"
      ],
      "text/plain": [
       "          Жиры  Белки  Углеводы\n",
       "Хлеб        12     24        16\n",
       "Колбаса     16     22        29\n",
       "Огурцы      18     11        18\n",
       "Помидоры     9     13        17\n",
       "Яблоки      28     14        20"
      ]
     },
     "execution_count": 5,
     "metadata": {},
     "output_type": "execute_result"
    }
   ],
   "source": [
    "matrix = np.random.randint(5, 30, (5, 3))\n",
    "df = pd.DataFrame(matrix, \n",
    "                  columns=['Жиры', 'Белки', 'Углеводы'], \n",
    "                  index=['Хлеб', 'Колбаса', 'Огурцы', 'Помидоры', 'Яблоки'])\n",
    "\n",
    "savepath = '/tmp/df.csv'\n",
    "df.to_csv(savepath)\n",
    "\n",
    "loaded_df = pd.read_csv(savepath, index_col=0)  # <---- Указали взять индексом самый левый столбец\n",
    "loaded_df"
   ]
  },
  {
   "cell_type": "markdown",
   "metadata": {},
   "source": [
    "Вот это уже похоже на наш исходный `DataFrame`"
   ]
  }
 ],
 "metadata": {
  "kernelspec": {
   "display_name": "Python 3",
   "language": "python",
   "name": "python3"
  },
  "language_info": {
   "codemirror_mode": {
    "name": "ipython",
    "version": 3
   },
   "file_extension": ".py",
   "mimetype": "text/x-python",
   "name": "python",
   "nbconvert_exporter": "python",
   "pygments_lexer": "ipython3",
   "version": "3.8.2"
  }
 },
 "nbformat": 4,
 "nbformat_minor": 2
}
