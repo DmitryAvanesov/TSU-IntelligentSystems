{
 "cells": [
  {
   "cell_type": "code",
   "execution_count": null,
   "metadata": {},
   "outputs": [],
   "source": [
    "import numpy as np\n",
    "import matplotlib.pyplot as plt\n",
    "from sklearn.datasets.samples_generator import make_blobs\n",
    "from functools import partial\n",
    "from sklearn.svm import SVC\n",
    "\n",
    "import seaborn as sns; sns.set()"
   ]
  },
  {
   "cell_type": "markdown",
   "metadata": {},
   "source": [
    "# Реализация SVM в библиотеке sklearn\n",
    "\n",
    "Рассмотрим имплементацию классификатора, основанного на методе опорных векторов, реализованного в библиотеке sklearn.\n",
    "Для его импользования нужно импортировать конструктор классификатора `from sklearn.svm import SVC`.\n",
    "\n",
    "Мы воспользуемся следующими параметрами:\n",
    "* kernel - ядро, используемое алгоритмом. Описывает какими уравнениями будет задаваться разделяющие гиперповерхности. Возможные значения: ‘linear’, ‘poly’, ‘rbf’, ‘sigmoid’, ‘precomputed’. По умолчанию используется ядро с радиальными базисными функциям - 'rbf'. Мы же воспользуемся 'linear', поскольку наши данные позволяют разделить их прямой. \n",
    "* C - параметр штрафа за ошибки. Чем он меньше, тем шире оказывается отступ.\n",
    "\n",
    "Можете поэксперементировать со значениями параметров `C` и `kernel`"
   ]
  },
  {
   "cell_type": "code",
   "execution_count": null,
   "metadata": {},
   "outputs": [],
   "source": [
    "model = SVC(kernel='linear', C=100)"
   ]
  },
  {
   "cell_type": "markdown",
   "metadata": {},
   "source": [
    "Создадим тренировочную выборку, знакомую нам из прошлых глав."
   ]
  },
  {
   "cell_type": "code",
   "execution_count": null,
   "metadata": {},
   "outputs": [],
   "source": [
    "X_train, Y_train = make_blobs(n_samples=50, centers=2, random_state=0, cluster_std=0.6)\n",
    "_ = plt.scatter(X_train[:, 0], X_train[:, 1], c=Y_train, cmap='jet')"
   ]
  },
  {
   "cell_type": "markdown",
   "metadata": {},
   "source": [
    "А теперь построим разделяющую гиперплоскость. Для этого необходимо обучить модель - предоставить ей данные о признаках и ответах.\n",
    "Делается это с помощью метода `model.fit()`"
   ]
  },
  {
   "cell_type": "code",
   "execution_count": null,
   "metadata": {},
   "outputs": [],
   "source": [
    "model.fit(X_train, Y_train)"
   ]
  },
  {
   "cell_type": "code",
   "execution_count": null,
   "metadata": {},
   "outputs": [],
   "source": [
    "f = plt.figure(figsize=(20, 10))\n",
    "\n",
    "x, y = np.linspace(-1, 3.5), np.linspace(0, 6)\n",
    "Y, X = np.meshgrid(y, x)\n",
    "xy = np.vstack([X.ravel(), Y.ravel()]).T\n",
    "P = model.decision_function(xy).reshape(X.shape)\n",
    "\n",
    "plt.contour(X, Y, P, colors='k', levels=[-1, 0, 1], alpha=0.5, linestyles=['--', '-', '--'])\n",
    "_ = plt.scatter(X_train[:, 0], X_train[:, 1], c=Y_train, cmap='jet')"
   ]
  }
 ],
 "metadata": {
  "kernelspec": {
   "display_name": "Python 3",
   "language": "python",
   "name": "python3"
  },
  "language_info": {
   "codemirror_mode": {
    "name": "ipython",
    "version": 3
   },
   "file_extension": ".py",
   "mimetype": "text/x-python",
   "name": "python",
   "nbconvert_exporter": "python",
   "pygments_lexer": "ipython3",
   "version": "3.8.2"
  }
 },
 "nbformat": 4,
 "nbformat_minor": 2
}
