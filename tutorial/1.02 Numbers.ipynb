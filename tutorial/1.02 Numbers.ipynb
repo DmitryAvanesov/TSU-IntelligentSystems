{
 "cells": [
  {
   "cell_type": "markdown",
   "metadata": {},
   "source": [
    "# Типы данных в Python\n",
    "## Числа\n",
    "\n",
    "Python - язык с **динамической типизацией**. Это значит, что тип данных переменной может изменятьcя по ходу выполнения инструкций.\n",
    "\n",
    "Начнём с **базовых** численных типов данных. Это `int`, `float` и `complex`. \n",
    "\n",
    "*N.B. тип переменной можно посмотреть функцией `type()`*"
   ]
  },
  {
   "cell_type": "code",
   "execution_count": null,
   "metadata": {},
   "outputs": [],
   "source": [
    "a = 5\n",
    "b = 2\n",
    "\n",
    "print('a =', a, '| type(a) =', type(a))\n",
    "print('b =', b, '| type(b) =', type(b))"
   ]
  },
  {
   "cell_type": "markdown",
   "metadata": {},
   "source": [
    "Попробуем посовершать с ними всякие арифметические операции"
   ]
  },
  {
   "cell_type": "code",
   "execution_count": null,
   "metadata": {},
   "outputs": [],
   "source": [
    "c = a + b\n",
    "print('c = a + b =', c, '| type(c) =', type(c)) # c = a + b = 7 <class 'int'>\n",
    "\n",
    "c = a - b\n",
    "print('c = a - b =', c, '| type(c) =', type(c)) # c = a - b = 3 <class 'int'>\n",
    "\n",
    "c = a * b\n",
    "print('c = a * b =', c, '| type(c) =', type(c)) # c = a * b = 10 <class 'int'>"
   ]
  },
  {
   "cell_type": "markdown",
   "metadata": {},
   "source": [
    "Но что на счёт динамической типизации? Тип `float` является расширением типа `int` и при необходимости тип переменной будет изменён:"
   ]
  },
  {
   "cell_type": "code",
   "execution_count": null,
   "metadata": {},
   "outputs": [],
   "source": [
    "a = 2\n",
    "b = .5\n",
    "\n",
    "c = a + b\n",
    "print('c = a + b =', c, '| type(c) =', type(c)) # c = a / b = 2.5 <class 'float'>\n",
    "d = c + c\n",
    "print('d = c + c =', d, '| type(d) =', type(d)) # d = c + c = 5.0 <class 'float'>"
   ]
  },
  {
   "cell_type": "markdown",
   "metadata": {},
   "source": [
    "Обратите внимание на вторую строчку. Возвращения к типу `int` не произошло, хоть и результат оказывается целым. Обратной дороги в `int` уже нет."
   ]
  },
  {
   "cell_type": "markdown",
   "metadata": {},
   "source": [
    "Так же оператор деления `/` в Python 3 по умолчанию производит конвертацию во `float` перед делением. Для целочисленного деления используется оператор `//`:"
   ]
  },
  {
   "cell_type": "code",
   "execution_count": null,
   "metadata": {},
   "outputs": [],
   "source": [
    "a = 6\n",
    "b = 3\n",
    "\n",
    "c = a / b\n",
    "print('c = a / b =', c, '| type(c) =', type(c)) # c = a / b = 2.0 | type(c) = <class 'float'>\n",
    "d = a // b\n",
    "print('d = a // b =', d, '| type(d) =', type(d)) # d = a // b = 2 | type(d) = <class 'int'>"
   ]
  },
  {
   "cell_type": "markdown",
   "metadata": {},
   "source": [
    "Целочисленное деление, к слову, ведёт себя как `div`, то есть, возвращает целую часть от деления:"
   ]
  },
  {
   "cell_type": "code",
   "execution_count": null,
   "metadata": {},
   "outputs": [],
   "source": [
    "a = 7\n",
    "b = 2\n",
    "\n",
    "c = a / b\n",
    "print('c = a / b =', c, '| type(c) =', type(c)) # c = a / b = 3.5 | type(c) = <class 'float'>\n",
    "d = a // b\n",
    "print('d = a // b =', d, '| type(d) =', type(d)) # d = a // b = 3 | type(d) = <class 'int'>"
   ]
  },
  {
   "cell_type": "markdown",
   "metadata": {},
   "source": [
    "Есть ли смысл использовать `//` и оставаться в `int`? \n",
    "\n",
    "На самом деле - да. И дело даже не в экономии памяти, память сейчас неприлично дешёвая. У `float` есть некоторые ограничение в точности:"
   ]
  },
  {
   "cell_type": "code",
   "execution_count": null,
   "metadata": {},
   "outputs": [],
   "source": [
    "a = 0.1 \n",
    "b = 0.2\n",
    "float_three = 10 * (a + b) # Предполагаем, что получится 3\n",
    "\n",
    "int_three = 3\n",
    "print('float_three - int_three =', float_three - int_three)"
   ]
  },
  {
   "cell_type": "markdown",
   "metadata": {},
   "source": [
    "Что имеем по факту? `10 * (0.1 + 0.2)` отличается от реальных целых трёх. На `4.440892098500626e-16`, но отличается.\n",
    "Мелочь, но в результате может накапливаться систематическая ошибка.\n",
    "\n",
    "Более того, целые числа в python поддерживают длинную арифметику. Это значит, что можем оперировать безумным количеством значащих цифр, когда для чисел с плавающей запятой всего 16.\n",
    "\n",
    "В то же время `int` поддерживает *длинную арифметику*. Это значит, что можно пользоваться числами безумной длины:"
   ]
  },
  {
   "cell_type": "code",
   "execution_count": null,
   "metadata": {},
   "outputs": [],
   "source": [
    "from math import factorial\n",
    "\n",
    "f = factorial(1000)\n",
    "print('f =', f)\n",
    "print('type(f) =', type(f))"
   ]
  },
  {
   "cell_type": "markdown",
   "metadata": {},
   "source": [
    "И это действительно `int`, в чем мы могли убедиться из последней строки.\n",
    "\n",
    "А теперь посмотрим, что такое потеря точности из-за ограниченности значащих цифр:"
   ]
  },
  {
   "cell_type": "code",
   "execution_count": null,
   "metadata": {},
   "outputs": [],
   "source": [
    "from math import factorial\n",
    "\n",
    "N = 25\n",
    "\n",
    "i = factorial(N)\n",
    "\n",
    "# Запишем в новую переменную приведённое к float число a:\n",
    "f = float(i) # Также можно было сделать i / 1\n",
    "\n",
    "print('i =', i)\n",
    "print('type(i) =', type(i))\n",
    "print('')\n",
    "print('f =', f)\n",
    "print('type(f) =', type(f))\n",
    "\n",
    "\n",
    "# А теперь следите за руками и длинной арифметикой:\n",
    "\n",
    "i_plus_one = i + 1\n",
    "print('')\n",
    "print('i_plus_one - i =', i_plus_one - i)\n",
    "print('i_plus_one - f =', i_plus_one - f) "
   ]
  },
  {
   "cell_type": "markdown",
   "metadata": {},
   "source": [
    "Загадка для любознательных: почему так происходит?\n",
    "\n",
    "А теперь кое-что совсем неадекватное:"
   ]
  },
  {
   "cell_type": "code",
   "execution_count": null,
   "metadata": {},
   "outputs": [],
   "source": [
    "from math import factorial\n",
    "\n",
    "N = 25\n",
    "a = factorial(N)\n",
    "b = a / 1.0 \n",
    "\n",
    "c = a + 987654321\n",
    "d = c + 987654321\n",
    "\n",
    "print('d - a =', d - a)\n",
    "print('d - b =', d - b, '<--- Помним, да, что a == b?')"
   ]
  },
  {
   "cell_type": "markdown",
   "metadata": {},
   "source": [
    "И, наконец, `complex`. Комплексные числа можно задать как явно, через конструктор `complex(Re, Im)`:"
   ]
  },
  {
   "cell_type": "code",
   "execution_count": null,
   "metadata": {},
   "outputs": [],
   "source": [
    "z1 = complex(3, 4)\n",
    "z2 = complex(1, 7)\n",
    "z3 = z1 / z2\n",
    "print('z1 = complex(3, 4) =', z1, '\\ttype(z1) =', type(z1))\n",
    "print('z2 = complex(1, 7) =', z2, '\\ttype(z2) =', type(z2))\n",
    "print('\\nz3 = z1 / z2 =', z3, '\\ttype(z3) =', type(z3))"
   ]
  },
  {
   "cell_type": "markdown",
   "metadata": {},
   "source": [
    "Так и в качестве расширения класса `float`. Для этого достаточно взять корень из отрицательного числа:"
   ]
  },
  {
   "cell_type": "code",
   "execution_count": null,
   "metadata": {},
   "outputs": [],
   "source": [
    "complex_j = (-1) ** (0.5)\n",
    "print('complex_j = (-1) ** (0.5) =', complex_j, '\\ttype(complex_j) =', type(complex_j))"
   ]
  }
 ],
 "metadata": {
  "kernelspec": {
   "display_name": "Python 3",
   "language": "python",
   "name": "python3"
  },
  "language_info": {
   "codemirror_mode": {
    "name": "ipython",
    "version": 3
   },
   "file_extension": ".py",
   "mimetype": "text/x-python",
   "name": "python",
   "nbconvert_exporter": "python",
   "pygments_lexer": "ipython3",
   "version": "3.6.5"
  }
 },
 "nbformat": 4,
 "nbformat_minor": 2
}
