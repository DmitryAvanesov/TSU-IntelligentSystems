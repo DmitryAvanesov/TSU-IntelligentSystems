{
 "cells": [
  {
   "cell_type": "code",
   "execution_count": null,
   "metadata": {},
   "outputs": [],
   "source": [
    "import numpy as np"
   ]
  },
  {
   "cell_type": "markdown",
   "metadata": {},
   "source": [
    "# Векторные операции в numpy\n",
    "## О чем речь?\n",
    "В прошлой главе было показано, что `numpy` хорош в обращении с числами. Здесь же мы разберём чем он хорош на примере векторных операций.\n",
    "\n",
    "Векторные операции - `ndarray` поддерживают element-wise, то есть, поэлементные, арифметические операции. Посмотрите следующий пример:"
   ]
  },
  {
   "cell_type": "code",
   "execution_count": null,
   "metadata": {},
   "outputs": [],
   "source": [
    "list_a = [10, 20, 30]\n",
    "list_b = [1, 2, 3]\n",
    "\n",
    "print('Результатом сложения объектов типа list будет конкатенация списков:')\n",
    "print(f'lists: {list_a} + {list_b} = {list_a + list_b},\\ttype(list_a + list_b): {type(list_a + list_b)},\\tlen(list_a + list_b): {len(list_a + list_b)}')\n",
    "\n",
    "arr_a, arr_b = np.array(list_a), np.array(list_b)\n",
    "print('\\nА вот ndarray складываются поэлементно:')\n",
    "print(f'ndarrays: {arr_a} + {arr_b} = {arr_a + arr_b},\\ttype(arr_a + arr_b): {type(arr_a + arr_b)},\\tlen(arr_a + arr_b): {len(arr_a + arr_b)}')"
   ]
  },
  {
   "cell_type": "markdown",
   "metadata": {},
   "source": [
    "Разумеется, к `ndarray` можно применять не только сложение, но и все остальные математические операции:"
   ]
  },
  {
   "cell_type": "code",
   "execution_count": null,
   "metadata": {},
   "outputs": [],
   "source": [
    "arr_a = np.array([10, 20, 30, 40])\n",
    "arr_b = np.array([1, 2, 3, 4])\n",
    "\n",
    "print(f'{arr_a} -  {arr_b} = {arr_a - arr_b }')\n",
    "print(f'{arr_a} *  {arr_b} = {arr_a * arr_b }')\n",
    "print(f'{arr_a} /  {arr_b} = {arr_a / arr_b }')\n",
    "print(f'{arr_a} // {arr_b} = {arr_a // arr_b }')\n",
    "print(f'{arr_a} %  {arr_b} = {arr_a % arr_b }')\n",
    "\n",
    "bases = 2 * np.ones(4)\n",
    "powers = np.arange(4)\n",
    "print('\\nМожно даже возводить в степень поэлементно: ')\n",
    "print(f'{bases} ** {powers} = {bases ** powers}')"
   ]
  },
  {
   "cell_type": "markdown",
   "metadata": {},
   "source": [
    "**NB: для матричного умножения используется оператор @**\n",
    "\n",
    "Так же в качестве одного из операндов может выступать скаляр. "
   ]
  },
  {
   "cell_type": "code",
   "execution_count": null,
   "metadata": {},
   "outputs": [],
   "source": [
    "arr_a = np.array([2, 4, 8, 16])\n",
    "b = 5\n",
    "\n",
    "print(f'{arr_a} +  {b} = {arr_a + b }')\n",
    "print(f'{arr_a} -  {b} = {arr_a - b }')\n",
    "print(f'{arr_a} *  {b} = {arr_a * b }')\n",
    "print(f'{arr_a} /  {b} = {arr_a / b }')\n",
    "print(f'{arr_a} // {b} = {arr_a // b }')\n",
    "print(f'{arr_a} %  {b} = {arr_a % b }')\n",
    "print(f'{arr_a} **  {b} = {arr_a ** b }')"
   ]
  },
  {
   "cell_type": "markdown",
   "metadata": {},
   "source": [
    "В более общем случае можно применять все вышеописанные арифметические операции между плоскими массивами и двухмерными и вообще между `ndarray` произвольных измерений.\n",
    "Делает возможными такие операции трансляция массивов (array broadcasting). Вот правила, по которым она выполняется (не бойтесь, дальше будут примеры):\n",
    "1. Если **размерность** двух массивов различается, форма (shape) массива с меньшей размерностью _дополняется_ единицами с левой стороны\n",
    "1. Если форма двух массивов не сопадает в каком-то измерении, массив у которого форма в данном измерении == 1 дублируется вдоль этого измерения до соответствия формы другого массива\n",
    "1. Если в каком либо измерении массивы различаются и количество элементов в этом измерении ни у одного из них не равно 1 - генерируется ошибка.\n",
    "\n",
    "А теперь рассмотрим примеры на каждое правило"
   ]
  },
  {
   "cell_type": "code",
   "execution_count": null,
   "metadata": {},
   "outputs": [],
   "source": [
    "a = np.random.randint(10, size=5)\n",
    "b = np.random.randint(10, size=(1, 1, 1, 5))\n",
    "c = a + b\n",
    "print('Правило 1: Если размерность двух массивов различается, форма (shape) массива с меньшей размерностью дополняется единицами с левой стороны.')\n",
    "\n",
    "print(f'\\na = {a}, a.shape = {a.shape} <--- не совпадает с b.shape')\n",
    "print(f'b = {b}, b.shape = {b.shape}')\n",
    "print(f'\\nc = a + b = {a} + {b} = {c}, c.shape = {c.shape} <--- совпадает с b.shape')\n",
    "\n",
    "print('\\nНа самом деле, при попытке сложения произошло следующее: ')\n",
    "print(f'c = a + b = np.broadcast_to(a, b.shape) + b = {np.broadcast_to(a, b.shape)} + {b} = {c}')"
   ]
  },
  {
   "cell_type": "code",
   "execution_count": null,
   "metadata": {},
   "outputs": [],
   "source": [
    "print('Правило 2: Если shape двух массивов не сопадает в каком-то измерении, массив у которого shape в данном измерении == 1 \\nдублируется вдоль этого измерения до соответствия shape другого массива')\n",
    "\n",
    "arr = np.random.randint(10, size=5)\n",
    "k = 5\n",
    "print('\\nПример 1: Умножение 1-D массива на скаляр:')\n",
    "print(f'k * arr = {k} * {arr} = {k*arr}, (k * arr).shape = {(k * arr).shape}')\n",
    "print(f'По аналогии с предыдущим примером, k * arr = np.broadcast_to(k, arr.shape) * arr = {np.broadcast_to(k, arr.shape)} * {arr} = {k * arr}')"
   ]
  },
  {
   "cell_type": "code",
   "execution_count": null,
   "metadata": {},
   "outputs": [],
   "source": [
    "matrix = np.random.randint(10, size=(4, 4))\n",
    "vector = np.arange(4).reshape(1, 4)\n",
    "\n",
    "print('\\nПример 2: Сложение матрицы и вектора-строки:')\n",
    "print(f'\\nvector: \\n{vector}')\n",
    "print(f'\\nmatrix: \\n{matrix}')\n",
    "print(f'\\nvector + matrix (shape = {(vector + matrix).shape}): \\n{vector + matrix}')\n",
    "\n",
    "print('\\nВ соответствии с правилом 2, если в одном из измерений не совпадают размеры: ')\n",
    "print(f'vector shape = {vector.shape}')\n",
    "print(f'matrix shape = {matrix.shape}')\n",
    "print('В данном случае ^ это измерение 0')\n",
    "\n",
    "print(f'\\nЗначит, vector транслируется до matrix.shape дублируя единственную строку вдоль 0 измерения до соотвествия матрице.')\n",
    "print(f'Получаестя, что vector + matrix это на самом деле np.broadcast_to(vector, matrix.shape) + matrix =')\n",
    "print(f'{np.broadcast_to(vector, matrix.shape)}')\n",
    "print('     +')\n",
    "print(f'{matrix}')\n",
    "print('     =')\n",
    "print(f'{matrix + vector}')"
   ]
  },
  {
   "cell_type": "code",
   "execution_count": null,
   "metadata": {},
   "outputs": [],
   "source": [
    "row = np.random.randint(10, size=(1, 5))\n",
    "col = np.random.randint(10, size=(2, 1))\n",
    "\n",
    "print('\\nПример 3: Сложение вектора-столбца и вектора-строки:')\n",
    "print(f'row (shape = {row.shape}): {row}')\n",
    "print(f'col (shape = {col.shape}:\\n {col}')\n",
    "\n",
    "print(f'\\nrow + col:\\n {row + col}')\n",
    "\n",
    "print('\\nЗдесь ситуация похитрее. Оба массива транслируются в соответствии с правилом 2:')\n",
    "print(f'\\n             V вот здесь единица дополняется до {col.shape[0]}')\n",
    "print(f'row.shape = {row.shape}')\n",
    "print(f'col.shape = {col.shape} <-- а вот здесь до {row.shape[1]}')\n",
    "print(f'\\nОба массива принмают форму {(col.shape[0], row.shape[1])}')\n",
    "\n",
    "print('\\nВ итоге между собой складываются массивы: ')\n",
    "mutual_shape = (col.shape[0], row.shape[1])\n",
    "print(np.broadcast_to(row, mutual_shape))\n",
    "print(f\"{' '* mutual_shape[1]}+\")\n",
    "print(np.broadcast_to(col, mutual_shape))\n",
    "print(f\"{' '* mutual_shape[1]}=\")\n",
    "print(row + col)"
   ]
  },
  {
   "cell_type": "markdown",
   "metadata": {},
   "source": [
    "Правило номер три можете разобрать самостоятельно. Я же перейду к следующей теме"
   ]
  },
  {
   "cell_type": "markdown",
   "metadata": {},
   "source": [
    "## Преимущества векторизации в производительности\n",
    "Векторные операции `numpy` написаны на Си и потому очень быстры. Насколько они быстрее циклов предлагаю попробовать самостоятельно запустить следующие примеры один за другим.\n",
    "Для отсчёта времени воспользуемся волшебной командой `%%timeit`. Сравним скорость вычисления скалярного произведения 2048 мерных векторов (да, такое приходится делать в ML)"
   ]
  },
  {
   "cell_type": "code",
   "execution_count": null,
   "metadata": {},
   "outputs": [],
   "source": [
    "v1 = np.random.rand(2048)\n",
    "v2 = np.random.rand(2048)\n",
    "list_1 = list(v1)\n",
    "list_2 = list(v2)"
   ]
  },
  {
   "cell_type": "code",
   "execution_count": null,
   "metadata": {},
   "outputs": [],
   "source": [
    "%%timeit\n",
    "list_3 = []\n",
    "for i in range(len(list_1)):\n",
    "    list_3.append(list_1[i] * list_2[i])\n",
    "sum(list_3)"
   ]
  },
  {
   "cell_type": "markdown",
   "metadata": {},
   "source": [
    "Можем чуть-чуть ускорить:"
   ]
  },
  {
   "cell_type": "code",
   "execution_count": null,
   "metadata": {},
   "outputs": [],
   "source": [
    "v1 = np.random.rand(2048)\n",
    "v2 = np.random.rand(2048)\n",
    "list_1 = list(v1)\n",
    "list_2 = list(v2)"
   ]
  },
  {
   "cell_type": "code",
   "execution_count": null,
   "metadata": {},
   "outputs": [],
   "source": [
    "%%timeit\n",
    "product = 0\n",
    "for x, y in zip(list_1, list_2):\n",
    "    product += x*y"
   ]
  },
  {
   "cell_type": "markdown",
   "metadata": {},
   "source": [
    "Однако это всё-равно на **порядки** отстаёт от производительность `numpy`"
   ]
  },
  {
   "cell_type": "code",
   "execution_count": null,
   "metadata": {},
   "outputs": [],
   "source": [
    "v1 = np.random.rand(2048)\n",
    "v2 = np.random.rand(2048)"
   ]
  },
  {
   "cell_type": "code",
   "execution_count": null,
   "metadata": {},
   "outputs": [],
   "source": [
    "%%timeit\n",
    "np.sum(v1 * v2)"
   ]
  }
 ],
 "metadata": {
  "kernelspec": {
   "display_name": "Python 3",
   "language": "python",
   "name": "python3"
  },
  "language_info": {
   "codemirror_mode": {
    "name": "ipython",
    "version": 3
   },
   "file_extension": ".py",
   "mimetype": "text/x-python",
   "name": "python",
   "nbconvert_exporter": "python",
   "pygments_lexer": "ipython3",
   "version": "3.6.5"
  }
 },
 "nbformat": 4,
 "nbformat_minor": 2
}
