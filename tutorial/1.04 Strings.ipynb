{
 "cells": [
  {
   "cell_type": "markdown",
   "metadata": {},
   "source": [
    "# Строки (str)\n",
    "Ещё одним важным типом данных являются строки. Чуть выше мы их слегка касались.\n",
    "\n",
    "## Создание\n",
    "### Обычные\n",
    "Строки в питоне записываются как в **одинарных** кавычках, так в **двойных** и даже в **тройных двойных** (!)."
   ]
  },
  {
   "cell_type": "code",
   "execution_count": null,
   "metadata": {},
   "outputs": [],
   "source": [
    "a = 'А это веселая птица-синица,'\n",
    "b = \"Которая часто ворует пшеницу,\"\n",
    "\n",
    "# А вот тройные кавычки поддерживают строки с переносами\n",
    "c = \"\"\"Которая в темном чулане хранится\n",
    "В доме,\n",
    "Который построил Джек.\"\"\"\n",
    "\n",
    "print(a)\n",
    "print(b)\n",
    "print(c)"
   ]
  },
  {
   "cell_type": "markdown",
   "metadata": {},
   "source": [
    "Если когда применять **двойные тройные** понятно, то использование **двойных** или **одинарных** - дело вкуса. \n",
    "Однако, если требуется вывести текст с **двойной** или **одинарной** кавычкой - нужно оборачивать в **одинарные** и **двойные** соответветсвенно:"
   ]
  },
  {
   "cell_type": "code",
   "execution_count": null,
   "metadata": {},
   "outputs": [],
   "source": [
    "print(\"Все идиоты, а я Д'Артаньян\") \n",
    "print('Вася и Петя поехали за \"закладкой\"')"
   ]
  },
  {
   "cell_type": "markdown",
   "metadata": {},
   "source": [
    "### f-strings:\n",
    "\n",
    "В python 3.6 и далее появились f-строки. f - значит formated. f-строки позволяют комбинировать переменные текст и значения переменных в строках. Это очень удобно когда дело доходит до вывода результатов и иже. f-строки заключаются в кавычки (любые), перед которыми стоит f. Далее пишется текст, а где нужно подставить значение переменной `var` пишется `{var}`. На словах мутно, на деле просто:"
   ]
  },
  {
   "cell_type": "code",
   "execution_count": null,
   "metadata": {},
   "outputs": [],
   "source": [
    "username = 'Штирлиц'\n",
    "message = f'А Вас, {username}, я попрошу остаться.'\n",
    "\n",
    "print(message)"
   ]
  },
  {
   "cell_type": "markdown",
   "metadata": {},
   "source": [
    "Переменных может быть море и они не обязательно должны быть текстовыми:"
   ]
  },
  {
   "cell_type": "code",
   "execution_count": null,
   "metadata": {},
   "outputs": [],
   "source": [
    "day = 11\n",
    "month = 'Декабря'\n",
    "amount = 3.14159\n",
    "\n",
    "print(f\"Объявление: {day} {month} возле собеса состоится раздача слонов - по {amount} слонов на человека\")"
   ]
  },
  {
   "cell_type": "markdown",
   "metadata": {},
   "source": [
    "## Создание строк из других объектов\n",
    "### Конструктором\n",
    "Можно передать в конструктор класса `str()` объект (число, список, etc.) и получить соответстующую строку:"
   ]
  },
  {
   "cell_type": "code",
   "execution_count": null,
   "metadata": {},
   "outputs": [],
   "source": [
    "L = [1, 2, 3]\n",
    "\n",
    "print(f'L = {L}, type(L) = {type(L)}')\n",
    "print(f'str(L) = {str(L)}, type(str(L)) = {type(str(L))}')\n",
    "\n",
    "print(f'\\nstr(10) = {str(10)}, type(str(10)) = {type(str(10))}')\n",
    "print(f'\\nstr(1 / 3) = {str(1 / 3)}, type(str(1 / 3)) = {type(str(1 / 3))}')"
   ]
  },
  {
   "cell_type": "markdown",
   "metadata": {},
   "source": [
    "### Методом string.join()\n",
    "\n",
    "Метод некоторой строки `string` `string.join(list)` создаёт новую строку из списка строк, используя `string` как разделитель:"
   ]
  },
  {
   "cell_type": "code",
   "execution_count": null,
   "metadata": {},
   "outputs": [],
   "source": [
    "actions = ['Открыть', 'налить', 'закрыть', 'выпить', 'повторить']\n",
    "plot = ' --> '.join(actions)\n",
    "\n",
    "print('plot =', plot)\n"
   ]
  },
  {
   "cell_type": "markdown",
   "metadata": {},
   "source": [
    "---\n",
    "## Строка - это список, но не совсем\n",
    "\n",
    "К элементам строки, как и к элементам списка можно обращаться по индексу и по срезам:"
   ]
  },
  {
   "cell_type": "code",
   "execution_count": null,
   "metadata": {},
   "outputs": [],
   "source": [
    "s = \"Каждый охотник желает знать где сидит фазан\"\n",
    "\n",
    "print(f's = {s}')\n",
    "print(f's[0] = {s[0]}')\n",
    "print(f's[0:6] = {s[0:6]}')"
   ]
  },
  {
   "cell_type": "markdown",
   "metadata": {},
   "source": [
    "И так же поддерживает индексацию с конца:"
   ]
  },
  {
   "cell_type": "code",
   "execution_count": null,
   "metadata": {},
   "outputs": [],
   "source": [
    "s = \"Каждый охотник желает знать где сидит фазан\"\n",
    "print(f's = {s}')\n",
    "print(f's[-1] = {s[-1]}')\n",
    "print(f's[-5:] = {s[-5:]}')"
   ]
  },
  {
   "cell_type": "markdown",
   "metadata": {},
   "source": [
    "Однако, в отличии от списков, строки являются **неизменяемыми**:"
   ]
  },
  {
   "cell_type": "code",
   "execution_count": null,
   "metadata": {},
   "outputs": [],
   "source": [
    "s = \"Чудак\"\n",
    "s[0] = 'С'"
   ]
  },
  {
   "cell_type": "markdown",
   "metadata": {},
   "source": [
    "То есть, нельзя так просто взять и поменять букву в строке. Для этого существуют специальные методы"
   ]
  },
  {
   "cell_type": "markdown",
   "metadata": {},
   "source": [
    "---\n",
    "## Операции со строками\n",
    "### Конкатенация (+)\n",
    "\n",
    "Конкатенация строк в python проводится простым оператором сложения:"
   ]
  },
  {
   "cell_type": "code",
   "execution_count": null,
   "metadata": {},
   "outputs": [],
   "source": [
    "s1 = 'Hello'\n",
    "s2 = 'world'\n",
    "s3 = s1 + ' ' + s2 + '!'\n",
    "\n",
    "print(f's1 = {s1}')\n",
    "print(f's2 = {s2}')\n",
    "print(f\"\\ns3 = s1 + ' ' + s2 + '!' = {s3}\")"
   ]
  },
  {
   "cell_type": "markdown",
   "metadata": {},
   "source": [
    "### Повтор (*)\n",
    "\n",
    "Бывает, что возникает задача удлинение строки повторами:"
   ]
  },
  {
   "cell_type": "code",
   "execution_count": null,
   "metadata": {},
   "outputs": [],
   "source": [
    "s1 = 'тык-дык '\n",
    "s2 = s1 * 10\n",
    "\n",
    "print(f's1 = {s1}')\n",
    "print(f's2 = s1 * 10 = {s2}')"
   ]
  },
  {
   "cell_type": "markdown",
   "metadata": {},
   "source": [
    "### Замена (replace)\n",
    "\n",
    "Метод строки `str.replace(x, y)` заменяет все вхождения `x` на `y` и *возвращает новую строку*, поскольку строка - объект неизменяемый:"
   ]
  },
  {
   "cell_type": "code",
   "execution_count": null,
   "metadata": {},
   "outputs": [],
   "source": [
    "msg = 'Hello world!'\n",
    "\n",
    "print(f'msg = {msg}')\n",
    "print(f'msg.replace(\"!\", \"?\") ={msg.replace(\"!\", \"?\")}')\n",
    "print(f'msg = {msg}')"
   ]
  },
  {
   "cell_type": "markdown",
   "metadata": {},
   "source": [
    "Если очень хочется поменять исходную - то можно сделать вот так:"
   ]
  },
  {
   "cell_type": "code",
   "execution_count": null,
   "metadata": {},
   "outputs": [],
   "source": [
    "msg = 'Hello world!'\n",
    "print(f'msg = {msg}')\n",
    "\n",
    "msg = msg.replace('o', '0')\n",
    "msg = msg.replace('l', '1')\n",
    "\n",
    "print(f'msg (after replaces) = {msg}')"
   ]
  },
  {
   "cell_type": "markdown",
   "metadata": {},
   "source": [
    "### Длина строки (len)\n",
    "\n",
    "Напоминаю, метод ядра python `len()` возвращает длину любых итерируемых объектов. А строк итерируемый объект:"
   ]
  },
  {
   "cell_type": "code",
   "execution_count": null,
   "metadata": {},
   "outputs": [],
   "source": [
    "msg = 'Hello world!'\n",
    "print(f'msg = {msg}, len(msg) = {len(msg)}')\n",
    "print(f'Как и в случае с list, длина строки хранится там же: msg.__len__() = {msg.__len__()}')"
   ]
  },
  {
   "cell_type": "markdown",
   "metadata": {},
   "source": [
    "Можно использовать для подсчёта количества знаков в очень длинных числах:"
   ]
  },
  {
   "cell_type": "code",
   "execution_count": null,
   "metadata": {},
   "outputs": [],
   "source": [
    "from math import factorial\n",
    "N = 1024\n",
    "freakin_huge_number = factorial(N)\n",
    "print(f'freakin_huge_number = {freakin_huge_number}')\n",
    "print(f'\\nВ числе {N}! содержится {len(str(freakin_huge_number))} знаков')"
   ]
  },
  {
   "cell_type": "markdown",
   "metadata": {},
   "source": [
    "### Поиск подстроки (find, rfind)\n",
    "\n",
    "Опять же, распространённая задача - найти подстроку в строке. Для этого можно воспользоваться методом строки `str.find(sub)` или `str.find(sub)`, которые возвращают индекс первого или последнего вхождения соответственно"
   ]
  },
  {
   "cell_type": "code",
   "execution_count": null,
   "metadata": {},
   "outputs": [],
   "source": [
    "msg = 'Hello world!'\n",
    "\n",
    "print(f'msg = {msg}')\n",
    "\n",
    "print(f\"\\nmsg.find('l') = {msg.find('l')}\")\n",
    "print(f\"msg.rfind('l') = {msg.rfind('l')}\")\n",
    "\n",
    "print(f\"\\nmsg.find('wo') = {msg.find('wo')}\")\n",
    "      \n",
    "print(f\"\\nmsg.find('x') = {msg.find('x')} <--- если подстрока не найдена возвращается -1\")"
   ]
  },
  {
   "cell_type": "markdown",
   "metadata": {},
   "source": [
    "### Проверка подстроки на вхождение:\n",
    "\n",
    "Если не обязательно знать положение подстроки в строке, а только знать факт вхождение, как должно выглядеть условие? `string.find(sub) != -1`. Однако, python отличается лаконичностью, поэтому условие можно записать выразительнее: `sub in string`."
   ]
  },
  {
   "cell_type": "code",
   "execution_count": null,
   "metadata": {},
   "outputs": [],
   "source": [
    "msg = 'Hello world!'\n",
    "\n",
    "print(f'msg = {msg}')\n",
    "print(f\"\\n'l' in msg = {'l' in msg}\")\n",
    "print(f\"'x' in msg = {'x' in msg}\")"
   ]
  },
  {
   "cell_type": "markdown",
   "metadata": {},
   "source": [
    "### Изменение регистра (upper, lower, swapcase)\n",
    "\n",
    "Для работы с регистром существуют методы строки `str.upper()`, `str.lower()`, `str.swapcase()` которые переводят строку в верхний регистр, нижний регистр и меняют регистр соответственно:"
   ]
  },
  {
   "cell_type": "code",
   "execution_count": null,
   "metadata": {},
   "outputs": [],
   "source": [
    "msg = 'Hello world!'\n",
    "\n",
    "print(f'msg = {msg}')\n",
    "print(f'\\nmsg.upper() = {msg.upper()}')\n",
    "print(f'msg.lower() = {msg.lower()}')\n",
    "print(f'msg.swapcase() = {msg.swapcase()}')"
   ]
  },
  {
   "cell_type": "markdown",
   "metadata": {},
   "source": [
    "Все эти методы **не изменяют** исходную строку, а создают новый объект"
   ]
  },
  {
   "cell_type": "markdown",
   "metadata": {},
   "source": [
    "### Начало и конец (startswith, endswith)\n",
    "\n",
    "Если требуется проверить, что строка начинается с подстроки `sub` или заканчивается ей реализованы методы `str.startswith(sub)` и `str.endswith(sub)` соответственно:"
   ]
  },
  {
   "cell_type": "code",
   "execution_count": null,
   "metadata": {},
   "outputs": [],
   "source": [
    "msg = 'Hello world!'\n",
    "\n",
    "print(f'msg = {msg}')\n",
    "print(f'\\nmsg.startswith(\"Hello\") = {msg.startswith(\"Hello\")}')\n",
    "print(f'msg.startswith(\"hello\") = {msg.startswith(\"hello\")}')\n",
    "print(f'\\nmsg.endswith(\"!\") = {msg.endswith(\"!\")}')"
   ]
  },
  {
   "cell_type": "markdown",
   "metadata": {},
   "source": [
    "### Разбиение на список строк (split)\n",
    "\n",
    "Строку можно разбить на составляющие части и сохранить это в список. Операция, по сути, обратная `str.join()`. Например, для разбиения по словам:"
   ]
  },
  {
   "cell_type": "code",
   "execution_count": null,
   "metadata": {},
   "outputs": [],
   "source": [
    "msg = 'Каждый охотник желает знать где сидит фазан'\n",
    "words = msg.lower().split(' ')\n",
    "\n",
    "print(f'msg = {msg}')\n",
    "print(f\"words = msg.lower().split(' ') = {words}\")"
   ]
  }
 ],
 "metadata": {
  "kernelspec": {
   "display_name": "Python 3",
   "language": "python",
   "name": "python3"
  },
  "language_info": {
   "codemirror_mode": {
    "name": "ipython",
    "version": 3
   },
   "file_extension": ".py",
   "mimetype": "text/x-python",
   "name": "python",
   "nbconvert_exporter": "python",
   "pygments_lexer": "ipython3",
   "version": "3.6.5"
  }
 },
 "nbformat": 4,
 "nbformat_minor": 2
}
